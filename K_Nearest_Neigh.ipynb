{
 "cells": [
  {
   "cell_type": "code",
   "execution_count": 3,
   "metadata": {
    "ExecuteTime": {
     "end_time": "2021-04-23T03:45:19.473844Z",
     "start_time": "2021-04-23T03:45:19.414028Z"
    }
   },
   "outputs": [
    {
     "name": "stderr",
     "output_type": "stream",
     "text": [
      "<ipython-input-3-783364ecbd3a>:7: SettingWithCopyWarning: \n",
      "A value is trying to be set on a copy of a slice from a DataFrame\n",
      "\n",
      "See the caveats in the documentation: https://pandas.pydata.org/pandas-docs/stable/user_guide/indexing.html#returning-a-view-versus-a-copy\n",
      "  df.rainfall[(df.rainfall < .3*lv )]= .3*lv\n"
     ]
    },
    {
     "data": {
      "text/plain": [
       "0.6398328264530885"
      ]
     },
     "execution_count": 3,
     "metadata": {},
     "output_type": "execute_result"
    }
   ],
   "source": [
    "import numpy as np\n",
    "import pandas as pd\n",
    "import seaborn as sns\n",
    "df=pd.read_csv('C:/Users/Specter/Desktop/resources/Data Files/2. ST Academy - Classification models resource files/House-Price.csv',header =0)\n",
    "uv=np.percentile(df.n_hot_rooms,[99])[0]\n",
    "lv=np.percentile(df.rainfall,[1])[0]\n",
    "df.rainfall[(df.rainfall < .3*lv )]= .3*lv\n",
    "df.n_hos_beds=df.n_hos_beds.fillna(df.n_hos_beds.mean())\n",
    "df['avg_dist'] = (df.dist1+df.dist2+df.dist3+df.dist4)/4\n",
    "del df['dist1']\n",
    "del df['dist2']\n",
    "del df['dist3']\n",
    "del df['dist4']\n",
    "del df['bus_ter']\n",
    "df=pd.get_dummies(df)\n",
    "del df['airport_NO']\n",
    "del df['waterbody_None']\n",
    "del df['parks']\n",
    "import statsmodels.api as sn\n",
    "from sklearn.linear_model import LinearRegression\n",
    "X_multi = df.drop('price',axis = 1)\n",
    "y_multi = df['price']\n",
    "X_multi_cons = sn.add_constant(X_multi)\n",
    "lm_multi = sn.OLS(y_multi, X_multi_cons).fit()\n",
    "lm3 = LinearRegression()\n",
    "lm3.fit(X_multi,y_multi)\n",
    "from sklearn.model_selection import train_test_split\n",
    "X_train, X_test, y_train, y_test = train_test_split(X_multi,y_multi, test_size = .2, random_state = 0)\n",
    "lm_a = LinearRegression()\n",
    "lm_a.fit(X_train,y_train)\n",
    "y_test_a = lm_a.predict(X_test) #predicted\n",
    "y_train_a = lm_a.predict(X_train)\n",
    "from sklearn.metrics import r2_score\n",
    "r2_score(y_test, y_test_a) #Use this to evaluate the performance of the model"
   ]
  },
  {
   "cell_type": "code",
   "execution_count": 1,
   "metadata": {
    "ExecuteTime": {
     "end_time": "2021-04-25T03:37:24.738781Z",
     "start_time": "2021-04-25T03:37:18.119562Z"
    }
   },
   "outputs": [
    {
     "name": "stderr",
     "output_type": "stream",
     "text": [
      "<ipython-input-1-4cc4c5352d8a>:7: SettingWithCopyWarning: \n",
      "A value is trying to be set on a copy of a slice from a DataFrame\n",
      "\n",
      "See the caveats in the documentation: https://pandas.pydata.org/pandas-docs/stable/user_guide/indexing.html#returning-a-view-versus-a-copy\n",
      "  df.rainfall[(df.rainfall < .3*lv )]= .3*lv\n",
      "C:\\ProgramData\\Anaconda3\\lib\\site-packages\\sklearn\\utils\\validation.py:67: FutureWarning: Pass param_name=alpha, param_range=[1.00000000e-02 1.26185688e-02 1.59228279e-02 2.00923300e-02\n",
      " 2.53536449e-02 3.19926714e-02 4.03701726e-02 5.09413801e-02\n",
      " 6.42807312e-02 8.11130831e-02 1.02353102e-01 1.29154967e-01\n",
      " 1.62975083e-01 2.05651231e-01 2.59502421e-01 3.27454916e-01\n",
      " 4.13201240e-01 5.21400829e-01 6.57933225e-01 8.30217568e-01\n",
      " 1.04761575e+00 1.32194115e+00 1.66810054e+00 2.10490414e+00\n",
      " 2.65608778e+00 3.35160265e+00 4.22924287e+00 5.33669923e+00\n",
      " 6.73415066e+00 8.49753436e+00 1.07226722e+01 1.35304777e+01\n",
      " 1.70735265e+01 2.15443469e+01 2.71858824e+01 3.43046929e+01\n",
      " 4.32876128e+01 5.46227722e+01 6.89261210e+01 8.69749003e+01\n",
      " 1.09749877e+02 1.38488637e+02 1.74752840e+02 2.20513074e+02\n",
      " 2.78255940e+02 3.51119173e+02 4.43062146e+02 5.59081018e+02\n",
      " 7.05480231e+02 8.90215085e+02 1.12332403e+03 1.41747416e+03\n",
      " 1.78864953e+03 2.25701972e+03 2.84803587e+03 3.59381366e+03\n",
      " 4.53487851e+03 5.72236766e+03 7.22080902e+03 9.11162756e+03\n",
      " 1.14975700e+04 1.45082878e+04 1.83073828e+04 2.31012970e+04\n",
      " 2.91505306e+04 3.67837977e+04 4.64158883e+04 5.85702082e+04\n",
      " 7.39072203e+04 9.32603347e+04 1.17681195e+05 1.48496826e+05\n",
      " 1.87381742e+05 2.36448941e+05 2.98364724e+05 3.76493581e+05\n",
      " 4.75081016e+05 5.99484250e+05 7.56463328e+05 9.54548457e+05\n",
      " 1.20450354e+06 1.51991108e+06 1.91791026e+06 2.42012826e+06\n",
      " 3.05385551e+06 3.85352859e+06 4.86260158e+06 6.13590727e+06\n",
      " 7.74263683e+06 9.77009957e+06 1.23284674e+07 1.55567614e+07\n",
      " 1.96304065e+07 2.47707636e+07 3.12571585e+07 3.94420606e+07\n",
      " 4.97702356e+07 6.28029144e+07 7.92482898e+07 1.00000000e+08] as keyword args. From version 0.25 passing these as positional arguments will result in an error\n",
      "  warnings.warn(\"Pass {} as keyword args. From version 0.25 \"\n"
     ]
    },
    {
     "data": {
      "text/plain": [
       "(array([25], dtype=int64),)"
      ]
     },
     "execution_count": 1,
     "metadata": {},
     "output_type": "execute_result"
    }
   ],
   "source": [
    "import numpy as np\n",
    "import pandas as pd\n",
    "import seaborn as sns\n",
    "df=pd.read_csv('C:/Users/Specter/Desktop/resources/Data Files/2. ST Academy - Classification models resource files/House-Price.csv',header =0)\n",
    "uv=np.percentile(df.n_hot_rooms,[99])[0]\n",
    "lv=np.percentile(df.rainfall,[1])[0]\n",
    "df.rainfall[(df.rainfall < .3*lv )]= .3*lv\n",
    "df.n_hos_beds=df.n_hos_beds.fillna(df.n_hos_beds.mean())\n",
    "df['avg_dist'] = (df.dist1+df.dist2+df.dist3+df.dist4)/4\n",
    "del df['dist1']\n",
    "del df['dist2']\n",
    "del df['dist3']\n",
    "del df['dist4']\n",
    "del df['bus_ter']\n",
    "df=pd.get_dummies(df)\n",
    "del df['airport_NO']\n",
    "del df['waterbody_None']\n",
    "del df['parks']\n",
    "import statsmodels.api as sn\n",
    "from sklearn.linear_model import LinearRegression\n",
    "X_multi = df.drop('Sold',axis = 1)\n",
    "y_multi = df['Sold']\n",
    "X_multi_cons = sn.add_constant(X_multi)\n",
    "from sklearn.model_selection import train_test_split\n",
    "X_train, X_test, y_train, y_test = train_test_split(X_multi,y_multi, test_size = .2, random_state = 0)\n",
    "lm_a = LinearRegression()\n",
    "lm_a.fit(X_train,y_train)\n",
    "y_test_a = lm_a.predict(X_test) #predicted\n",
    "y_train_a = lm_a.predict(X_train)\n",
    "from sklearn.metrics import r2_score\n",
    "from sklearn import preprocessing\n",
    "scalar = preprocessing.StandardScaler().fit(X_train)\n",
    "X_train_s = scalar.transform(X_train)\n",
    "X_test_s = scalar.transform(X_test)\n",
    "from sklearn.linear_model import Ridge\n",
    "lm_r = Ridge(alpha = 0.5)\n",
    "lm_r.fit(X_train_s, y_train)\n",
    "r2_score(y_test, lm_r.predict(X_test_s))\n",
    "from sklearn.model_selection import validation_curve\n",
    "param_range = np.logspace(-2,8,100)\n",
    "train_scores, test_scores = validation_curve(Ridge(), X_train_s, y_train, 'alpha', param_range, scoring= 'r2' )\n",
    "train_mean = np.mean(train_scores, axis =1)\n",
    "test_mean = np.mean(test_scores, axis =1)\n",
    "np.where(test_mean==max(test_mean))"
   ]
  },
  {
   "cell_type": "code",
   "execution_count": 2,
   "metadata": {
    "ExecuteTime": {
     "end_time": "2021-04-25T03:37:28.359495Z",
     "start_time": "2021-04-25T03:37:28.348481Z"
    }
   },
   "outputs": [
    {
     "data": {
      "text/plain": [
       "0.21045948618137766"
      ]
     },
     "execution_count": 2,
     "metadata": {},
     "output_type": "execute_result"
    }
   ],
   "source": [
    "lm_r_best = Ridge(alpha=param_range[28])\n",
    "lm_r_best.fit(X_train_s,y_train)\n",
    "r2_score(y_test, lm_r_best.predict(X_test_s))\n",
    "r2_score(y_train, lm_r_best.predict(X_train_s))"
   ]
  },
  {
   "cell_type": "code",
   "execution_count": 3,
   "metadata": {
    "ExecuteTime": {
     "end_time": "2021-04-25T03:37:34.001589Z",
     "start_time": "2021-04-25T03:37:33.825055Z"
    }
   },
   "outputs": [],
   "source": [
    "from sklearn.neighbors import KNeighborsClassifier\n",
    "clf_knn_1 = KNeighborsClassifier(n_neighbors=1)"
   ]
  },
  {
   "cell_type": "code",
   "execution_count": 4,
   "metadata": {
    "ExecuteTime": {
     "end_time": "2021-04-25T03:37:35.160388Z",
     "start_time": "2021-04-25T03:37:35.138446Z"
    }
   },
   "outputs": [
    {
     "data": {
      "text/plain": [
       "KNeighborsClassifier(n_neighbors=1)"
      ]
     },
     "execution_count": 4,
     "metadata": {},
     "output_type": "execute_result"
    }
   ],
   "source": [
    "clf_knn_1.fit(X_train_s , y_train)"
   ]
  },
  {
   "cell_type": "code",
   "execution_count": 5,
   "metadata": {
    "ExecuteTime": {
     "end_time": "2021-04-25T03:37:36.227952Z",
     "start_time": "2021-04-25T03:37:36.218977Z"
    }
   },
   "outputs": [],
   "source": [
    "from sklearn.metrics import confusion_matrix\n"
   ]
  },
  {
   "cell_type": "code",
   "execution_count": 6,
   "metadata": {
    "ExecuteTime": {
     "end_time": "2021-04-25T03:37:38.542685Z",
     "start_time": "2021-04-25T03:37:38.520744Z"
    }
   },
   "outputs": [
    {
     "data": {
      "text/plain": [
       "array([[31, 27],\n",
       "       [24, 20]], dtype=int64)"
      ]
     },
     "execution_count": 6,
     "metadata": {},
     "output_type": "execute_result"
    }
   ],
   "source": [
    "confusion_matrix(y_test, clf_knn_1.predict(X_test_s))"
   ]
  },
  {
   "cell_type": "code",
   "execution_count": 16,
   "metadata": {
    "ExecuteTime": {
     "end_time": "2021-04-23T03:57:07.249540Z",
     "start_time": "2021-04-23T03:57:07.236553Z"
    }
   },
   "outputs": [
    {
     "name": "stdout",
     "output_type": "stream",
     "text": [
      "Object `accuracy_score` not found.\n"
     ]
    }
   ],
   "source": [
    "accuracy_score?\n"
   ]
  },
  {
   "cell_type": "code",
   "execution_count": 7,
   "metadata": {
    "ExecuteTime": {
     "end_time": "2021-04-25T03:37:43.723647Z",
     "start_time": "2021-04-25T03:37:43.715670Z"
    }
   },
   "outputs": [],
   "source": [
    "\n",
    "from sklearn.metrics import precision_score, recall_score, accuracy_score"
   ]
  },
  {
   "cell_type": "code",
   "execution_count": 8,
   "metadata": {
    "ExecuteTime": {
     "end_time": "2021-04-25T03:37:44.589331Z",
     "start_time": "2021-04-25T03:37:44.572377Z"
    }
   },
   "outputs": [
    {
     "data": {
      "text/plain": [
       "0.5"
      ]
     },
     "execution_count": 8,
     "metadata": {},
     "output_type": "execute_result"
    }
   ],
   "source": [
    "accuracy_score(y_test, clf_knn_1.predict(X_test_s))"
   ]
  },
  {
   "cell_type": "code",
   "execution_count": 9,
   "metadata": {
    "ExecuteTime": {
     "end_time": "2021-04-25T03:37:45.485466Z",
     "start_time": "2021-04-25T03:37:45.462536Z"
    }
   },
   "outputs": [
    {
     "data": {
      "text/plain": [
       "0.5098039215686274"
      ]
     },
     "execution_count": 9,
     "metadata": {},
     "output_type": "execute_result"
    }
   ],
   "source": [
    "clf_knn_3 = KNeighborsClassifier(n_neighbors=3)\n",
    "clf_knn_3.fit(X_train_s, y_train)\n",
    "accuracy_score(y_test,clf_knn_3.predict(X_test_s))"
   ]
  },
  {
   "cell_type": "code",
   "execution_count": 11,
   "metadata": {
    "ExecuteTime": {
     "end_time": "2021-04-25T03:39:42.657472Z",
     "start_time": "2021-04-25T03:39:42.644498Z"
    }
   },
   "outputs": [],
   "source": [
    "#Single model for multiple values of K\n",
    "from sklearn.model_selection import GridSearchCV"
   ]
  },
  {
   "cell_type": "code",
   "execution_count": 25,
   "metadata": {
    "ExecuteTime": {
     "end_time": "2021-04-25T03:47:27.246334Z",
     "start_time": "2021-04-25T03:47:27.233392Z"
    }
   },
   "outputs": [],
   "source": [
    "params = {'n_neighbors':range(1,101)}"
   ]
  },
  {
   "cell_type": "code",
   "execution_count": 26,
   "metadata": {
    "ExecuteTime": {
     "end_time": "2021-04-25T03:47:28.397138Z",
     "start_time": "2021-04-25T03:47:28.385171Z"
    }
   },
   "outputs": [
    {
     "data": {
      "text/plain": [
       "{'n_neighbors': range(1, 101)}"
      ]
     },
     "execution_count": 26,
     "metadata": {},
     "output_type": "execute_result"
    }
   ],
   "source": [
    "params"
   ]
  },
  {
   "cell_type": "code",
   "execution_count": 27,
   "metadata": {
    "ExecuteTime": {
     "end_time": "2021-04-25T03:47:38.570589Z",
     "start_time": "2021-04-25T03:47:38.561627Z"
    }
   },
   "outputs": [],
   "source": [
    "grid_search_cv = GridSearchCV(KNeighborsClassifier(), params)"
   ]
  },
  {
   "cell_type": "code",
   "execution_count": 28,
   "metadata": {
    "ExecuteTime": {
     "end_time": "2021-04-25T03:47:44.034451Z",
     "start_time": "2021-04-25T03:47:40.889604Z"
    }
   },
   "outputs": [
    {
     "data": {
      "text/plain": [
       "GridSearchCV(estimator=KNeighborsClassifier(),\n",
       "             param_grid={'n_neighbors': range(1, 101)})"
      ]
     },
     "execution_count": 28,
     "metadata": {},
     "output_type": "execute_result"
    }
   ],
   "source": [
    "grid_search_cv.fit(X_train_s, y_train)"
   ]
  },
  {
   "cell_type": "code",
   "execution_count": 29,
   "metadata": {
    "ExecuteTime": {
     "end_time": "2021-04-25T03:47:47.074434Z",
     "start_time": "2021-04-25T03:47:47.065446Z"
    }
   },
   "outputs": [
    {
     "data": {
      "text/plain": [
       "{'n_neighbors': 12}"
      ]
     },
     "execution_count": 29,
     "metadata": {},
     "output_type": "execute_result"
    }
   ],
   "source": [
    "grid_search_cv.best_params_"
   ]
  },
  {
   "cell_type": "code",
   "execution_count": 30,
   "metadata": {
    "ExecuteTime": {
     "end_time": "2021-04-25T03:47:50.328577Z",
     "start_time": "2021-04-25T03:47:50.318588Z"
    }
   },
   "outputs": [],
   "source": [
    "optimised_KNN = grid_search_cv.best_estimator_"
   ]
  },
  {
   "cell_type": "code",
   "execution_count": 31,
   "metadata": {
    "ExecuteTime": {
     "end_time": "2021-04-25T03:47:50.955582Z",
     "start_time": "2021-04-25T03:47:50.945574Z"
    }
   },
   "outputs": [],
   "source": [
    "y_test_pred = optimised_KNN.predict(X_test_s)"
   ]
  },
  {
   "cell_type": "code",
   "execution_count": 32,
   "metadata": {
    "ExecuteTime": {
     "end_time": "2021-04-25T03:47:51.737547Z",
     "start_time": "2021-04-25T03:47:51.725579Z"
    }
   },
   "outputs": [
    {
     "data": {
      "text/plain": [
       "array([[40, 18],\n",
       "       [25, 19]], dtype=int64)"
      ]
     },
     "execution_count": 32,
     "metadata": {},
     "output_type": "execute_result"
    }
   ],
   "source": [
    "confusion_matrix(y_test, y_test_pred)"
   ]
  },
  {
   "cell_type": "code",
   "execution_count": 33,
   "metadata": {
    "ExecuteTime": {
     "end_time": "2021-04-25T03:47:55.460349Z",
     "start_time": "2021-04-25T03:47:55.440363Z"
    }
   },
   "outputs": [
    {
     "data": {
      "text/plain": [
       "0.5784313725490197"
      ]
     },
     "execution_count": 33,
     "metadata": {},
     "output_type": "execute_result"
    }
   ],
   "source": [
    "accuracy_score(y_test, y_test_pred)"
   ]
  },
  {
   "cell_type": "code",
   "execution_count": null,
   "metadata": {},
   "outputs": [],
   "source": []
  }
 ],
 "metadata": {
  "kernelspec": {
   "display_name": "Python 3",
   "language": "python",
   "name": "python3"
  },
  "language_info": {
   "codemirror_mode": {
    "name": "ipython",
    "version": 3
   },
   "file_extension": ".py",
   "mimetype": "text/x-python",
   "name": "python",
   "nbconvert_exporter": "python",
   "pygments_lexer": "ipython3",
   "version": "3.8.5"
  },
  "toc": {
   "base_numbering": 1,
   "nav_menu": {},
   "number_sections": true,
   "sideBar": true,
   "skip_h1_title": false,
   "title_cell": "Table of Contents",
   "title_sidebar": "Contents",
   "toc_cell": false,
   "toc_position": {},
   "toc_section_display": true,
   "toc_window_display": false
  }
 },
 "nbformat": 4,
 "nbformat_minor": 4
}
