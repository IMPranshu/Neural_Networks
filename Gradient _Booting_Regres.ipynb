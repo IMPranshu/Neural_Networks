{
 "cells": [
  {
   "cell_type": "code",
   "execution_count": 1,
   "metadata": {
    "ExecuteTime": {
     "end_time": "2021-05-05T13:47:58.325864Z",
     "start_time": "2021-05-05T13:47:53.104613Z"
    }
   },
   "outputs": [
    {
     "name": "stdout",
     "output_type": "stream",
     "text": [
      "<class 'pandas.core.frame.DataFrame'>\n",
      "RangeIndex: 506 entries, 0 to 505\n",
      "Data columns (total 18 columns):\n",
      " #   Column               Non-Null Count  Dtype  \n",
      "---  ------               --------------  -----  \n",
      " 0   Marketing expense    506 non-null    float64\n",
      " 1   Production expense   506 non-null    float64\n",
      " 2   Multiplex coverage   506 non-null    float64\n",
      " 3   Budget               506 non-null    float64\n",
      " 4   Movie_length         506 non-null    float64\n",
      " 5   Lead_ Actor_Rating   506 non-null    float64\n",
      " 6   Lead_Actress_rating  506 non-null    float64\n",
      " 7   Director_rating      506 non-null    float64\n",
      " 8   Producer_rating      506 non-null    float64\n",
      " 9   Critic_rating        506 non-null    float64\n",
      " 10  Trailer_views        506 non-null    int64  \n",
      " 11  3D_available         506 non-null    object \n",
      " 12  Time_taken           506 non-null    float64\n",
      " 13  Twitter_hastags      506 non-null    float64\n",
      " 14  Genre                506 non-null    object \n",
      " 15  Avg_age_actors       506 non-null    int64  \n",
      " 16  Num_multiplex        506 non-null    int64  \n",
      " 17  Collection           506 non-null    int64  \n",
      "dtypes: float64(12), int64(4), object(2)\n",
      "memory usage: 71.3+ KB\n"
     ]
    },
    {
     "data": {
      "text/plain": [
       "0.7658677569028114"
      ]
     },
     "execution_count": 1,
     "metadata": {},
     "output_type": "execute_result"
    }
   ],
   "source": [
    "import numpy as np\n",
    "import pandas as pd\n",
    "import seaborn as sns\n",
    "import matplotlib.pyplot as plt\n",
    "df = pd.read_csv('C:/Users/Specter/Desktop/resources/Data Files/3. ST Academy - Decision Trees resource files/Movie_regression.csv', header = 0)\n",
    "df['Time_taken'].mean()\n",
    "df['Time_taken'].fillna(value = df['Time_taken'].mean(), inplace= True  )\n",
    "df.info()\n",
    "df.head()\n",
    "df = pd.get_dummies(df, columns= ['3D_available','Genre'], drop_first= True)\n",
    "X = df.loc[:, df.columns != 'Collection']\n",
    "y = df['Collection']\n",
    "from sklearn.model_selection import train_test_split\n",
    "X_train, X_test, y_train, y_test = train_test_split(X, y, test_size=0.2, random_state=0)\n",
    "X_train.shape\n",
    "from sklearn import tree\n",
    "from sklearn.ensemble import GradientBoostingRegressor\n",
    "gbc_reg = GradientBoostingRegressor()\n",
    "gbc_reg.fit(X_train,y_train)\n",
    "y_train_pred = gbc_reg.predict(X_train)\n",
    "y_test_pred = gbc_reg.predict(X_test)\n",
    "from sklearn.metrics import mean_squared_error, r2_score\n",
    "mean_squared_error(y_test, y_test_pred)\n",
    "r2_score(y_train, y_train_pred)\n",
    "r2_score(y_test, y_test_pred)"
   ]
  },
  {
   "cell_type": "code",
   "execution_count": 2,
   "metadata": {
    "ExecuteTime": {
     "end_time": "2021-05-05T13:48:15.091566Z",
     "start_time": "2021-05-05T13:48:13.557670Z"
    }
   },
   "outputs": [
    {
     "name": "stdout",
     "output_type": "stream",
     "text": [
      "<class 'pandas.core.frame.DataFrame'>\n",
      "RangeIndex: 506 entries, 0 to 505\n",
      "Data columns (total 18 columns):\n",
      " #   Column               Non-Null Count  Dtype  \n",
      "---  ------               --------------  -----  \n",
      " 0   Marketing expense    506 non-null    float64\n",
      " 1   Production expense   506 non-null    float64\n",
      " 2   Multiplex coverage   506 non-null    float64\n",
      " 3   Budget               506 non-null    float64\n",
      " 4   Movie_length         506 non-null    float64\n",
      " 5   Lead_ Actor_Rating   506 non-null    float64\n",
      " 6   Lead_Actress_rating  506 non-null    float64\n",
      " 7   Director_rating      506 non-null    float64\n",
      " 8   Producer_rating      506 non-null    float64\n",
      " 9   Critic_rating        506 non-null    float64\n",
      " 10  Trailer_views        506 non-null    int64  \n",
      " 11  3D_available         506 non-null    object \n",
      " 12  Time_taken           506 non-null    float64\n",
      " 13  Twitter_hastags      506 non-null    float64\n",
      " 14  Genre                506 non-null    object \n",
      " 15  Avg_age_actors       506 non-null    int64  \n",
      " 16  Num_multiplex        506 non-null    int64  \n",
      " 17  Collection           506 non-null    int64  \n",
      "dtypes: float64(12), int64(4), object(2)\n",
      "memory usage: 71.3+ KB\n"
     ]
    },
    {
     "data": {
      "text/plain": [
       "0.7029057597418207"
      ]
     },
     "execution_count": 2,
     "metadata": {},
     "output_type": "execute_result"
    }
   ],
   "source": [
    "import numpy as np\n",
    "import pandas as pd\n",
    "import seaborn as sns\n",
    "import matplotlib.pyplot as plt\n",
    "df = pd.read_csv('C:/Users/Specter/Desktop/resources/Data Files/3. ST Academy - Decision Trees resource files/Movie_regression.csv', header = 0)\n",
    "df['Time_taken'].mean()\n",
    "df['Time_taken'].fillna(value = df['Time_taken'].mean(), inplace= True  )\n",
    "df.info()\n",
    "df.head()\n",
    "df = pd.get_dummies(df, columns= ['3D_available','Genre'], drop_first= True)\n",
    "X = df.loc[:, df.columns != 'Collection']\n",
    "y = df['Collection']\n",
    "from sklearn.model_selection import train_test_split\n",
    "X_train, X_test, y_train, y_test = train_test_split(X, y, test_size=0.2, random_state=0)\n",
    "X_train.shape\n",
    "from sklearn import tree\n",
    "from sklearn.ensemble import GradientBoostingRegressor\n",
    "gbc_reg = GradientBoostingRegressor(learning_rate=0.02, n_estimators=1000, max_depth=1)\n",
    "gbc_reg.fit(X_train,y_train)\n",
    "y_train_pred = gbc_reg.predict(X_train)\n",
    "y_test_pred = gbc_reg.predict(X_test)\n",
    "from sklearn.metrics import mean_squared_error, r2_score\n",
    "mean_squared_error(y_test, y_test_pred)\n",
    "r2_score(y_train, y_train_pred)\n",
    "r2_score(y_test, y_test_pred)"
   ]
  },
  {
   "cell_type": "code",
   "execution_count": 3,
   "metadata": {
    "ExecuteTime": {
     "end_time": "2021-05-05T14:05:18.938203Z",
     "start_time": "2021-05-05T14:02:47.641872Z"
    }
   },
   "outputs": [
    {
     "name": "stdout",
     "output_type": "stream",
     "text": [
      "<class 'pandas.core.frame.DataFrame'>\n",
      "RangeIndex: 506 entries, 0 to 505\n",
      "Data columns (total 18 columns):\n",
      " #   Column               Non-Null Count  Dtype  \n",
      "---  ------               --------------  -----  \n",
      " 0   Marketing expense    506 non-null    float64\n",
      " 1   Production expense   506 non-null    float64\n",
      " 2   Multiplex coverage   506 non-null    float64\n",
      " 3   Budget               506 non-null    float64\n",
      " 4   Movie_length         506 non-null    float64\n",
      " 5   Lead_ Actor_Rating   506 non-null    float64\n",
      " 6   Lead_Actress_rating  506 non-null    float64\n",
      " 7   Director_rating      506 non-null    float64\n",
      " 8   Producer_rating      506 non-null    float64\n",
      " 9   Critic_rating        506 non-null    float64\n",
      " 10  Trailer_views        506 non-null    int64  \n",
      " 11  3D_available         506 non-null    object \n",
      " 12  Time_taken           506 non-null    float64\n",
      " 13  Twitter_hastags      506 non-null    float64\n",
      " 14  Genre                506 non-null    object \n",
      " 15  Avg_age_actors       506 non-null    int64  \n",
      " 16  Num_multiplex        506 non-null    int64  \n",
      " 17  Collection           506 non-null    int64  \n",
      "dtypes: float64(12), int64(4), object(2)\n",
      "memory usage: 71.3+ KB\n"
     ]
    },
    {
     "data": {
      "text/plain": [
       "0.7922561286052634"
      ]
     },
     "execution_count": 3,
     "metadata": {},
     "output_type": "execute_result"
    }
   ],
   "source": [
    "import numpy as np\n",
    "import pandas as pd\n",
    "import seaborn as sns\n",
    "import matplotlib.pyplot as plt\n",
    "df = pd.read_csv('C:/Users/Specter/Desktop/resources/Data Files/3. ST Academy - Decision Trees resource files/Movie_regression.csv', header = 0)\n",
    "df['Time_taken'].mean()\n",
    "df['Time_taken'].fillna(value = df['Time_taken'].mean(), inplace= True  )\n",
    "df.info()\n",
    "df.head()\n",
    "df = pd.get_dummies(df, columns= ['3D_available','Genre'], drop_first= True)\n",
    "X = df.loc[:, df.columns != 'Collection']\n",
    "y = df['Collection']\n",
    "from sklearn.model_selection import train_test_split\n",
    "X_train, X_test, y_train, y_test = train_test_split(X, y, test_size=0.2, random_state=0)\n",
    "X_train.shape\n",
    "from sklearn import tree\n",
    "from sklearn.ensemble import GradientBoostingRegressor\n",
    "from sklearn.model_selection import GridSearchCV\n",
    "param_grid = {'learning_rate' : np.arange(0.01, 0.1, .01), 'n_estimators': [500,750,1000], 'max_depth':[1,2,3,4,5]}\n",
    "gbc_reg = GradientBoostingRegressor()\n",
    "grid_search = GridSearchCV(gbc_reg, param_grid , n_jobs=-1, cv =5, scoring='r2')\n",
    "grid_search.fit(X_train,y_train)\n",
    "grid_search.best_params_\n",
    "cvgbc_reg = grid_search.best_estimator_\n",
    "cvgbc_reg.fit(X_train,y_train)\n",
    "y_train_pred = cvgbc_reg.predict(X_train)\n",
    "y_test_pred = cvgbc_reg.predict(X_test)\n",
    "from sklearn.metrics import mean_squared_error, r2_score\n",
    "mean_squared_error(y_test, y_test_pred)\n",
    "r2_score(y_train, y_train_pred)\n",
    "r2_score(y_test, y_test_pred)"
   ]
  },
  {
   "cell_type": "code",
   "execution_count": null,
   "metadata": {},
   "outputs": [],
   "source": []
  }
 ],
 "metadata": {
  "kernelspec": {
   "display_name": "Python 3",
   "language": "python",
   "name": "python3"
  },
  "language_info": {
   "codemirror_mode": {
    "name": "ipython",
    "version": 3
   },
   "file_extension": ".py",
   "mimetype": "text/x-python",
   "name": "python",
   "nbconvert_exporter": "python",
   "pygments_lexer": "ipython3",
   "version": "3.8.5"
  },
  "latex_envs": {
   "LaTeX_envs_menu_present": true,
   "autoclose": false,
   "autocomplete": true,
   "bibliofile": "biblio.bib",
   "cite_by": "apalike",
   "current_citInitial": 1,
   "eqLabelWithNumbers": true,
   "eqNumInitial": 1,
   "hotkeys": {
    "equation": "Ctrl-E",
    "itemize": "Ctrl-I"
   },
   "labels_anchors": false,
   "latex_user_defs": false,
   "report_style_numbering": false,
   "user_envs_cfg": false
  },
  "toc": {
   "base_numbering": 1,
   "nav_menu": {},
   "number_sections": true,
   "sideBar": true,
   "skip_h1_title": false,
   "title_cell": "Table of Contents",
   "title_sidebar": "Contents",
   "toc_cell": false,
   "toc_position": {},
   "toc_section_display": true,
   "toc_window_display": false
  }
 },
 "nbformat": 4,
 "nbformat_minor": 4
}
