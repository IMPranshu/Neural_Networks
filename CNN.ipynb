{
 "cells": [
  {
   "cell_type": "code",
   "execution_count": 2,
   "id": "67560138",
   "metadata": {
    "ExecuteTime": {
     "end_time": "2021-06-02T05:31:08.822267Z",
     "start_time": "2021-06-02T05:31:08.290415Z"
    }
   },
   "outputs": [
    {
     "ename": "NameError",
     "evalue": "name 'X' is not defined",
     "output_type": "error",
     "traceback": [
      "\u001b[1;31m---------------------------------------------------------------------------\u001b[0m",
      "\u001b[1;31mNameError\u001b[0m                                 Traceback (most recent call last)",
      "\u001b[1;32m<ipython-input-2-6903f5a9aa91>\u001b[0m in \u001b[0;36m<module>\u001b[1;34m\u001b[0m\n\u001b[0;32m     12\u001b[0m \u001b[1;31m#for CNN models we need 3-D images by default\u001b[0m\u001b[1;33m\u001b[0m\u001b[1;33m\u001b[0m\u001b[1;33m\u001b[0m\u001b[0m\n\u001b[0;32m     13\u001b[0m \u001b[0mX_train_full\u001b[0m \u001b[1;33m=\u001b[0m \u001b[0mX_train_full\u001b[0m\u001b[1;33m.\u001b[0m\u001b[0mreshape\u001b[0m\u001b[1;33m(\u001b[0m\u001b[1;33m(\u001b[0m\u001b[1;36m60000\u001b[0m\u001b[1;33m,\u001b[0m\u001b[1;36m28\u001b[0m\u001b[1;33m,\u001b[0m\u001b[1;36m28\u001b[0m\u001b[1;33m,\u001b[0m\u001b[1;36m1\u001b[0m\u001b[1;33m)\u001b[0m\u001b[1;33m)\u001b[0m\u001b[1;33m\u001b[0m\u001b[1;33m\u001b[0m\u001b[0m\n\u001b[1;32m---> 14\u001b[1;33m \u001b[0mX_test\u001b[0m \u001b[1;33m=\u001b[0m \u001b[0mX\u001b[0m\u001b[1;33m.\u001b[0m\u001b[0mtest\u001b[0m\u001b[1;33m.\u001b[0m\u001b[0mreshape\u001b[0m\u001b[1;33m(\u001b[0m\u001b[1;33m(\u001b[0m\u001b[1;36m10000\u001b[0m\u001b[1;33m,\u001b[0m\u001b[1;36m28\u001b[0m\u001b[1;33m,\u001b[0m\u001b[1;36m28\u001b[0m\u001b[1;33m,\u001b[0m\u001b[1;36m1\u001b[0m\u001b[1;33m)\u001b[0m\u001b[1;33m)\u001b[0m\u001b[1;33m\u001b[0m\u001b[1;33m\u001b[0m\u001b[0m\n\u001b[0m",
      "\u001b[1;31mNameError\u001b[0m: name 'X' is not defined"
     ]
    },
    {
     "data": {
      "image/png": "[encoded data removed]",
      "text/plain": [
       "<Figure size 432x288 with 1 Axes>"
      ]
     },
     "metadata": {
      "needs_background": "light"
     },
     "output_type": "display_data"
    }
   ],
   "source": [
    "import numpy as np\n",
    "import pandas as pd\n",
    "%matplotlib inline\n",
    "import matplotlib as mpl\n",
    "import matplotlib.pyplot as plt\n",
    "import tensorflow as tf\n",
    "from tensorflow import keras\n",
    "fashion_mnist = keras.datasets.fashion_mnist\n",
    "(X_train_full, y_train_full), (X_test, y_test) = fashion_mnist.load_data()\n",
    "plt.imshow(X_train_full[1])\n",
    "class_names = ['T-shirt/top', 'Trouser', 'Pullover', 'Dress', 'Coat', 'Sandal', 'Shirt', 'Sneaker', 'Bag', 'Ankle boot']\n",
    "#for CNN models we need 3-D images by default\n",
    "X_train_full = X_train_full.reshape((60000,28,28,1))\n",
    "X_test = X.test.reshape((10000,28,28,1))"
   ]
  },
  {
   "cell_type": "code",
   "execution_count": 1,
   "id": "36c7c934",
   "metadata": {
    "ExecuteTime": {
     "end_time": "2021-06-02T05:30:31.031477Z",
     "start_time": "2021-06-02T05:30:24.258191Z"
    }
   },
   "outputs": [
    {
     "ename": "NameError",
     "evalue": "name 'X' is not defined",
     "output_type": "error",
     "traceback": [
      "\u001b[1;31m---------------------------------------------------------------------------\u001b[0m",
      "\u001b[1;31mNameError\u001b[0m                                 Traceback (most recent call last)",
      "\u001b[1;32m<ipython-input-1-6903f5a9aa91>\u001b[0m in \u001b[0;36m<module>\u001b[1;34m\u001b[0m\n\u001b[0;32m     12\u001b[0m \u001b[1;31m#for CNN models we need 3-D images by default\u001b[0m\u001b[1;33m\u001b[0m\u001b[1;33m\u001b[0m\u001b[1;33m\u001b[0m\u001b[0m\n\u001b[0;32m     13\u001b[0m \u001b[0mX_train_full\u001b[0m \u001b[1;33m=\u001b[0m \u001b[0mX_train_full\u001b[0m\u001b[1;33m.\u001b[0m\u001b[0mreshape\u001b[0m\u001b[1;33m(\u001b[0m\u001b[1;33m(\u001b[0m\u001b[1;36m60000\u001b[0m\u001b[1;33m,\u001b[0m\u001b[1;36m28\u001b[0m\u001b[1;33m,\u001b[0m\u001b[1;36m28\u001b[0m\u001b[1;33m,\u001b[0m\u001b[1;36m1\u001b[0m\u001b[1;33m)\u001b[0m\u001b[1;33m)\u001b[0m\u001b[1;33m\u001b[0m\u001b[1;33m\u001b[0m\u001b[0m\n\u001b[1;32m---> 14\u001b[1;33m \u001b[0mX_test\u001b[0m \u001b[1;33m=\u001b[0m \u001b[0mX\u001b[0m\u001b[1;33m.\u001b[0m\u001b[0mtest\u001b[0m\u001b[1;33m.\u001b[0m\u001b[0mreshape\u001b[0m\u001b[1;33m(\u001b[0m\u001b[1;33m(\u001b[0m\u001b[1;36m10000\u001b[0m\u001b[1;33m,\u001b[0m\u001b[1;36m28\u001b[0m\u001b[1;33m,\u001b[0m\u001b[1;36m28\u001b[0m\u001b[1;33m,\u001b[0m\u001b[1;36m1\u001b[0m\u001b[1;33m)\u001b[0m\u001b[1;33m)\u001b[0m\u001b[1;33m\u001b[0m\u001b[1;33m\u001b[0m\u001b[0m\n\u001b[0m",
      "\u001b[1;31mNameError\u001b[0m: name 'X' is not defined"
     ]
    },
    {
     "data": {
      "image/png": "[encoded data removed]",
      "text/plain": [
       "<Figure size 432x288 with 1 Axes>"
      ]
     },
     "metadata": {
      "needs_background": "light"
     },
     "output_type": "display_data"
    }
   ],
   "source": [
    "import numpy as np\n",
    "import pandas as pd\n",
    "%matplotlib inline\n",
    "import matplotlib as mpl\n",
    "import matplotlib.pyplot as plt\n",
    "import tensorflow as tf\n",
    "from tensorflow import keras\n",
    "fashion_mnist = keras.datasets.fashion_mnist\n",
    "(X_train_full, y_train_full), (X_test, y_test) = fashion_mnist.load_data()\n",
    "plt.imshow(X_train_full[1])\n",
    "class_names = ['T-shirt/top', 'Trouser', 'Pullover', 'Dress', 'Coat', 'Sandal', 'Shirt', 'Sneaker', 'Bag', 'Ankle boot']\n",
    "#for CNN models we need 3-D images by default\n",
    "X_train_full = X_train_full.reshape((60000,28,28,1))\n",
    "X_test = X.test.reshape((10000,28,28,1))"
   ]
  },
  {
   "cell_type": "code",
   "execution_count": 3,
   "id": "56f7f3bb",
   "metadata": {
    "ExecuteTime": {
     "end_time": "2021-06-02T05:31:33.371751Z",
     "start_time": "2021-06-02T05:31:32.865401Z"
    }
   },
   "outputs": [
    {
     "data": {
      "image/png": "[encoded data removed]",
      "text/plain": [
       "<Figure size 432x288 with 1 Axes>"
      ]
     },
     "metadata": {
      "needs_background": "light"
     },
     "output_type": "display_data"
    }
   ],
   "source": [
    "import numpy as np\n",
    "import pandas as pd\n",
    "%matplotlib inline\n",
    "import matplotlib as mpl\n",
    "import matplotlib.pyplot as plt\n",
    "import tensorflow as tf\n",
    "from tensorflow import keras\n",
    "fashion_mnist = keras.datasets.fashion_mnist\n",
    "(X_train_full, y_train_full), (X_test, y_test) = fashion_mnist.load_data()\n",
    "plt.imshow(X_train_full[1])\n",
    "class_names = ['T-shirt/top', 'Trouser', 'Pullover', 'Dress', 'Coat', 'Sandal', 'Shirt', 'Sneaker', 'Bag', 'Ankle boot']\n",
    "#for CNN models we need 3-D images by default\n",
    "X_train_full = X_train_full.reshape((60000,28,28,1))\n",
    "X_test = X_test.reshape((10000,28,28,1))"
   ]
  },
  {
   "cell_type": "code",
   "execution_count": 2,
   "id": "70b363aa",
   "metadata": {
    "ExecuteTime": {
     "end_time": "2021-06-02T13:15:30.089182Z",
     "start_time": "2021-06-02T13:15:26.407064Z"
    }
   },
   "outputs": [],
   "source": [
    "import numpy as np\n",
    "import pandas as pd\n",
    "%matplotlib inline\n",
    "import matplotlib as mpl\n",
    "import matplotlib.pyplot as plt\n",
    "import tensorflow as tf\n",
    "from tensorflow import keras\n"
   ]
  },
  {
   "cell_type": "code",
   "execution_count": 6,
   "id": "8865d75b",
   "metadata": {
    "ExecuteTime": {
     "end_time": "2021-06-02T06:23:31.052882Z",
     "start_time": "2021-06-02T06:19:57.383576Z"
    }
   },
   "outputs": [
    {
     "name": "stdout",
     "output_type": "stream",
     "text": [
      "Epoch 1/10\n",
      "860/860 [==============================] - 20s 24ms/step - loss: 0.8530 - accuracy: 0.7153 - val_loss: 0.5881 - val_accuracy: 0.7924\n",
      "Epoch 2/10\n",
      "860/860 [==============================] - 19s 22ms/step - loss: 0.5375 - accuracy: 0.8046 - val_loss: 0.4989 - val_accuracy: 0.8162\n",
      "Epoch 3/10\n",
      "860/860 [==============================] - 20s 23ms/step - loss: 0.4820 - accuracy: 0.8260 - val_loss: 0.4652 - val_accuracy: 0.8386\n",
      "Epoch 4/10\n",
      "860/860 [==============================] - 23s 27ms/step - loss: 0.4450 - accuracy: 0.8392 - val_loss: 0.4836 - val_accuracy: 0.8188\n",
      "Epoch 5/10\n",
      "860/860 [==============================] - 22s 26ms/step - loss: 0.4151 - accuracy: 0.8518 - val_loss: 0.5207 - val_accuracy: 0.7972\n",
      "Epoch 6/10\n",
      "860/860 [==============================] - 22s 26ms/step - loss: 0.3929 - accuracy: 0.8587 - val_loss: 0.4747 - val_accuracy: 0.8324\n",
      "Epoch 7/10\n",
      "860/860 [==============================] - 22s 25ms/step - loss: 0.3739 - accuracy: 0.8656 - val_loss: 0.4329 - val_accuracy: 0.8456\n",
      "Epoch 8/10\n",
      "860/860 [==============================] - 22s 25ms/step - loss: 0.3584 - accuracy: 0.8703 - val_loss: 0.3890 - val_accuracy: 0.8604\n",
      "Epoch 9/10\n",
      "860/860 [==============================] - 22s 26ms/step - loss: 0.3419 - accuracy: 0.8763 - val_loss: 0.3451 - val_accuracy: 0.8768\n",
      "Epoch 10/10\n",
      "860/860 [==============================] - 21s 24ms/step - loss: 0.3315 - accuracy: 0.8799 - val_loss: 0.3260 - val_accuracy: 0.8856\n"
     ]
    }
   ],
   "source": [
    "model_history = model.fit(X_train, y_train,batch_size=64, epochs= 10, validation_data=(X_valid, y_valid))\n",
    "model.compile(loss = 'sparse_categorical_crossentropy', optimizer = 'sgd', metrics=['accuracy'])\n"
   ]
  },
  {
   "cell_type": "code",
   "execution_count": 10,
   "id": "fcfbceda",
   "metadata": {
    "ExecuteTime": {
     "end_time": "2021-06-02T06:30:04.023792Z",
     "start_time": "2021-06-02T06:30:03.985892Z"
    }
   },
   "outputs": [],
   "source": [
    "model.save(\"CNN_fashion.h5\")"
   ]
  },
  {
   "cell_type": "code",
   "execution_count": 13,
   "id": "04062100",
   "metadata": {
    "ExecuteTime": {
     "end_time": "2021-06-02T06:30:30.777291Z",
     "start_time": "2021-06-02T06:30:30.766321Z"
    }
   },
   "outputs": [
    {
     "data": {
      "text/plain": [
       "'C:\\\\Users\\\\Specter'"
      ]
     },
     "execution_count": 13,
     "metadata": {},
     "output_type": "execute_result"
    }
   ],
   "source": [
    "%pwd"
   ]
  },
  {
   "cell_type": "code",
   "execution_count": 3,
   "id": "b39aebfc",
   "metadata": {
    "ExecuteTime": {
     "end_time": "2021-06-02T13:15:34.779558Z",
     "start_time": "2021-06-02T13:15:34.474097Z"
    }
   },
   "outputs": [],
   "source": [
    "keras.backend.clear_session()\n",
    "model = keras.models.load_model('Early_Stop_Best_Model.h5')\n"
   ]
  },
  {
   "cell_type": "code",
   "execution_count": 16,
   "id": "36b31aa9",
   "metadata": {
    "ExecuteTime": {
     "end_time": "2021-06-02T07:18:40.694265Z",
     "start_time": "2021-06-02T07:18:39.277707Z"
    }
   },
   "outputs": [
    {
     "name": "stdout",
     "output_type": "stream",
     "text": [
      "313/313 [==============================] - 1s 4ms/step - loss: 0.2543 - accuracy: 0.1008\n"
     ]
    }
   ],
   "source": [
    "mse_test = model.evaluate(X_test, y_test)"
   ]
  },
  {
   "cell_type": "code",
   "execution_count": 4,
   "id": "94c7821d",
   "metadata": {
    "ExecuteTime": {
     "end_time": "2021-06-02T13:16:05.150119Z",
     "start_time": "2021-06-02T13:16:04.438340Z"
    }
   },
   "outputs": [
    {
     "data": {
      "image/png": "[encoded data removed]",
      "text/plain": [
       "<Figure size 432x288 with 1 Axes>"
      ]
     },
     "metadata": {
      "needs_background": "light"
     },
     "output_type": "display_data"
    }
   ],
   "source": [
    "fashion_mnist = keras.datasets.fashion_mnist\n",
    "(X_train_full, y_train_full), (X_test, y_test) = fashion_mnist.load_data()\n",
    "plt.imshow(X_train_full[1])\n",
    "class_names = ['T-shirt/top', 'Trouser', 'Pullover', 'Dress', 'Coat', 'Sandal', 'Shirt', 'Sneaker', 'Bag', 'Ankle boot']\n",
    "X_train_full = X_train_full.reshape((60000,28,28,1))\n",
    "X_test = X_test.reshape((10000,28,28,1))\n",
    "X_train_n = X_train_full/255.0\n",
    "X_test_n = X_test/255.0\n",
    "X_valid, X_train = X_train_n[:5000], X_train_n[5000:]\n",
    "y_valid , y_train = y_train_full[:5000], y_train_full[5000:]\n",
    "X_test = X_test_n\n"
   ]
  },
  {
   "cell_type": "code",
   "execution_count": null,
   "id": "027ca1d4",
   "metadata": {},
   "outputs": [],
   "source": [
    "import numpy as np\n",
    "import pandas as pd\n",
    "%matplotlib inline\n",
    "import matplotlib as mpl\n",
    "import matplotlib.pyplot as plt\n",
    "import tensorflow as tf\n",
    "from tensorflow import keras\n",
    "fashion_mnist = keras.datasets.fashion_mnist\n",
    "(X_train_full, y_train_full), (X_test, y_test) = fashion_mnist.load_data()\n",
    "plt.imshow(X_train_full[1])\n",
    "class_names = ['T-shirt/top', 'Trouser', 'Pullover', 'Dress', 'Coat', 'Sandal', 'Shirt', 'Sneaker', 'Bag', 'Ankle boot']\n",
    "X_train_full = X_train_full.reshape((60000,28,28,1))\n",
    "X_test = X_test.reshape((10000,28,28,1))\n",
    "X_train_n = X_train_full/255.0\n",
    "X_test_n = X_test/255.0\n",
    "X_valid, X_train = X_train_n[:5000], X_train_n[5000:]\n",
    "y_valid , y_train = y_train_full[:5000], y_train_full[5000:]\n",
    "X_test = X_test_n"
   ]
  },
  {
   "cell_type": "code",
   "execution_count": 5,
   "id": "8c26a3ec",
   "metadata": {
    "ExecuteTime": {
     "end_time": "2021-06-02T13:16:41.243154Z",
     "start_time": "2021-06-02T13:16:41.238196Z"
    }
   },
   "outputs": [],
   "source": [
    "X_new = X_test[:3]"
   ]
  },
  {
   "cell_type": "code",
   "execution_count": 6,
   "id": "0029c958",
   "metadata": {
    "ExecuteTime": {
     "end_time": "2021-06-02T13:17:04.528893Z",
     "start_time": "2021-06-02T13:17:04.235257Z"
    }
   },
   "outputs": [
    {
     "name": "stdout",
     "output_type": "stream",
     "text": [
      "WARNING:tensorflow:From <ipython-input-6-81ace37e545f>:1: Sequential.predict_classes (from tensorflow.python.keras.engine.sequential) is deprecated and will be removed after 2021-01-01.\n",
      "Instructions for updating:\n",
      "Please use instead:* `np.argmax(model.predict(x), axis=-1)`,   if your model does multi-class classification   (e.g. if it uses a `softmax` last-layer activation).* `(model.predict(x) > 0.5).astype(\"int32\")`,   if your model does binary classification   (e.g. if it uses a `sigmoid` last-layer activation).\n"
     ]
    },
    {
     "data": {
      "text/plain": [
       "array([9, 2, 1], dtype=int64)"
      ]
     },
     "execution_count": 6,
     "metadata": {},
     "output_type": "execute_result"
    }
   ],
   "source": [
    "y_pred = model.predict_classes(X_new)\n",
    "y_pred"
   ]
  },
  {
   "cell_type": "code",
   "execution_count": 7,
   "id": "1de430b2",
   "metadata": {
    "ExecuteTime": {
     "end_time": "2021-06-02T13:17:17.290339Z",
     "start_time": "2021-06-02T13:17:17.269355Z"
    }
   },
   "outputs": [
    {
     "data": {
      "text/plain": [
       "array([9, 2, 1], dtype=uint8)"
      ]
     },
     "execution_count": 7,
     "metadata": {},
     "output_type": "execute_result"
    }
   ],
   "source": [
    "y_test[:3]"
   ]
  },
  {
   "cell_type": "code",
   "execution_count": 9,
   "id": "75821713",
   "metadata": {
    "ExecuteTime": {
     "end_time": "2021-06-02T13:18:22.272539Z",
     "start_time": "2021-06-02T13:18:22.150140Z"
    }
   },
   "outputs": [
    {
     "name": "stdout",
     "output_type": "stream",
     "text": [
      "AxesImage(54,36;334.8x217.44)\n"
     ]
    },
    {
     "data": {
      "image/png": "[encoded data removed]",
      "text/plain": [
       "<Figure size 432x288 with 1 Axes>"
      ]
     },
     "metadata": {
      "needs_background": "light"
     },
     "output_type": "display_data"
    }
   ],
   "source": [
    "print(plt.imshow(X_test[0].reshape((28,28))))"
   ]
  },
  {
   "cell_type": "code",
   "execution_count": 10,
   "id": "858973af",
   "metadata": {
    "ExecuteTime": {
     "end_time": "2021-06-02T13:26:07.577505Z",
     "start_time": "2021-06-02T13:26:07.379034Z"
    }
   },
   "outputs": [
    {
     "name": "stdout",
     "output_type": "stream",
     "text": [
      "Model: \"sequential\"\n",
      "_________________________________________________________________\n",
      "Layer (type)                 Output Shape              Param #   \n",
      "=================================================================\n",
      "conv2d (Conv2D)              (None, 26, 26, 32)        320       \n",
      "_________________________________________________________________\n",
      "max_pooling2d (MaxPooling2D) (None, 13, 13, 32)        0         \n",
      "_________________________________________________________________\n",
      "flatten (Flatten)            (None, 5408)              0         \n",
      "_________________________________________________________________\n",
      "dense (Dense)                (None, 300)               1622700   \n",
      "_________________________________________________________________\n",
      "dense_1 (Dense)              (None, 100)               30100     \n",
      "_________________________________________________________________\n",
      "dense_2 (Dense)              (None, 10)                1010      \n",
      "=================================================================\n",
      "Total params: 1,654,130\n",
      "Trainable params: 1,654,130\n",
      "Non-trainable params: 0\n",
      "_________________________________________________________________\n",
      "Model: \"sequential_1\"\n",
      "_________________________________________________________________\n",
      "Layer (type)                 Output Shape              Param #   \n",
      "=================================================================\n",
      "conv2d_1 (Conv2D)            (None, 26, 26, 32)        320       \n",
      "_________________________________________________________________\n",
      "flatten_1 (Flatten)          (None, 21632)             0         \n",
      "_________________________________________________________________\n",
      "dense_3 (Dense)              (None, 300)               6489900   \n",
      "_________________________________________________________________\n",
      "dense_4 (Dense)              (None, 100)               30100     \n",
      "_________________________________________________________________\n",
      "dense_5 (Dense)              (None, 10)                1010      \n",
      "=================================================================\n",
      "Total params: 6,521,330\n",
      "Trainable params: 6,521,330\n",
      "Non-trainable params: 0\n",
      "_________________________________________________________________\n"
     ]
    }
   ],
   "source": [
    "model_a = keras.models.Sequential()\n",
    "model_a.add(keras.layers.Conv2D(filters =32, kernel_size = (3,3), strides =1,padding = 'valid', activation = 'relu', input_shape=(28,28,1)))\n",
    "model_a.add(keras.layers.MaxPooling2D(2,2))\n",
    "model_a.add(keras.layers.Flatten())\n",
    "model_a.add(keras.layers.Dense(300,activation = 'relu'))\n",
    "model_a.add(keras.layers.Dense(100,activation = 'relu'))\n",
    "model_a.add(keras.layers.Dense(10,activation = 'softmax'))\n",
    "model_a.summary()\n",
    "\n",
    "\n",
    "model_b = keras.models.Sequential()\n",
    "model_b.add(keras.layers.Conv2D(filters =32, kernel_size = (3,3), strides =1,padding = 'valid', activation = 'relu', input_shape=(28,28,1)))\n",
    "model_b.add(keras.layers.Flatten())\n",
    "model_b.add(keras.layers.Dense(300,activation = 'relu'))\n",
    "model_b.add(keras.layers.Dense(100,activation = 'relu'))\n",
    "model_b.add(keras.layers.Dense(10,activation = 'softmax'))\n",
    "model_b.summary()\n",
    "\n"
   ]
  },
  {
   "cell_type": "code",
   "execution_count": 11,
   "id": "453af638",
   "metadata": {
    "ExecuteTime": {
     "end_time": "2021-06-02T13:27:39.183806Z",
     "start_time": "2021-06-02T13:27:39.161852Z"
    }
   },
   "outputs": [],
   "source": [
    "model_a.compile(loss = 'sparse_categorical_crossentropy', optimizer = 'sgd', metrics=['accuracy'])\n",
    "model_b.compile(loss = 'sparse_categorical_crossentropy', optimizer = 'sgd', metrics=['accuracy'])\n"
   ]
  },
  {
   "cell_type": "code",
   "execution_count": 12,
   "id": "033ec4bd",
   "metadata": {
    "ExecuteTime": {
     "end_time": "2021-06-02T13:30:06.856856Z",
     "start_time": "2021-06-02T13:28:15.053349Z"
    }
   },
   "outputs": [
    {
     "name": "stdout",
     "output_type": "stream",
     "text": [
      "Epoch 1/5\n",
      "860/860 [==============================] - 21s 24ms/step - loss: 0.8400 - accuracy: 0.7178 - val_loss: 0.6807 - val_accuracy: 0.7464\n",
      "Epoch 2/5\n",
      "860/860 [==============================] - 23s 27ms/step - loss: 0.5343 - accuracy: 0.8065 - val_loss: 0.6117 - val_accuracy: 0.7904\n",
      "Epoch 3/5\n",
      "860/860 [==============================] - 23s 26ms/step - loss: 0.4766 - accuracy: 0.8269 - val_loss: 0.5350 - val_accuracy: 0.8076\n",
      "Epoch 4/5\n",
      "860/860 [==============================] - 22s 26ms/step - loss: 0.4414 - accuracy: 0.8423 - val_loss: 0.4817 - val_accuracy: 0.8332\n",
      "Epoch 5/5\n",
      "860/860 [==============================] - 22s 26ms/step - loss: 0.4147 - accuracy: 0.8515 - val_loss: 0.3851 - val_accuracy: 0.8652\n"
     ]
    }
   ],
   "source": [
    "model_history_a = model_a.fit(X_train, y_train,batch_size=64, epochs= 5, validation_data=(X_valid, y_valid))\n"
   ]
  },
  {
   "cell_type": "code",
   "execution_count": 13,
   "id": "0e02c996",
   "metadata": {
    "ExecuteTime": {
     "end_time": "2021-06-02T13:33:43.686582Z",
     "start_time": "2021-06-02T13:30:09.896542Z"
    }
   },
   "outputs": [
    {
     "name": "stdout",
     "output_type": "stream",
     "text": [
      "Epoch 1/5\n",
      "860/860 [==============================] - 45s 53ms/step - loss: 0.7505 - accuracy: 0.7414 - val_loss: 0.5733 - val_accuracy: 0.8008\n",
      "Epoch 2/5\n",
      "860/860 [==============================] - 45s 52ms/step - loss: 0.4936 - accuracy: 0.8227 - val_loss: 0.6163 - val_accuracy: 0.7902\n",
      "Epoch 3/5\n",
      "860/860 [==============================] - 40s 47ms/step - loss: 0.4432 - accuracy: 0.8422 - val_loss: 0.4043 - val_accuracy: 0.8604\n",
      "Epoch 4/5\n",
      "860/860 [==============================] - 41s 48ms/step - loss: 0.4100 - accuracy: 0.8533 - val_loss: 0.4232 - val_accuracy: 0.8470\n",
      "Epoch 5/5\n",
      "860/860 [==============================] - 41s 48ms/step - loss: 0.3867 - accuracy: 0.8613 - val_loss: 0.3712 - val_accuracy: 0.8638\n"
     ]
    }
   ],
   "source": [
    "model_history_b = model_b.fit(X_train, y_train,batch_size=64, epochs= 5, validation_data=(X_valid, y_valid))\n"
   ]
  },
  {
   "cell_type": "code",
   "execution_count": null,
   "id": "c748081b",
   "metadata": {},
   "outputs": [],
   "source": []
  }
 ],
 "metadata": {
  "kernelspec": {
   "display_name": "Python 3",
   "language": "python",
   "name": "python3"
  },
  "language_info": {
   "codemirror_mode": {
    "name": "ipython",
    "version": 3
   },
   "file_extension": ".py",
   "mimetype": "text/x-python",
   "name": "python",
   "nbconvert_exporter": "python",
   "pygments_lexer": "ipython3",
   "version": "3.8.8"
  },
  "latex_envs": {
   "LaTeX_envs_menu_present": true,
   "autoclose": false,
   "autocomplete": true,
   "bibliofile": "biblio.bib",
   "cite_by": "apalike",
   "current_citInitial": 1,
   "eqLabelWithNumbers": true,
   "eqNumInitial": 1,
   "hotkeys": {
    "equation": "Ctrl-E",
    "itemize": "Ctrl-I"
   },
   "labels_anchors": false,
   "latex_user_defs": false,
   "report_style_numbering": false,
   "user_envs_cfg": false
  },
  "toc": {
   "base_numbering": 1,
   "nav_menu": {},
   "number_sections": true,
   "sideBar": true,
   "skip_h1_title": false,
   "title_cell": "Table of Contents",
   "title_sidebar": "Contents",
   "toc_cell": false,
   "toc_position": {},
   "toc_section_display": true,
   "toc_window_display": false
  }
 },
 "nbformat": 4,
 "nbformat_minor": 5
}
