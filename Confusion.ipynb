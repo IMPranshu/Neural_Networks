{
 "cells": [
  {
   "cell_type": "code",
   "execution_count": 1,
   "metadata": {
    "ExecuteTime": {
     "end_time": "2021-04-23T00:50:49.381819Z",
     "start_time": "2021-04-23T00:50:47.183073Z"
    }
   },
   "outputs": [
    {
     "name": "stderr",
     "output_type": "stream",
     "text": [
      "<ipython-input-1-118fafcfe37b>:8: SettingWithCopyWarning: \n",
      "A value is trying to be set on a copy of a slice from a DataFrame\n",
      "\n",
      "See the caveats in the documentation: https://pandas.pydata.org/pandas-docs/stable/user_guide/indexing.html#returning-a-view-versus-a-copy\n",
      "  df.rainfall[(df.rainfall < .3*lv )]= .3*lv\n",
      "C:\\ProgramData\\Anaconda3\\lib\\site-packages\\sklearn\\linear_model\\_logistic.py:762: ConvergenceWarning: lbfgs failed to converge (status=1):\n",
      "STOP: TOTAL NO. of ITERATIONS REACHED LIMIT.\n",
      "\n",
      "Increase the number of iterations (max_iter) or scale the data as shown in:\n",
      "    https://scikit-learn.org/stable/modules/preprocessing.html\n",
      "Please also refer to the documentation for alternative solver options:\n",
      "    https://scikit-learn.org/stable/modules/linear_model.html#logistic-regression\n",
      "  n_iter_i = _check_optimize_result(\n"
     ]
    },
    {
     "name": "stdout",
     "output_type": "stream",
     "text": [
      "Optimization terminated successfully.\n",
      "         Current function value: 0.557633\n",
      "         Iterations 7\n"
     ]
    },
    {
     "data": {
      "text/html": [
       "<table class=\"simpletable\">\n",
       "<caption>Logit Regression Results</caption>\n",
       "<tr>\n",
       "  <th>Dep. Variable:</th>         <td>Sold</td>       <th>  No. Observations:  </th>  <td>   506</td>  \n",
       "</tr>\n",
       "<tr>\n",
       "  <th>Model:</th>                 <td>Logit</td>      <th>  Df Residuals:      </th>  <td>   490</td>  \n",
       "</tr>\n",
       "<tr>\n",
       "  <th>Method:</th>                 <td>MLE</td>       <th>  Df Model:          </th>  <td>    15</td>  \n",
       "</tr>\n",
       "<tr>\n",
       "  <th>Date:</th>            <td>Fri, 23 Apr 2021</td> <th>  Pseudo R-squ.:     </th>  <td>0.1907</td>  \n",
       "</tr>\n",
       "<tr>\n",
       "  <th>Time:</th>                <td>06:20:49</td>     <th>  Log-Likelihood:    </th> <td> -282.16</td> \n",
       "</tr>\n",
       "<tr>\n",
       "  <th>converged:</th>             <td>True</td>       <th>  LL-Null:           </th> <td> -348.64</td> \n",
       "</tr>\n",
       "<tr>\n",
       "  <th>Covariance Type:</th>     <td>nonrobust</td>    <th>  LLR p-value:       </th> <td>5.608e-21</td>\n",
       "</tr>\n",
       "</table>\n",
       "<table class=\"simpletable\">\n",
       "<tr>\n",
       "              <td></td>                <th>coef</th>     <th>std err</th>      <th>z</th>      <th>P>|z|</th>  <th>[0.025</th>    <th>0.975]</th>  \n",
       "</tr>\n",
       "<tr>\n",
       "  <th>const</th>                    <td>   -2.0162</td> <td>    2.649</td> <td>   -0.761</td> <td> 0.447</td> <td>   -7.209</td> <td>    3.176</td>\n",
       "</tr>\n",
       "<tr>\n",
       "  <th>price</th>                    <td>   -0.2732</td> <td>    0.033</td> <td>   -8.294</td> <td> 0.000</td> <td>   -0.338</td> <td>   -0.209</td>\n",
       "</tr>\n",
       "<tr>\n",
       "  <th>resid_area</th>               <td>    0.0209</td> <td>    0.027</td> <td>    0.787</td> <td> 0.431</td> <td>   -0.031</td> <td>    0.073</td>\n",
       "</tr>\n",
       "<tr>\n",
       "  <th>air_qual</th>                 <td>   -5.0600</td> <td>    1.817</td> <td>   -2.785</td> <td> 0.005</td> <td>   -8.621</td> <td>   -1.499</td>\n",
       "</tr>\n",
       "<tr>\n",
       "  <th>room_num</th>                 <td>    1.1026</td> <td>    0.276</td> <td>    3.989</td> <td> 0.000</td> <td>    0.561</td> <td>    1.644</td>\n",
       "</tr>\n",
       "<tr>\n",
       "  <th>age</th>                      <td>   -0.0019</td> <td>    0.007</td> <td>   -0.283</td> <td> 0.777</td> <td>   -0.015</td> <td>    0.011</td>\n",
       "</tr>\n",
       "<tr>\n",
       "  <th>teachers</th>                 <td>    0.3133</td> <td>    0.064</td> <td>    4.904</td> <td> 0.000</td> <td>    0.188</td> <td>    0.438</td>\n",
       "</tr>\n",
       "<tr>\n",
       "  <th>poor_prop</th>                <td>   -0.2070</td> <td>    0.034</td> <td>   -6.129</td> <td> 0.000</td> <td>   -0.273</td> <td>   -0.141</td>\n",
       "</tr>\n",
       "<tr>\n",
       "  <th>n_hos_beds</th>               <td>    0.1705</td> <td>    0.071</td> <td>    2.398</td> <td> 0.016</td> <td>    0.031</td> <td>    0.310</td>\n",
       "</tr>\n",
       "<tr>\n",
       "  <th>n_hot_rooms</th>              <td>   -0.0613</td> <td>    0.054</td> <td>   -1.132</td> <td> 0.258</td> <td>   -0.167</td> <td>    0.045</td>\n",
       "</tr>\n",
       "<tr>\n",
       "  <th>rainfall</th>                 <td>   -0.0039</td> <td>    0.008</td> <td>   -0.463</td> <td> 0.643</td> <td>   -0.020</td> <td>    0.012</td>\n",
       "</tr>\n",
       "<tr>\n",
       "  <th>avg_dist</th>                 <td>   -0.4011</td> <td>    0.097</td> <td>   -4.117</td> <td> 0.000</td> <td>   -0.592</td> <td>   -0.210</td>\n",
       "</tr>\n",
       "<tr>\n",
       "  <th>airport_YES</th>              <td>   -0.1411</td> <td>    0.210</td> <td>   -0.672</td> <td> 0.502</td> <td>   -0.553</td> <td>    0.270</td>\n",
       "</tr>\n",
       "<tr>\n",
       "  <th>waterbody_Lake</th>           <td>   -0.1034</td> <td>    0.304</td> <td>   -0.340</td> <td> 0.734</td> <td>   -0.699</td> <td>    0.492</td>\n",
       "</tr>\n",
       "<tr>\n",
       "  <th>waterbody_Lake and River</th> <td>   -0.0628</td> <td>    0.327</td> <td>   -0.192</td> <td> 0.848</td> <td>   -0.704</td> <td>    0.579</td>\n",
       "</tr>\n",
       "<tr>\n",
       "  <th>waterbody_River</th>          <td>    0.2321</td> <td>    0.255</td> <td>    0.911</td> <td> 0.362</td> <td>   -0.267</td> <td>    0.731</td>\n",
       "</tr>\n",
       "</table>"
      ],
      "text/plain": [
       "<class 'statsmodels.iolib.summary.Summary'>\n",
       "\"\"\"\n",
       "                           Logit Regression Results                           \n",
       "==============================================================================\n",
       "Dep. Variable:                   Sold   No. Observations:                  506\n",
       "Model:                          Logit   Df Residuals:                      490\n",
       "Method:                           MLE   Df Model:                           15\n",
       "Date:                Fri, 23 Apr 2021   Pseudo R-squ.:                  0.1907\n",
       "Time:                        06:20:49   Log-Likelihood:                -282.16\n",
       "converged:                       True   LL-Null:                       -348.64\n",
       "Covariance Type:            nonrobust   LLR p-value:                 5.608e-21\n",
       "============================================================================================\n",
       "                               coef    std err          z      P>|z|      [0.025      0.975]\n",
       "--------------------------------------------------------------------------------------------\n",
       "const                       -2.0162      2.649     -0.761      0.447      -7.209       3.176\n",
       "price                       -0.2732      0.033     -8.294      0.000      -0.338      -0.209\n",
       "resid_area                   0.0209      0.027      0.787      0.431      -0.031       0.073\n",
       "air_qual                    -5.0600      1.817     -2.785      0.005      -8.621      -1.499\n",
       "room_num                     1.1026      0.276      3.989      0.000       0.561       1.644\n",
       "age                         -0.0019      0.007     -0.283      0.777      -0.015       0.011\n",
       "teachers                     0.3133      0.064      4.904      0.000       0.188       0.438\n",
       "poor_prop                   -0.2070      0.034     -6.129      0.000      -0.273      -0.141\n",
       "n_hos_beds                   0.1705      0.071      2.398      0.016       0.031       0.310\n",
       "n_hot_rooms                 -0.0613      0.054     -1.132      0.258      -0.167       0.045\n",
       "rainfall                    -0.0039      0.008     -0.463      0.643      -0.020       0.012\n",
       "avg_dist                    -0.4011      0.097     -4.117      0.000      -0.592      -0.210\n",
       "airport_YES                 -0.1411      0.210     -0.672      0.502      -0.553       0.270\n",
       "waterbody_Lake              -0.1034      0.304     -0.340      0.734      -0.699       0.492\n",
       "waterbody_Lake and River    -0.0628      0.327     -0.192      0.848      -0.704       0.579\n",
       "waterbody_River              0.2321      0.255      0.911      0.362      -0.267       0.731\n",
       "============================================================================================\n",
       "\"\"\""
      ]
     },
     "execution_count": 1,
     "metadata": {},
     "output_type": "execute_result"
    }
   ],
   "source": [
    "import numpy as np\n",
    "import pandas as pd\n",
    "import seaborn as sns\n",
    "from sklearn.linear_model import LogisticRegression\n",
    "df=pd.read_csv('C:/Users/Specter/Desktop/resources/Data Files/2. ST Academy - Classification models resource files/House-Price.csv',header =0)\n",
    "uv=np.percentile(df.n_hot_rooms,[99])[0]\n",
    "lv=np.percentile(df.rainfall,[1])[0]\n",
    "df.rainfall[(df.rainfall < .3*lv )]= .3*lv\n",
    "df.n_hos_beds=df.n_hos_beds.fillna(df.n_hos_beds.mean())\n",
    "df['avg_dist'] = (df.dist1+df.dist2+df.dist3+df.dist4)/4\n",
    "del df['dist1']\n",
    "del df['dist2']\n",
    "del df['dist3']\n",
    "del df['dist4']\n",
    "del df['bus_ter']\n",
    "df=pd.get_dummies(df)\n",
    "del df['airport_NO']\n",
    "del df['waterbody_None']\n",
    "df.corr()\n",
    "del df['parks']\n",
    "X = df.loc[:, df.columns != 'Sold']\n",
    "y = df['Sold']\n",
    "clf_lr = LogisticRegression()\n",
    "clf_lr.fit(X,y)\n",
    "import statsmodels.api as sn\n",
    "X_cons = sn.add_constant(X)\n",
    "X_cons.head()\n",
    "import statsmodels.discrete.discrete_model as sm\n",
    "logit = sm.Logit(y, X_cons).fit()\n",
    "logit.summary()"
   ]
  },
  {
   "cell_type": "code",
   "execution_count": 2,
   "metadata": {
    "ExecuteTime": {
     "end_time": "2021-04-23T00:51:22.790524Z",
     "start_time": "2021-04-23T00:51:22.770566Z"
    }
   },
   "outputs": [
    {
     "data": {
      "text/plain": [
       "array([[1.24742967e-01, 8.75257033e-01],\n",
       "       [3.74418697e-01, 6.25581303e-01],\n",
       "       [9.99771811e-01, 2.28188641e-04],\n",
       "       ...,\n",
       "       [2.71538465e-01, 7.28461535e-01],\n",
       "       [2.77806563e-01, 7.22193437e-01],\n",
       "       [1.71123211e-01, 8.28876789e-01]])"
      ]
     },
     "execution_count": 2,
     "metadata": {},
     "output_type": "execute_result"
    }
   ],
   "source": [
    "clf_lr.predict_proba(X)"
   ]
  },
  {
   "cell_type": "code",
   "execution_count": 7,
   "metadata": {
    "ExecuteTime": {
     "end_time": "2021-04-23T00:56:04.451954Z",
     "start_time": "2021-04-23T00:56:04.430974Z"
    }
   },
   "outputs": [
    {
     "data": {
      "text/plain": [
       "array([1, 1, 0, 0, 0, 0, 0, 0, 0, 0, 0, 1, 0, 0, 1, 1, 0, 0, 0, 1, 0, 0,\n",
       "       0, 0, 0, 0, 0, 0, 0, 1, 0, 1, 0, 0, 0, 1, 1, 1, 1, 0, 0, 1, 1, 0,\n",
       "       1, 1, 0, 0, 0, 0, 0, 1, 1, 1, 0, 0, 0, 0, 0, 0, 0, 0, 0, 0, 0, 1,\n",
       "       1, 0, 0, 0, 1, 1, 1, 0, 1, 1, 1, 1, 0, 1, 0, 0, 1, 1, 0, 1, 0, 1,\n",
       "       1, 1, 1, 1, 1, 1, 1, 1, 1, 0, 0, 0, 0, 1, 1, 0, 1, 0, 0, 0, 1, 0,\n",
       "       0, 1, 0, 1, 1, 1, 1, 1, 0, 1, 0, 1, 0, 0, 0, 0, 0, 0, 0, 0, 1, 0,\n",
       "       0, 0, 0, 0, 1, 1, 0, 0, 0, 0, 0, 0, 0, 0, 1, 0, 0, 1, 1, 1, 1, 1,\n",
       "       1, 1, 1, 0, 1, 1, 1, 0, 0, 0, 1, 1, 0, 1, 1, 1, 1, 1, 0, 1, 1, 1,\n",
       "       1, 1, 1, 0, 0, 0, 0, 0, 0, 0, 0, 1, 1, 1, 0, 1, 0, 1, 1, 0, 1, 0,\n",
       "       0, 0, 0, 1, 0, 0, 0, 0, 0, 0, 0, 0, 0, 0, 0, 0, 0, 0, 0, 0, 0, 1,\n",
       "       1, 0, 1, 1, 0, 0, 0, 1, 0, 0, 0, 1, 0, 0, 1, 0, 1, 1, 1, 1, 0, 0,\n",
       "       0, 1, 0, 0, 0, 0, 0, 0, 0, 1, 0, 0, 0, 0, 0, 0, 0, 1, 1, 0, 0, 1,\n",
       "       0, 1, 0, 0, 0, 1, 0, 1, 1, 0, 1, 1, 0, 0, 0, 1, 0, 0, 0, 0, 0, 1,\n",
       "       0, 1, 1, 0, 1, 0, 1, 1, 1, 1, 1, 0, 1, 1, 1, 1, 1, 0, 0, 0, 1, 1,\n",
       "       1, 1, 1, 1, 1, 1, 1, 1, 0, 0, 1, 1, 1, 1, 1, 0, 1, 1, 1, 0, 1, 1,\n",
       "       1, 1, 1, 1, 0, 0, 1, 1, 1, 1, 1, 0, 1, 1, 1, 0, 0, 0, 0, 0, 0, 0,\n",
       "       0, 0, 0, 0, 0, 0, 0, 0, 1, 0, 0, 1, 1, 0, 0, 0, 0, 0, 0, 0, 0, 0,\n",
       "       0, 1, 1, 1, 0, 1, 1, 1, 0, 0, 0, 0, 0, 0, 0, 0, 1, 0, 0, 1, 1, 1,\n",
       "       1, 1, 0, 0, 1, 1, 1, 1, 0, 1, 0, 0, 0, 0, 1, 0, 0, 0, 0, 1, 1, 0,\n",
       "       1, 1, 1, 1, 0, 0, 1, 0, 1, 1, 1, 1, 1, 1, 1, 1, 1, 1, 1, 1, 0, 0,\n",
       "       1, 0, 1, 1, 0, 0, 1, 1, 1, 1, 1, 1, 0, 1, 1, 1, 1, 1, 1, 0, 1, 1,\n",
       "       0, 1, 0, 0, 0, 0, 0, 0, 0, 0, 0, 0, 1, 0, 0, 0, 0, 0, 0, 1, 1, 0,\n",
       "       0, 1, 0, 1, 0, 1, 0, 1, 0, 0, 0, 0, 0, 0, 0, 1, 1, 1, 1, 1, 1, 1],\n",
       "      dtype=int64)"
      ]
     },
     "execution_count": 7,
     "metadata": {},
     "output_type": "execute_result"
    }
   ],
   "source": [
    "#Default boundary condition is 0.5\n",
    "y_pred = clf_lr.predict(X)\n",
    "y_pred"
   ]
  },
  {
   "cell_type": "code",
   "execution_count": 6,
   "metadata": {
    "ExecuteTime": {
     "end_time": "2021-04-23T00:56:00.586992Z",
     "start_time": "2021-04-23T00:56:00.571034Z"
    }
   },
   "outputs": [],
   "source": [
    "# Set the Custom boundary\n",
    "y_pred_03 = (clf_lr.predict_proba(X)[:,1] >= 0.3)"
   ]
  },
  {
   "cell_type": "code",
   "execution_count": 8,
   "metadata": {
    "ExecuteTime": {
     "end_time": "2021-04-23T00:56:10.762047Z",
     "start_time": "2021-04-23T00:56:10.750039Z"
    }
   },
   "outputs": [
    {
     "data": {
      "text/plain": [
       "array([ True,  True, False,  True, False, False,  True, False, False,\n",
       "        True,  True,  True, False,  True,  True,  True,  True, False,\n",
       "        True,  True, False,  True, False, False,  True,  True,  True,\n",
       "        True,  True,  True, False,  True, False,  True,  True,  True,\n",
       "        True,  True,  True,  True,  True,  True,  True,  True,  True,\n",
       "        True,  True, False, False, False,  True,  True,  True,  True,\n",
       "       False, False, False, False,  True,  True,  True, False,  True,\n",
       "       False, False,  True,  True,  True,  True,  True,  True,  True,\n",
       "        True,  True,  True,  True,  True,  True,  True,  True,  True,\n",
       "        True,  True,  True,  True,  True,  True,  True,  True,  True,\n",
       "        True,  True,  True,  True,  True,  True,  True, False, False,\n",
       "        True,  True,  True,  True,  True,  True, False, False, False,\n",
       "        True,  True,  True,  True,  True,  True,  True,  True,  True,\n",
       "        True,  True,  True,  True,  True, False, False, False,  True,\n",
       "       False, False,  True,  True,  True,  True,  True,  True,  True,\n",
       "        True,  True,  True,  True,  True, False, False, False, False,\n",
       "       False,  True,  True, False, False,  True,  True,  True,  True,\n",
       "        True,  True,  True,  True, False,  True,  True,  True, False,\n",
       "       False, False,  True,  True, False,  True,  True,  True,  True,\n",
       "        True,  True,  True,  True,  True,  True,  True,  True,  True,\n",
       "       False, False, False, False, False, False, False,  True,  True,\n",
       "        True,  True,  True,  True,  True,  True, False,  True,  True,\n",
       "        True, False,  True,  True, False, False, False,  True,  True,\n",
       "       False, False, False, False, False, False,  True, False,  True,\n",
       "        True,  True, False,  True,  True, False,  True,  True, False,\n",
       "       False,  True,  True, False,  True,  True,  True,  True, False,\n",
       "        True,  True,  True,  True,  True,  True,  True,  True,  True,\n",
       "        True, False, False, False,  True, False,  True,  True,  True,\n",
       "        True, False,  True,  True, False, False,  True,  True,  True,\n",
       "       False, False,  True,  True,  True,  True, False,  True,  True,\n",
       "       False,  True,  True, False,  True,  True,  True,  True,  True,\n",
       "        True, False,  True, False, False, False,  True, False,  True,\n",
       "        True,  True,  True, False,  True,  True,  True,  True,  True,\n",
       "       False,  True,  True,  True,  True,  True,  True, False,  True,\n",
       "        True,  True,  True,  True,  True,  True,  True,  True,  True,\n",
       "        True,  True,  True,  True,  True,  True,  True,  True,  True,\n",
       "        True,  True,  True, False,  True,  True,  True,  True,  True,\n",
       "        True,  True,  True,  True,  True,  True,  True,  True, False,\n",
       "        True,  True,  True,  True,  True,  True,  True, False,  True,\n",
       "       False,  True, False, False, False,  True,  True, False,  True,\n",
       "        True,  True,  True,  True,  True, False, False, False, False,\n",
       "       False, False, False, False, False, False,  True,  True,  True,\n",
       "        True,  True,  True,  True,  True, False, False,  True, False,\n",
       "       False, False,  True,  True, False, False,  True,  True,  True,\n",
       "        True,  True,  True,  True,  True,  True,  True,  True,  True,\n",
       "        True, False, False, False, False,  True,  True, False, False,\n",
       "       False,  True,  True, False,  True,  True,  True,  True,  True,\n",
       "       False,  True,  True,  True,  True,  True,  True,  True,  True,\n",
       "        True,  True,  True,  True,  True,  True, False, False,  True,\n",
       "        True,  True,  True,  True,  True,  True,  True,  True,  True,\n",
       "        True,  True,  True,  True,  True,  True,  True,  True,  True,\n",
       "       False,  True,  True,  True,  True,  True,  True,  True, False,\n",
       "       False, False, False,  True, False, False,  True,  True,  True,\n",
       "       False,  True,  True,  True,  True,  True,  True,  True,  True,\n",
       "        True,  True,  True,  True, False,  True,  True,  True,  True,\n",
       "       False, False,  True,  True,  True,  True,  True,  True,  True,\n",
       "        True,  True])"
      ]
     },
     "execution_count": 8,
     "metadata": {},
     "output_type": "execute_result"
    }
   ],
   "source": [
    "y_pred_03"
   ]
  },
  {
   "cell_type": "code",
   "execution_count": 9,
   "metadata": {
    "ExecuteTime": {
     "end_time": "2021-04-23T00:58:00.543784Z",
     "start_time": "2021-04-23T00:58:00.531817Z"
    }
   },
   "outputs": [
    {
     "data": {
      "text/plain": [
       "array([[197,  79],\n",
       "       [ 78, 152]], dtype=int64)"
      ]
     },
     "execution_count": 9,
     "metadata": {},
     "output_type": "execute_result"
    }
   ],
   "source": [
    "from sklearn.metrics import confusion_matrix\n",
    "confusion_matrix(y, y_pred)"
   ]
  },
  {
   "cell_type": "code",
   "execution_count": 10,
   "metadata": {
    "ExecuteTime": {
     "end_time": "2021-04-23T01:01:11.489381Z",
     "start_time": "2021-04-23T01:01:11.479367Z"
    }
   },
   "outputs": [
    {
     "data": {
      "text/plain": [
       "array([[119, 157],\n",
       "       [ 17, 213]], dtype=int64)"
      ]
     },
     "execution_count": 10,
     "metadata": {},
     "output_type": "execute_result"
    }
   ],
   "source": [
    " confusion_matrix(y, y_pred_03)"
   ]
  },
  {
   "cell_type": "code",
   "execution_count": null,
   "metadata": {},
   "outputs": [],
   "source": [
    " "
   ]
  }
 ],
 "metadata": {
  "kernelspec": {
   "display_name": "Python 3",
   "language": "python",
   "name": "python3"
  },
  "language_info": {
   "codemirror_mode": {
    "name": "ipython",
    "version": 3
   },
   "file_extension": ".py",
   "mimetype": "text/x-python",
   "name": "python",
   "nbconvert_exporter": "python",
   "pygments_lexer": "ipython3",
   "version": "3.8.5"
  },
  "toc": {
   "base_numbering": 1,
   "nav_menu": {},
   "number_sections": true,
   "sideBar": true,
   "skip_h1_title": false,
   "title_cell": "Table of Contents",
   "title_sidebar": "Contents",
   "toc_cell": false,
   "toc_position": {},
   "toc_section_display": true,
   "toc_window_display": false
  }
 },
 "nbformat": 4,
 "nbformat_minor": 4
}
