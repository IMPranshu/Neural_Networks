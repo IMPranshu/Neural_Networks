{
 "cells": [
  {
   "cell_type": "code",
   "execution_count": 51,
   "id": "0b712616",
   "metadata": {
    "ExecuteTime": {
     "end_time": "2021-06-23T03:49:37.236240Z",
     "start_time": "2021-06-23T03:49:37.212346Z"
    }
   },
   "outputs": [],
   "source": [
    "import pandas as pd\n",
    "df = pd.read_csv('C:/Users/Specter/Desktop/resources/Data Files/7. ST Academy - Time Series resource files/daily-min-temperatures.csv', header =0, parse_dates=[0])\n",
    "df['t']= df['Temp'].shift(1)\n",
    "train, test = df[1:df.shape[0]-7], df[df.shape[0]-7:]\n",
    "train_X, train_y = train['t'], train['Temp']\n",
    "test_X, test_y = test['t'], test['Temp']"
   ]
  },
  {
   "cell_type": "code",
   "execution_count": 52,
   "id": "3e5b7e03",
   "metadata": {
    "ExecuteTime": {
     "end_time": "2021-06-23T03:49:44.565537Z",
     "start_time": "2021-06-23T03:49:44.441245Z"
    }
   },
   "outputs": [
    {
     "name": "stdout",
     "output_type": "stream",
     "text": [
      "3643    10.0\n",
      "3644    12.9\n",
      "3645    14.6\n",
      "3646    14.0\n",
      "3647    13.6\n",
      "3648    13.5\n",
      "3649    15.7\n",
      "Name: t, dtype: float64\n",
      "3643    12.9\n",
      "3644    14.6\n",
      "3645    14.0\n",
      "3646    13.6\n",
      "3647    13.5\n",
      "3648    15.7\n",
      "3649    13.0\n",
      "Name: Temp, dtype: float64\n"
     ]
    },
    {
     "data": {
      "text/plain": [
       "[<matplotlib.lines.Line2D at 0x243c4147a30>]"
      ]
     },
     "execution_count": 52,
     "metadata": {},
     "output_type": "execute_result"
    },
    {
     "data": {
      "image/png": "[encoded data removed]",
      "text/plain": [
       "<Figure size 432x288 with 1 Axes>"
      ]
     },
     "metadata": {
      "needs_background": "light"
     },
     "output_type": "display_data"
    }
   ],
   "source": [
    "predictions = test_X.copy()\n",
    "print(predictions)\n",
    "print(test_y)\n",
    "from sklearn.metrics import mean_squared_error\n",
    "mse = mean_squared_error(test_y, predictions)\n",
    "mse\n",
    "from matplotlib import pyplot\n",
    "pyplot.plot(test_y)\n",
    "pyplot.plot(predictions, color = 'red')"
   ]
  },
  {
   "cell_type": "code",
   "execution_count": 53,
   "id": "46f4fb08",
   "metadata": {
    "ExecuteTime": {
     "end_time": "2021-06-23T03:50:14.056860Z",
     "start_time": "2021-06-23T03:50:14.042894Z"
    }
   },
   "outputs": [
    {
     "data": {
      "text/html": [
       "<div>\n",
       "<style scoped>\n",
       "    .dataframe tbody tr th:only-of-type {\n",
       "        vertical-align: middle;\n",
       "    }\n",
       "\n",
       "    .dataframe tbody tr th {\n",
       "        vertical-align: top;\n",
       "    }\n",
       "\n",
       "    .dataframe thead th {\n",
       "        text-align: right;\n",
       "    }\n",
       "</style>\n",
       "<table border=\"1\" class=\"dataframe\">\n",
       "  <thead>\n",
       "    <tr style=\"text-align: right;\">\n",
       "      <th></th>\n",
       "      <th>Date</th>\n",
       "      <th>Temp</th>\n",
       "      <th>t</th>\n",
       "    </tr>\n",
       "  </thead>\n",
       "  <tbody>\n",
       "    <tr>\n",
       "      <th>1</th>\n",
       "      <td>1981-01-02</td>\n",
       "      <td>17.9</td>\n",
       "      <td>20.7</td>\n",
       "    </tr>\n",
       "    <tr>\n",
       "      <th>2</th>\n",
       "      <td>1981-01-03</td>\n",
       "      <td>18.8</td>\n",
       "      <td>17.9</td>\n",
       "    </tr>\n",
       "    <tr>\n",
       "      <th>3</th>\n",
       "      <td>1981-01-04</td>\n",
       "      <td>14.6</td>\n",
       "      <td>18.8</td>\n",
       "    </tr>\n",
       "    <tr>\n",
       "      <th>4</th>\n",
       "      <td>1981-01-05</td>\n",
       "      <td>15.8</td>\n",
       "      <td>14.6</td>\n",
       "    </tr>\n",
       "    <tr>\n",
       "      <th>5</th>\n",
       "      <td>1981-01-06</td>\n",
       "      <td>15.8</td>\n",
       "      <td>15.8</td>\n",
       "    </tr>\n",
       "  </tbody>\n",
       "</table>\n",
       "</div>"
      ],
      "text/plain": [
       "        Date  Temp     t\n",
       "1 1981-01-02  17.9  20.7\n",
       "2 1981-01-03  18.8  17.9\n",
       "3 1981-01-04  14.6  18.8\n",
       "4 1981-01-05  15.8  14.6\n",
       "5 1981-01-06  15.8  15.8"
      ]
     },
     "execution_count": 53,
     "metadata": {},
     "output_type": "execute_result"
    }
   ],
   "source": [
    "train.head()"
   ]
  },
  {
   "cell_type": "code",
   "execution_count": 54,
   "id": "a16fc757",
   "metadata": {
    "ExecuteTime": {
     "end_time": "2021-06-23T03:50:45.745617Z",
     "start_time": "2021-06-23T03:50:45.737658Z"
    }
   },
   "outputs": [],
   "source": [
    "from statsmodels.tsa.ar_model import AR"
   ]
  },
  {
   "cell_type": "code",
   "execution_count": 57,
   "id": "fd983ca6",
   "metadata": {
    "ExecuteTime": {
     "end_time": "2021-06-23T03:52:25.445324Z",
     "start_time": "2021-06-23T03:52:25.437347Z"
    }
   },
   "outputs": [
    {
     "name": "stderr",
     "output_type": "stream",
     "text": [
      "C:\\ProgramData\\Anaconda3\\envs\\myenv\\lib\\site-packages\\statsmodels\\tsa\\ar_model.py:791: FutureWarning: \n",
      "statsmodels.tsa.AR has been deprecated in favor of statsmodels.tsa.AutoReg and\n",
      "statsmodels.tsa.SARIMAX.\n",
      "\n",
      "AutoReg adds the ability to specify exogenous variables, include time trends,\n",
      "and add seasonal dummies. The AutoReg API differs from AR since the model is\n",
      "treated as immutable, and so the entire specification including the lag\n",
      "length must be specified when creating the model. This change is too\n",
      "substantial to incorporate into the existing AR api. The function\n",
      "ar_select_order performs lag length selection for AutoReg models.\n",
      "\n",
      "AutoReg only estimates parameters using conditional MLE (OLS). Use SARIMAX to\n",
      "estimate ARX and related models using full MLE via the Kalman Filter.\n",
      "\n",
      "To silence this warning and continue using AR until it is removed, use:\n",
      "\n",
      "import warnings\n",
      "warnings.filterwarnings('ignore', 'statsmodels.tsa.ar_model.AR', FutureWarning)\n",
      "\n",
      "  warnings.warn(AR_DEPRECATION_WARN, FutureWarning)\n"
     ]
    }
   ],
   "source": [
    "model = AR(train)"
   ]
  },
  {
   "cell_type": "code",
   "execution_count": 56,
   "id": "000a97cc",
   "metadata": {
    "ExecuteTime": {
     "end_time": "2021-06-23T03:52:19.862086Z",
     "start_time": "2021-06-23T03:52:19.852104Z"
    }
   },
   "outputs": [],
   "source": [
    "train, test = df.Temp[1:df.shape[0]-7], df.Temp[df.shape[0]-7:]\n"
   ]
  },
  {
   "cell_type": "code",
   "execution_count": 58,
   "id": "ab28deca",
   "metadata": {
    "ExecuteTime": {
     "end_time": "2021-06-23T03:52:44.141149Z",
     "start_time": "2021-06-23T03:52:44.098264Z"
    }
   },
   "outputs": [],
   "source": [
    "model_fit = model.fit()"
   ]
  },
  {
   "cell_type": "code",
   "execution_count": 59,
   "id": "cc123ba0",
   "metadata": {
    "ExecuteTime": {
     "end_time": "2021-06-23T03:52:53.819411Z",
     "start_time": "2021-06-23T03:52:53.806407Z"
    }
   },
   "outputs": [
    {
     "data": {
      "text/plain": [
       "29"
      ]
     },
     "execution_count": 59,
     "metadata": {},
     "output_type": "execute_result"
    }
   ],
   "source": [
    "model_fit.k_ar"
   ]
  },
  {
   "cell_type": "code",
   "execution_count": 60,
   "id": "abd7ae4c",
   "metadata": {
    "ExecuteTime": {
     "end_time": "2021-06-23T03:53:43.051318Z",
     "start_time": "2021-06-23T03:53:43.044309Z"
    }
   },
   "outputs": [],
   "source": [
    "predictions = model_fit.predict(start = len(train), end = len(train)+len(test)-1)"
   ]
  },
  {
   "cell_type": "code",
   "execution_count": 61,
   "id": "359754d1",
   "metadata": {
    "ExecuteTime": {
     "end_time": "2021-06-23T03:53:46.791572Z",
     "start_time": "2021-06-23T03:53:46.770580Z"
    }
   },
   "outputs": [
    {
     "data": {
      "text/plain": [
       "3643    11.871275\n",
       "3644    13.053794\n",
       "3645    13.532591\n",
       "3646    13.243126\n",
       "3647    13.091438\n",
       "3648    13.146989\n",
       "3649    13.176153\n",
       "dtype: float64"
      ]
     },
     "execution_count": 61,
     "metadata": {},
     "output_type": "execute_result"
    }
   ],
   "source": [
    "predictions"
   ]
  },
  {
   "cell_type": "code",
   "execution_count": 71,
   "id": "f5143e8b",
   "metadata": {
    "ExecuteTime": {
     "end_time": "2021-06-23T04:06:48.333365Z",
     "start_time": "2021-06-23T04:06:48.320408Z"
    }
   },
   "outputs": [],
   "source": [
    "from sklearn.metrics import mean_squared_error"
   ]
  },
  {
   "cell_type": "code",
   "execution_count": 84,
   "id": "1a85a077",
   "metadata": {
    "ExecuteTime": {
     "end_time": "2021-06-23T04:14:05.117599Z",
     "start_time": "2021-06-23T04:14:05.105632Z"
    }
   },
   "outputs": [
    {
     "data": {
      "text/plain": [
       "1.45245684251851"
      ]
     },
     "execution_count": 84,
     "metadata": {},
     "output_type": "execute_result"
    }
   ],
   "source": [
    "mse = mean_squared_error(test.values, predict)\n",
    "mse\n"
   ]
  },
  {
   "cell_type": "code",
   "execution_count": 86,
   "id": "49c4f238",
   "metadata": {
    "ExecuteTime": {
     "end_time": "2021-06-23T04:15:22.078576Z",
     "start_time": "2021-06-23T04:15:21.925986Z"
    }
   },
   "outputs": [
    {
     "data": {
      "text/plain": [
       "[<matplotlib.lines.Line2D at 0x243c8356ca0>]"
      ]
     },
     "execution_count": 86,
     "metadata": {},
     "output_type": "execute_result"
    },
    {
     "data": {
      "image/png": "[encoded data removed]",
      "text/plain": [
       "<Figure size 432x288 with 1 Axes>"
      ]
     },
     "metadata": {
      "needs_background": "light"
     },
     "output_type": "display_data"
    }
   ],
   "source": [
    "pyplot.plot(test.values)\n",
    "pyplot.plot(predict, color='red')"
   ]
  },
  {
   "cell_type": "code",
   "execution_count": 65,
   "id": "e18dcce9",
   "metadata": {
    "ExecuteTime": {
     "end_time": "2021-06-23T04:00:18.496324Z",
     "start_time": "2021-06-23T04:00:18.477339Z"
    }
   },
   "outputs": [],
   "source": [
    "data = train"
   ]
  },
  {
   "cell_type": "code",
   "execution_count": 66,
   "id": "7268a6d1",
   "metadata": {
    "ExecuteTime": {
     "end_time": "2021-06-23T04:00:27.469608Z",
     "start_time": "2021-06-23T04:00:27.461631Z"
    }
   },
   "outputs": [],
   "source": [
    "predict = []"
   ]
  },
  {
   "cell_type": "code",
   "execution_count": 70,
   "id": "405e5749",
   "metadata": {
    "ExecuteTime": {
     "end_time": "2021-06-23T04:03:10.413786Z",
     "start_time": "2021-06-23T04:03:10.251783Z"
    }
   },
   "outputs": [
    {
     "name": "stdout",
     "output_type": "stream",
     "text": [
      "11.871274847727838\n",
      "13.660699943835196\n",
      "14.353164144090155\n",
      "13.430120791627004\n",
      "13.374756477185125\n",
      "13.479111299420525\n",
      "14.767773018439854\n"
     ]
    },
    {
     "name": "stderr",
     "output_type": "stream",
     "text": [
      "C:\\ProgramData\\Anaconda3\\envs\\myenv\\lib\\site-packages\\statsmodels\\tsa\\ar_model.py:791: FutureWarning: \n",
      "statsmodels.tsa.AR has been deprecated in favor of statsmodels.tsa.AutoReg and\n",
      "statsmodels.tsa.SARIMAX.\n",
      "\n",
      "AutoReg adds the ability to specify exogenous variables, include time trends,\n",
      "and add seasonal dummies. The AutoReg API differs from AR since the model is\n",
      "treated as immutable, and so the entire specification including the lag\n",
      "length must be specified when creating the model. This change is too\n",
      "substantial to incorporate into the existing AR api. The function\n",
      "ar_select_order performs lag length selection for AutoReg models.\n",
      "\n",
      "AutoReg only estimates parameters using conditional MLE (OLS). Use SARIMAX to\n",
      "estimate ARX and related models using full MLE via the Kalman Filter.\n",
      "\n",
      "To silence this warning and continue using AR until it is removed, use:\n",
      "\n",
      "import warnings\n",
      "warnings.filterwarnings('ignore', 'statsmodels.tsa.ar_model.AR', FutureWarning)\n",
      "\n",
      "  warnings.warn(AR_DEPRECATION_WARN, FutureWarning)\n"
     ]
    }
   ],
   "source": [
    "for t in test:\n",
    "    model = AR(data)\n",
    "    model_fit = model.fit()\n",
    "    y = model_fit.predict(start = len(data), end = len(train)+len(test)-1)\n",
    "    print(y.values[0])\n",
    "    predict.append(y.values[0])\n",
    "    data = np.append(data, t)\n",
    "    data = pd.Series(data)"
   ]
  },
  {
   "cell_type": "code",
   "execution_count": 69,
   "id": "95d48ff7",
   "metadata": {
    "ExecuteTime": {
     "end_time": "2021-06-23T04:03:07.020822Z",
     "start_time": "2021-06-23T04:03:07.003831Z"
    }
   },
   "outputs": [],
   "source": [
    "import numpy as np"
   ]
  },
  {
   "cell_type": "code",
   "execution_count": 75,
   "id": "a243918c",
   "metadata": {
    "ExecuteTime": {
     "end_time": "2021-06-23T04:11:16.649773Z",
     "start_time": "2021-06-23T04:11:16.639800Z"
    }
   },
   "outputs": [
    {
     "data": {
      "text/plain": [
       "array([12.9, 14.6, 14. , 13.6, 13.5, 15.7, 13. ])"
      ]
     },
     "execution_count": 75,
     "metadata": {},
     "output_type": "execute_result"
    }
   ],
   "source": [
    "test.values"
   ]
  },
  {
   "cell_type": "code",
   "execution_count": 77,
   "id": "7f363032",
   "metadata": {
    "ExecuteTime": {
     "end_time": "2021-06-23T04:11:34.707818Z",
     "start_time": "2021-06-23T04:11:34.700816Z"
    }
   },
   "outputs": [
    {
     "data": {
      "text/plain": [
       "[11.871274847727838,\n",
       " 11.871274847727838,\n",
       " 13.660699943835196,\n",
       " 14.353164144090155,\n",
       " 13.430120791627004,\n",
       " 13.374756477185125,\n",
       " 13.479111299420525,\n",
       " 14.767773018439854]"
      ]
     },
     "execution_count": 77,
     "metadata": {},
     "output_type": "execute_result"
    }
   ],
   "source": [
    "predict"
   ]
  },
  {
   "cell_type": "code",
   "execution_count": 82,
   "id": "86adc18f",
   "metadata": {
    "ExecuteTime": {
     "end_time": "2021-06-23T04:13:48.052872Z",
     "start_time": "2021-06-23T04:13:48.036914Z"
    }
   },
   "outputs": [
    {
     "data": {
      "text/plain": [
       "11.871274847727838"
      ]
     },
     "execution_count": 82,
     "metadata": {},
     "output_type": "execute_result"
    }
   ],
   "source": [
    "predict.pop(0)"
   ]
  },
  {
   "cell_type": "code",
   "execution_count": 83,
   "id": "06a53368",
   "metadata": {
    "ExecuteTime": {
     "end_time": "2021-06-23T04:13:51.570041Z",
     "start_time": "2021-06-23T04:13:51.564058Z"
    }
   },
   "outputs": [
    {
     "data": {
      "text/plain": [
       "[11.871274847727838,\n",
       " 13.660699943835196,\n",
       " 14.353164144090155,\n",
       " 13.430120791627004,\n",
       " 13.374756477185125,\n",
       " 13.479111299420525,\n",
       " 14.767773018439854]"
      ]
     },
     "execution_count": 83,
     "metadata": {},
     "output_type": "execute_result"
    }
   ],
   "source": [
    "predict"
   ]
  },
  {
   "cell_type": "code",
   "execution_count": 89,
   "id": "4a2bedf2",
   "metadata": {
    "ExecuteTime": {
     "end_time": "2021-06-23T04:25:03.913931Z",
     "start_time": "2021-06-23T04:25:03.854085Z"
    }
   },
   "outputs": [
    {
     "ename": "KeyError",
     "evalue": "'t'",
     "output_type": "error",
     "traceback": [
      "\u001b[1;31m---------------------------------------------------------------------------\u001b[0m",
      "\u001b[1;31mKeyError\u001b[0m                                  Traceback (most recent call last)",
      "\u001b[1;32mC:\\ProgramData\\Anaconda3\\envs\\myenv\\lib\\site-packages\\pandas\\core\\indexes\\base.py\u001b[0m in \u001b[0;36mget_loc\u001b[1;34m(self, key, method, tolerance)\u001b[0m\n\u001b[0;32m   3079\u001b[0m             \u001b[1;32mtry\u001b[0m\u001b[1;33m:\u001b[0m\u001b[1;33m\u001b[0m\u001b[1;33m\u001b[0m\u001b[0m\n\u001b[1;32m-> 3080\u001b[1;33m                 \u001b[1;32mreturn\u001b[0m \u001b[0mself\u001b[0m\u001b[1;33m.\u001b[0m\u001b[0m_engine\u001b[0m\u001b[1;33m.\u001b[0m\u001b[0mget_loc\u001b[0m\u001b[1;33m(\u001b[0m\u001b[0mcasted_key\u001b[0m\u001b[1;33m)\u001b[0m\u001b[1;33m\u001b[0m\u001b[1;33m\u001b[0m\u001b[0m\n\u001b[0m\u001b[0;32m   3081\u001b[0m             \u001b[1;32mexcept\u001b[0m \u001b[0mKeyError\u001b[0m \u001b[1;32mas\u001b[0m \u001b[0merr\u001b[0m\u001b[1;33m:\u001b[0m\u001b[1;33m\u001b[0m\u001b[1;33m\u001b[0m\u001b[0m\n",
      "\u001b[1;32mpandas\\_libs\\index.pyx\u001b[0m in \u001b[0;36mpandas._libs.index.IndexEngine.get_loc\u001b[1;34m()\u001b[0m\n",
      "\u001b[1;32mpandas\\_libs\\index.pyx\u001b[0m in \u001b[0;36mpandas._libs.index.IndexEngine.get_loc\u001b[1;34m()\u001b[0m\n",
      "\u001b[1;32mpandas\\_libs\\hashtable_class_helper.pxi\u001b[0m in \u001b[0;36mpandas._libs.hashtable.PyObjectHashTable.get_item\u001b[1;34m()\u001b[0m\n",
      "\u001b[1;32mpandas\\_libs\\hashtable_class_helper.pxi\u001b[0m in \u001b[0;36mpandas._libs.hashtable.PyObjectHashTable.get_item\u001b[1;34m()\u001b[0m\n",
      "\u001b[1;31mKeyError\u001b[0m: 't'",
      "\nThe above exception was the direct cause of the following exception:\n",
      "\u001b[1;31mKeyError\u001b[0m                                  Traceback (most recent call last)",
      "\u001b[1;32m<ipython-input-89-d1da79a1fe45>\u001b[0m in \u001b[0;36m<module>\u001b[1;34m\u001b[0m\n\u001b[0;32m      4\u001b[0m \u001b[0mtrain\u001b[0m\u001b[1;33m,\u001b[0m \u001b[0mtest\u001b[0m \u001b[1;33m=\u001b[0m \u001b[0mdf\u001b[0m\u001b[1;33m[\u001b[0m\u001b[1;36m1\u001b[0m\u001b[1;33m:\u001b[0m\u001b[0mdf\u001b[0m\u001b[1;33m.\u001b[0m\u001b[0mshape\u001b[0m\u001b[1;33m[\u001b[0m\u001b[1;36m0\u001b[0m\u001b[1;33m]\u001b[0m\u001b[1;33m-\u001b[0m\u001b[1;36m7\u001b[0m\u001b[1;33m]\u001b[0m\u001b[1;33m,\u001b[0m \u001b[0mdf\u001b[0m\u001b[1;33m[\u001b[0m\u001b[0mdf\u001b[0m\u001b[1;33m.\u001b[0m\u001b[0mshape\u001b[0m\u001b[1;33m[\u001b[0m\u001b[1;36m0\u001b[0m\u001b[1;33m]\u001b[0m\u001b[1;33m-\u001b[0m\u001b[1;36m7\u001b[0m\u001b[1;33m:\u001b[0m\u001b[1;33m]\u001b[0m\u001b[1;33m\u001b[0m\u001b[1;33m\u001b[0m\u001b[0m\n\u001b[0;32m      5\u001b[0m \u001b[0mdf\u001b[0m\u001b[1;33m[\u001b[0m\u001b[1;34m't'\u001b[0m\u001b[1;33m]\u001b[0m\u001b[1;33m=\u001b[0m \u001b[0mdf\u001b[0m\u001b[1;33m[\u001b[0m\u001b[1;34m'Temp'\u001b[0m\u001b[1;33m]\u001b[0m\u001b[1;33m.\u001b[0m\u001b[0mshift\u001b[0m\u001b[1;33m(\u001b[0m\u001b[1;36m1\u001b[0m\u001b[1;33m)\u001b[0m\u001b[1;33m\u001b[0m\u001b[1;33m\u001b[0m\u001b[0m\n\u001b[1;32m----> 6\u001b[1;33m \u001b[0mtrain_X\u001b[0m\u001b[1;33m,\u001b[0m \u001b[0mtrain_y\u001b[0m \u001b[1;33m=\u001b[0m \u001b[0mtrain\u001b[0m\u001b[1;33m[\u001b[0m\u001b[1;34m't'\u001b[0m\u001b[1;33m]\u001b[0m\u001b[1;33m,\u001b[0m \u001b[0mtrain\u001b[0m\u001b[1;33m[\u001b[0m\u001b[1;34m'Temp'\u001b[0m\u001b[1;33m]\u001b[0m\u001b[1;33m\u001b[0m\u001b[1;33m\u001b[0m\u001b[0m\n\u001b[0m\u001b[0;32m      7\u001b[0m \u001b[0mtest_X\u001b[0m\u001b[1;33m,\u001b[0m \u001b[0mtest_y\u001b[0m \u001b[1;33m=\u001b[0m \u001b[0mtest\u001b[0m\u001b[1;33m[\u001b[0m\u001b[1;34m't'\u001b[0m\u001b[1;33m]\u001b[0m\u001b[1;33m,\u001b[0m \u001b[0mtest\u001b[0m\u001b[1;33m[\u001b[0m\u001b[1;34m'Temp'\u001b[0m\u001b[1;33m]\u001b[0m\u001b[1;33m\u001b[0m\u001b[1;33m\u001b[0m\u001b[0m\n\u001b[0;32m      8\u001b[0m \u001b[1;32mfrom\u001b[0m \u001b[0mstatsmodels\u001b[0m\u001b[1;33m.\u001b[0m\u001b[0mtsa\u001b[0m\u001b[1;33m.\u001b[0m\u001b[0mar_model\u001b[0m \u001b[1;32mimport\u001b[0m \u001b[0mAR\u001b[0m\u001b[1;33m\u001b[0m\u001b[1;33m\u001b[0m\u001b[0m\n",
      "\u001b[1;32mC:\\ProgramData\\Anaconda3\\envs\\myenv\\lib\\site-packages\\pandas\\core\\frame.py\u001b[0m in \u001b[0;36m__getitem__\u001b[1;34m(self, key)\u001b[0m\n\u001b[0;32m   3022\u001b[0m             \u001b[1;32mif\u001b[0m \u001b[0mself\u001b[0m\u001b[1;33m.\u001b[0m\u001b[0mcolumns\u001b[0m\u001b[1;33m.\u001b[0m\u001b[0mnlevels\u001b[0m \u001b[1;33m>\u001b[0m \u001b[1;36m1\u001b[0m\u001b[1;33m:\u001b[0m\u001b[1;33m\u001b[0m\u001b[1;33m\u001b[0m\u001b[0m\n\u001b[0;32m   3023\u001b[0m                 \u001b[1;32mreturn\u001b[0m \u001b[0mself\u001b[0m\u001b[1;33m.\u001b[0m\u001b[0m_getitem_multilevel\u001b[0m\u001b[1;33m(\u001b[0m\u001b[0mkey\u001b[0m\u001b[1;33m)\u001b[0m\u001b[1;33m\u001b[0m\u001b[1;33m\u001b[0m\u001b[0m\n\u001b[1;32m-> 3024\u001b[1;33m             \u001b[0mindexer\u001b[0m \u001b[1;33m=\u001b[0m \u001b[0mself\u001b[0m\u001b[1;33m.\u001b[0m\u001b[0mcolumns\u001b[0m\u001b[1;33m.\u001b[0m\u001b[0mget_loc\u001b[0m\u001b[1;33m(\u001b[0m\u001b[0mkey\u001b[0m\u001b[1;33m)\u001b[0m\u001b[1;33m\u001b[0m\u001b[1;33m\u001b[0m\u001b[0m\n\u001b[0m\u001b[0;32m   3025\u001b[0m             \u001b[1;32mif\u001b[0m \u001b[0mis_integer\u001b[0m\u001b[1;33m(\u001b[0m\u001b[0mindexer\u001b[0m\u001b[1;33m)\u001b[0m\u001b[1;33m:\u001b[0m\u001b[1;33m\u001b[0m\u001b[1;33m\u001b[0m\u001b[0m\n\u001b[0;32m   3026\u001b[0m                 \u001b[0mindexer\u001b[0m \u001b[1;33m=\u001b[0m \u001b[1;33m[\u001b[0m\u001b[0mindexer\u001b[0m\u001b[1;33m]\u001b[0m\u001b[1;33m\u001b[0m\u001b[1;33m\u001b[0m\u001b[0m\n",
      "\u001b[1;32mC:\\ProgramData\\Anaconda3\\envs\\myenv\\lib\\site-packages\\pandas\\core\\indexes\\base.py\u001b[0m in \u001b[0;36mget_loc\u001b[1;34m(self, key, method, tolerance)\u001b[0m\n\u001b[0;32m   3080\u001b[0m                 \u001b[1;32mreturn\u001b[0m \u001b[0mself\u001b[0m\u001b[1;33m.\u001b[0m\u001b[0m_engine\u001b[0m\u001b[1;33m.\u001b[0m\u001b[0mget_loc\u001b[0m\u001b[1;33m(\u001b[0m\u001b[0mcasted_key\u001b[0m\u001b[1;33m)\u001b[0m\u001b[1;33m\u001b[0m\u001b[1;33m\u001b[0m\u001b[0m\n\u001b[0;32m   3081\u001b[0m             \u001b[1;32mexcept\u001b[0m \u001b[0mKeyError\u001b[0m \u001b[1;32mas\u001b[0m \u001b[0merr\u001b[0m\u001b[1;33m:\u001b[0m\u001b[1;33m\u001b[0m\u001b[1;33m\u001b[0m\u001b[0m\n\u001b[1;32m-> 3082\u001b[1;33m                 \u001b[1;32mraise\u001b[0m \u001b[0mKeyError\u001b[0m\u001b[1;33m(\u001b[0m\u001b[0mkey\u001b[0m\u001b[1;33m)\u001b[0m \u001b[1;32mfrom\u001b[0m \u001b[0merr\u001b[0m\u001b[1;33m\u001b[0m\u001b[1;33m\u001b[0m\u001b[0m\n\u001b[0m\u001b[0;32m   3083\u001b[0m \u001b[1;33m\u001b[0m\u001b[0m\n\u001b[0;32m   3084\u001b[0m         \u001b[1;32mif\u001b[0m \u001b[0mtolerance\u001b[0m \u001b[1;32mis\u001b[0m \u001b[1;32mnot\u001b[0m \u001b[1;32mNone\u001b[0m\u001b[1;33m:\u001b[0m\u001b[1;33m\u001b[0m\u001b[1;33m\u001b[0m\u001b[0m\n",
      "\u001b[1;31mKeyError\u001b[0m: 't'"
     ]
    }
   ],
   "source": [
    "import pandas as pd\n",
    "import numpy as np\n",
    "df = pd.read_csv('C:/Users/Specter/Desktop/resources/Data Files/7. ST Academy - Time Series resource files/daily-min-temperatures.csv', header =0, parse_dates=[0])\n",
    "train, test = df[1:df.shape[0]-7], df[df.shape[0]-7:]\n",
    "train_X, train_y = train['t'], train['Temp']\n",
    "test_X, test_y = test['t'], test['Temp']\n",
    "from statsmodels.tsa.ar_model import AR\n",
    "data = train\n",
    "predict = []\n",
    "for t in test:\n",
    "    model = AR(data)\n",
    "    model_fit = model.fit()\n",
    "    y = model_fit.predict(start = len(data), end = len(train)+len(test)-1)\n",
    "    print(y.values[0])\n",
    "    predict.append(y.values[0])\n",
    "    data = np.append(data, t)\n",
    "    data = pd.Series(data)\n",
    "from sklearn.metrics import mean_squared_error\n",
    "mse = mean_squared_error(test.values, predict)\n",
    "mse\n",
    "pyplot.plot(test.values)\n",
    "pyplot.plot(predict, color='red')"
   ]
  },
  {
   "cell_type": "code",
   "execution_count": 91,
   "id": "0337c40b",
   "metadata": {
    "ExecuteTime": {
     "end_time": "2021-06-23T04:26:48.375948Z",
     "start_time": "2021-06-23T04:26:48.081563Z"
    }
   },
   "outputs": [
    {
     "name": "stdout",
     "output_type": "stream",
     "text": [
      "11.871274847727838\n",
      "13.660699943835196\n",
      "14.353164144090155\n",
      "13.430120791627004\n",
      "13.374756477185125\n",
      "13.479111299420525\n",
      "14.767773018439854\n"
     ]
    },
    {
     "data": {
      "text/plain": [
       "[<matplotlib.lines.Line2D at 0x243c8741f10>]"
      ]
     },
     "execution_count": 91,
     "metadata": {},
     "output_type": "execute_result"
    },
    {
     "data": {
      "image/png": "[encoded data removed]",
      "text/plain": [
       "<Figure size 432x288 with 1 Axes>"
      ]
     },
     "metadata": {
      "needs_background": "light"
     },
     "output_type": "display_data"
    }
   ],
   "source": [
    "import pandas as pd\n",
    "import numpy as np\n",
    "df = pd.read_csv('C:/Users/Specter/Desktop/resources/Data Files/7. ST Academy - Time Series resource files/daily-min-temperatures.csv', header =0, parse_dates=[0])\n",
    "df['t']= df['Temp'].shift(1)\n",
    "train, test = df[1:df.shape[0]-7], df[df.shape[0]-7:]\n",
    "train_X, train_y = train['t'], train['Temp']\n",
    "test_X, test_y = test['t'], test['Temp']\n",
    "from statsmodels.tsa.ar_model import AR\n",
    "train, test = df.Temp[1:df.shape[0]-7], df.Temp[df.shape[0]-7:]\n",
    "data = train\n",
    "predict = []\n",
    "for t in test:\n",
    "    model = AR(data)\n",
    "    model_fit = model.fit()\n",
    "    y = model_fit.predict(start = len(data), end = len(train)+len(test)-1)\n",
    "    print(y.values[0])\n",
    "    predict.append(y.values[0])\n",
    "    data = np.append(data, t)\n",
    "    data = pd.Series(data)\n",
    "from sklearn.metrics import mean_squared_error\n",
    "mse = mean_squared_error(test.values, predict)\n",
    "mse\n",
    "pyplot.plot(test.values)\n",
    "pyplot.plot(predict, color='red')"
   ]
  },
  {
   "cell_type": "code",
   "execution_count": null,
   "id": "463e39af",
   "metadata": {},
   "outputs": [],
   "source": []
  },
  {
   "cell_type": "code",
   "execution_count": null,
   "id": "fe1f1140",
   "metadata": {},
   "outputs": [],
   "source": []
  }
 ],
 "metadata": {
  "kernelspec": {
   "display_name": "Python 3",
   "language": "python",
   "name": "python3"
  },
  "language_info": {
   "codemirror_mode": {
    "name": "ipython",
    "version": 3
   },
   "file_extension": ".py",
   "mimetype": "text/x-python",
   "name": "python",
   "nbconvert_exporter": "python",
   "pygments_lexer": "ipython3",
   "version": "3.8.8"
  },
  "latex_envs": {
   "LaTeX_envs_menu_present": true,
   "autoclose": false,
   "autocomplete": true,
   "bibliofile": "biblio.bib",
   "cite_by": "apalike",
   "current_citInitial": 1,
   "eqLabelWithNumbers": true,
   "eqNumInitial": 1,
   "hotkeys": {
    "equation": "Ctrl-E",
    "itemize": "Ctrl-I"
   },
   "labels_anchors": false,
   "latex_user_defs": false,
   "report_style_numbering": false,
   "user_envs_cfg": false
  },
  "toc": {
   "base_numbering": 1,
   "nav_menu": {},
   "number_sections": true,
   "sideBar": true,
   "skip_h1_title": false,
   "title_cell": "Table of Contents",
   "title_sidebar": "Contents",
   "toc_cell": false,
   "toc_position": {},
   "toc_section_display": true,
   "toc_window_display": false
  }
 },
 "nbformat": 4,
 "nbformat_minor": 5
}
