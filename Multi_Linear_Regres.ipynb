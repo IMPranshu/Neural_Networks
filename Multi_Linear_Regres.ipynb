{
 "cells": [
  {
   "cell_type": "code",
   "execution_count": 14,
   "metadata": {
    "ExecuteTime": {
     "end_time": "2021-04-21T07:30:39.205644Z",
     "start_time": "2021-04-21T07:30:39.172736Z"
    }
   },
   "outputs": [
    {
     "name": "stderr",
     "output_type": "stream",
     "text": [
      "<ipython-input-14-73a3c53ffa63>:7: SettingWithCopyWarning: \n",
      "A value is trying to be set on a copy of a slice from a DataFrame\n",
      "\n",
      "See the caveats in the documentation: https://pandas.pydata.org/pandas-docs/stable/user_guide/indexing.html#returning-a-view-versus-a-copy\n",
      "  df.rainfall[(df.rainfall < .3*lv )]= .3*lv\n"
     ]
    }
   ],
   "source": [
    "import numpy as np\n",
    "import pandas as pd\n",
    "import seaborn as sns\n",
    "df=pd.read_csv('C:/Users/Specter/Desktop/resources/Data Files/1. ST Academy - Crash course and Regression files/House_Price.csv',header =0)\n",
    "uv=np.percentile(df.n_hot_rooms,[99])[0]\n",
    "lv=np.percentile(df.rainfall,[1])[0]\n",
    "df.rainfall[(df.rainfall < .3*lv )]= .3*lv\n",
    "df.n_hos_beds=df.n_hos_beds.fillna(df.n_hos_beds.mean())\n",
    "df.crime_rate= np.log(1+df.crime_rate)\n",
    "df['avg_dist'] = (df.dist1+df.dist2+df.dist3+df.dist4)/4\n",
    "del df['dist1']\n",
    "del df['dist2']\n",
    "del df['dist3']\n",
    "del df['dist4']\n",
    "del df['bus_ter']\n",
    "df=pd.get_dummies(df)\n",
    "del df['airport_NO']\n",
    "del df['waterbody_None']\n",
    "df.corr()\n",
    "del df['parks']\n",
    "import statsmodels.api as sn"
   ]
  },
  {
   "cell_type": "code",
   "execution_count": 2,
   "metadata": {
    "ExecuteTime": {
     "end_time": "2021-04-21T07:10:55.537337Z",
     "start_time": "2021-04-21T07:10:55.530357Z"
    }
   },
   "outputs": [],
   "source": [
    "X_multi = df.drop(\"price\",axis = 1)"
   ]
  },
  {
   "cell_type": "code",
   "execution_count": 4,
   "metadata": {
    "ExecuteTime": {
     "end_time": "2021-04-21T07:11:17.810111Z",
     "start_time": "2021-04-21T07:11:17.781193Z"
    }
   },
   "outputs": [
    {
     "data": {
      "text/html": [
       "<div>\n",
       "<style scoped>\n",
       "    .dataframe tbody tr th:only-of-type {\n",
       "        vertical-align: middle;\n",
       "    }\n",
       "\n",
       "    .dataframe tbody tr th {\n",
       "        vertical-align: top;\n",
       "    }\n",
       "\n",
       "    .dataframe thead th {\n",
       "        text-align: right;\n",
       "    }\n",
       "</style>\n",
       "<table border=\"1\" class=\"dataframe\">\n",
       "  <thead>\n",
       "    <tr style=\"text-align: right;\">\n",
       "      <th></th>\n",
       "      <th>crime_rate</th>\n",
       "      <th>resid_area</th>\n",
       "      <th>air_qual</th>\n",
       "      <th>room_num</th>\n",
       "      <th>age</th>\n",
       "      <th>teachers</th>\n",
       "      <th>poor_prop</th>\n",
       "      <th>n_hos_beds</th>\n",
       "      <th>n_hot_rooms</th>\n",
       "      <th>rainfall</th>\n",
       "      <th>avg_dist</th>\n",
       "      <th>airport_YES</th>\n",
       "      <th>waterbody_Lake</th>\n",
       "      <th>waterbody_Lake and River</th>\n",
       "      <th>waterbody_River</th>\n",
       "    </tr>\n",
       "  </thead>\n",
       "  <tbody>\n",
       "    <tr>\n",
       "      <th>0</th>\n",
       "      <td>0.006300</td>\n",
       "      <td>32.31</td>\n",
       "      <td>0.538</td>\n",
       "      <td>6.575</td>\n",
       "      <td>65.2</td>\n",
       "      <td>24.7</td>\n",
       "      <td>4.98</td>\n",
       "      <td>5.480</td>\n",
       "      <td>11.1920</td>\n",
       "      <td>23</td>\n",
       "      <td>4.0875</td>\n",
       "      <td>1</td>\n",
       "      <td>0</td>\n",
       "      <td>0</td>\n",
       "      <td>1</td>\n",
       "    </tr>\n",
       "    <tr>\n",
       "      <th>1</th>\n",
       "      <td>0.026944</td>\n",
       "      <td>37.07</td>\n",
       "      <td>0.469</td>\n",
       "      <td>6.421</td>\n",
       "      <td>78.9</td>\n",
       "      <td>22.2</td>\n",
       "      <td>9.14</td>\n",
       "      <td>7.332</td>\n",
       "      <td>12.1728</td>\n",
       "      <td>42</td>\n",
       "      <td>4.9675</td>\n",
       "      <td>0</td>\n",
       "      <td>1</td>\n",
       "      <td>0</td>\n",
       "      <td>0</td>\n",
       "    </tr>\n",
       "    <tr>\n",
       "      <th>2</th>\n",
       "      <td>0.026924</td>\n",
       "      <td>37.07</td>\n",
       "      <td>0.469</td>\n",
       "      <td>7.185</td>\n",
       "      <td>61.1</td>\n",
       "      <td>22.2</td>\n",
       "      <td>4.03</td>\n",
       "      <td>7.394</td>\n",
       "      <td>101.1200</td>\n",
       "      <td>38</td>\n",
       "      <td>4.9675</td>\n",
       "      <td>0</td>\n",
       "      <td>0</td>\n",
       "      <td>0</td>\n",
       "      <td>0</td>\n",
       "    </tr>\n",
       "    <tr>\n",
       "      <th>3</th>\n",
       "      <td>0.031857</td>\n",
       "      <td>32.18</td>\n",
       "      <td>0.458</td>\n",
       "      <td>6.998</td>\n",
       "      <td>45.8</td>\n",
       "      <td>21.3</td>\n",
       "      <td>2.94</td>\n",
       "      <td>9.268</td>\n",
       "      <td>11.2672</td>\n",
       "      <td>45</td>\n",
       "      <td>6.0650</td>\n",
       "      <td>1</td>\n",
       "      <td>1</td>\n",
       "      <td>0</td>\n",
       "      <td>0</td>\n",
       "    </tr>\n",
       "    <tr>\n",
       "      <th>4</th>\n",
       "      <td>0.066770</td>\n",
       "      <td>32.18</td>\n",
       "      <td>0.458</td>\n",
       "      <td>7.147</td>\n",
       "      <td>54.2</td>\n",
       "      <td>21.3</td>\n",
       "      <td>5.33</td>\n",
       "      <td>8.824</td>\n",
       "      <td>11.2896</td>\n",
       "      <td>55</td>\n",
       "      <td>6.0625</td>\n",
       "      <td>0</td>\n",
       "      <td>1</td>\n",
       "      <td>0</td>\n",
       "      <td>0</td>\n",
       "    </tr>\n",
       "  </tbody>\n",
       "</table>\n",
       "</div>"
      ],
      "text/plain": [
       "   crime_rate  resid_area  air_qual  room_num   age  teachers  poor_prop  \\\n",
       "0    0.006300       32.31     0.538     6.575  65.2      24.7       4.98   \n",
       "1    0.026944       37.07     0.469     6.421  78.9      22.2       9.14   \n",
       "2    0.026924       37.07     0.469     7.185  61.1      22.2       4.03   \n",
       "3    0.031857       32.18     0.458     6.998  45.8      21.3       2.94   \n",
       "4    0.066770       32.18     0.458     7.147  54.2      21.3       5.33   \n",
       "\n",
       "   n_hos_beds  n_hot_rooms  rainfall  avg_dist  airport_YES  waterbody_Lake  \\\n",
       "0       5.480      11.1920        23    4.0875            1               0   \n",
       "1       7.332      12.1728        42    4.9675            0               1   \n",
       "2       7.394     101.1200        38    4.9675            0               0   \n",
       "3       9.268      11.2672        45    6.0650            1               1   \n",
       "4       8.824      11.2896        55    6.0625            0               1   \n",
       "\n",
       "   waterbody_Lake and River  waterbody_River  \n",
       "0                         0                1  \n",
       "1                         0                0  \n",
       "2                         0                0  \n",
       "3                         0                0  \n",
       "4                         0                0  "
      ]
     },
     "execution_count": 4,
     "metadata": {},
     "output_type": "execute_result"
    }
   ],
   "source": [
    "X_multi.head()"
   ]
  },
  {
   "cell_type": "code",
   "execution_count": 5,
   "metadata": {
    "ExecuteTime": {
     "end_time": "2021-04-21T07:11:34.003175Z",
     "start_time": "2021-04-21T07:11:33.991206Z"
    }
   },
   "outputs": [],
   "source": [
    "y_multi = df[\"price\"]"
   ]
  },
  {
   "cell_type": "code",
   "execution_count": 6,
   "metadata": {
    "ExecuteTime": {
     "end_time": "2021-04-21T07:11:42.457939Z",
     "start_time": "2021-04-21T07:11:42.441939Z"
    }
   },
   "outputs": [
    {
     "data": {
      "text/plain": [
       "0    24.0\n",
       "1    21.6\n",
       "2    34.7\n",
       "3    33.4\n",
       "4    36.2\n",
       "Name: price, dtype: float64"
      ]
     },
     "execution_count": 6,
     "metadata": {},
     "output_type": "execute_result"
    }
   ],
   "source": [
    "y_multi.head()"
   ]
  },
  {
   "cell_type": "code",
   "execution_count": 7,
   "metadata": {
    "ExecuteTime": {
     "end_time": "2021-04-21T07:12:19.169906Z",
     "start_time": "2021-04-21T07:12:19.147967Z"
    }
   },
   "outputs": [],
   "source": [
    "X_multi_cons = sn.add_constant(X_multi)"
   ]
  },
  {
   "cell_type": "code",
   "execution_count": 8,
   "metadata": {
    "ExecuteTime": {
     "end_time": "2021-04-21T07:12:28.402314Z",
     "start_time": "2021-04-21T07:12:28.369404Z"
    }
   },
   "outputs": [
    {
     "data": {
      "text/html": [
       "<div>\n",
       "<style scoped>\n",
       "    .dataframe tbody tr th:only-of-type {\n",
       "        vertical-align: middle;\n",
       "    }\n",
       "\n",
       "    .dataframe tbody tr th {\n",
       "        vertical-align: top;\n",
       "    }\n",
       "\n",
       "    .dataframe thead th {\n",
       "        text-align: right;\n",
       "    }\n",
       "</style>\n",
       "<table border=\"1\" class=\"dataframe\">\n",
       "  <thead>\n",
       "    <tr style=\"text-align: right;\">\n",
       "      <th></th>\n",
       "      <th>const</th>\n",
       "      <th>crime_rate</th>\n",
       "      <th>resid_area</th>\n",
       "      <th>air_qual</th>\n",
       "      <th>room_num</th>\n",
       "      <th>age</th>\n",
       "      <th>teachers</th>\n",
       "      <th>poor_prop</th>\n",
       "      <th>n_hos_beds</th>\n",
       "      <th>n_hot_rooms</th>\n",
       "      <th>rainfall</th>\n",
       "      <th>avg_dist</th>\n",
       "      <th>airport_YES</th>\n",
       "      <th>waterbody_Lake</th>\n",
       "      <th>waterbody_Lake and River</th>\n",
       "      <th>waterbody_River</th>\n",
       "    </tr>\n",
       "  </thead>\n",
       "  <tbody>\n",
       "    <tr>\n",
       "      <th>0</th>\n",
       "      <td>1.0</td>\n",
       "      <td>0.006300</td>\n",
       "      <td>32.31</td>\n",
       "      <td>0.538</td>\n",
       "      <td>6.575</td>\n",
       "      <td>65.2</td>\n",
       "      <td>24.7</td>\n",
       "      <td>4.98</td>\n",
       "      <td>5.480</td>\n",
       "      <td>11.1920</td>\n",
       "      <td>23</td>\n",
       "      <td>4.0875</td>\n",
       "      <td>1</td>\n",
       "      <td>0</td>\n",
       "      <td>0</td>\n",
       "      <td>1</td>\n",
       "    </tr>\n",
       "    <tr>\n",
       "      <th>1</th>\n",
       "      <td>1.0</td>\n",
       "      <td>0.026944</td>\n",
       "      <td>37.07</td>\n",
       "      <td>0.469</td>\n",
       "      <td>6.421</td>\n",
       "      <td>78.9</td>\n",
       "      <td>22.2</td>\n",
       "      <td>9.14</td>\n",
       "      <td>7.332</td>\n",
       "      <td>12.1728</td>\n",
       "      <td>42</td>\n",
       "      <td>4.9675</td>\n",
       "      <td>0</td>\n",
       "      <td>1</td>\n",
       "      <td>0</td>\n",
       "      <td>0</td>\n",
       "    </tr>\n",
       "    <tr>\n",
       "      <th>2</th>\n",
       "      <td>1.0</td>\n",
       "      <td>0.026924</td>\n",
       "      <td>37.07</td>\n",
       "      <td>0.469</td>\n",
       "      <td>7.185</td>\n",
       "      <td>61.1</td>\n",
       "      <td>22.2</td>\n",
       "      <td>4.03</td>\n",
       "      <td>7.394</td>\n",
       "      <td>101.1200</td>\n",
       "      <td>38</td>\n",
       "      <td>4.9675</td>\n",
       "      <td>0</td>\n",
       "      <td>0</td>\n",
       "      <td>0</td>\n",
       "      <td>0</td>\n",
       "    </tr>\n",
       "    <tr>\n",
       "      <th>3</th>\n",
       "      <td>1.0</td>\n",
       "      <td>0.031857</td>\n",
       "      <td>32.18</td>\n",
       "      <td>0.458</td>\n",
       "      <td>6.998</td>\n",
       "      <td>45.8</td>\n",
       "      <td>21.3</td>\n",
       "      <td>2.94</td>\n",
       "      <td>9.268</td>\n",
       "      <td>11.2672</td>\n",
       "      <td>45</td>\n",
       "      <td>6.0650</td>\n",
       "      <td>1</td>\n",
       "      <td>1</td>\n",
       "      <td>0</td>\n",
       "      <td>0</td>\n",
       "    </tr>\n",
       "    <tr>\n",
       "      <th>4</th>\n",
       "      <td>1.0</td>\n",
       "      <td>0.066770</td>\n",
       "      <td>32.18</td>\n",
       "      <td>0.458</td>\n",
       "      <td>7.147</td>\n",
       "      <td>54.2</td>\n",
       "      <td>21.3</td>\n",
       "      <td>5.33</td>\n",
       "      <td>8.824</td>\n",
       "      <td>11.2896</td>\n",
       "      <td>55</td>\n",
       "      <td>6.0625</td>\n",
       "      <td>0</td>\n",
       "      <td>1</td>\n",
       "      <td>0</td>\n",
       "      <td>0</td>\n",
       "    </tr>\n",
       "  </tbody>\n",
       "</table>\n",
       "</div>"
      ],
      "text/plain": [
       "   const  crime_rate  resid_area  air_qual  room_num   age  teachers  \\\n",
       "0    1.0    0.006300       32.31     0.538     6.575  65.2      24.7   \n",
       "1    1.0    0.026944       37.07     0.469     6.421  78.9      22.2   \n",
       "2    1.0    0.026924       37.07     0.469     7.185  61.1      22.2   \n",
       "3    1.0    0.031857       32.18     0.458     6.998  45.8      21.3   \n",
       "4    1.0    0.066770       32.18     0.458     7.147  54.2      21.3   \n",
       "\n",
       "   poor_prop  n_hos_beds  n_hot_rooms  rainfall  avg_dist  airport_YES  \\\n",
       "0       4.98       5.480      11.1920        23    4.0875            1   \n",
       "1       9.14       7.332      12.1728        42    4.9675            0   \n",
       "2       4.03       7.394     101.1200        38    4.9675            0   \n",
       "3       2.94       9.268      11.2672        45    6.0650            1   \n",
       "4       5.33       8.824      11.2896        55    6.0625            0   \n",
       "\n",
       "   waterbody_Lake  waterbody_Lake and River  waterbody_River  \n",
       "0               0                         0                1  \n",
       "1               1                         0                0  \n",
       "2               0                         0                0  \n",
       "3               1                         0                0  \n",
       "4               1                         0                0  "
      ]
     },
     "execution_count": 8,
     "metadata": {},
     "output_type": "execute_result"
    }
   ],
   "source": [
    "X_multi_cons.head()"
   ]
  },
  {
   "cell_type": "code",
   "execution_count": 9,
   "metadata": {
    "ExecuteTime": {
     "end_time": "2021-04-21T07:13:36.531209Z",
     "start_time": "2021-04-21T07:13:36.515193Z"
    }
   },
   "outputs": [],
   "source": [
    "lm_multi = sn.OLS(y_multi, X_multi_cons).fit()"
   ]
  },
  {
   "cell_type": "code",
   "execution_count": 10,
   "metadata": {
    "ExecuteTime": {
     "end_time": "2021-04-21T07:13:53.469025Z",
     "start_time": "2021-04-21T07:13:53.431125Z"
    }
   },
   "outputs": [
    {
     "data": {
      "text/html": [
       "<table class=\"simpletable\">\n",
       "<caption>OLS Regression Results</caption>\n",
       "<tr>\n",
       "  <th>Dep. Variable:</th>          <td>price</td>      <th>  R-squared:         </th> <td>   0.720</td> \n",
       "</tr>\n",
       "<tr>\n",
       "  <th>Model:</th>                   <td>OLS</td>       <th>  Adj. R-squared:    </th> <td>   0.712</td> \n",
       "</tr>\n",
       "<tr>\n",
       "  <th>Method:</th>             <td>Least Squares</td>  <th>  F-statistic:       </th> <td>   84.21</td> \n",
       "</tr>\n",
       "<tr>\n",
       "  <th>Date:</th>             <td>Wed, 21 Apr 2021</td> <th>  Prob (F-statistic):</th> <td>5.54e-125</td>\n",
       "</tr>\n",
       "<tr>\n",
       "  <th>Time:</th>                 <td>12:43:53</td>     <th>  Log-Likelihood:    </th> <td> -1516.9</td> \n",
       "</tr>\n",
       "<tr>\n",
       "  <th>No. Observations:</th>      <td>   506</td>      <th>  AIC:               </th> <td>   3066.</td> \n",
       "</tr>\n",
       "<tr>\n",
       "  <th>Df Residuals:</th>          <td>   490</td>      <th>  BIC:               </th> <td>   3133.</td> \n",
       "</tr>\n",
       "<tr>\n",
       "  <th>Df Model:</th>              <td>    15</td>      <th>                     </th>     <td> </td>    \n",
       "</tr>\n",
       "<tr>\n",
       "  <th>Covariance Type:</th>      <td>nonrobust</td>    <th>                     </th>     <td> </td>    \n",
       "</tr>\n",
       "</table>\n",
       "<table class=\"simpletable\">\n",
       "<tr>\n",
       "              <td></td>                <th>coef</th>     <th>std err</th>      <th>t</th>      <th>P>|t|</th>  <th>[0.025</th>    <th>0.975]</th>  \n",
       "</tr>\n",
       "<tr>\n",
       "  <th>const</th>                    <td>   -5.6215</td> <td>    5.156</td> <td>   -1.090</td> <td> 0.276</td> <td>  -15.751</td> <td>    4.508</td>\n",
       "</tr>\n",
       "<tr>\n",
       "  <th>crime_rate</th>               <td>    0.0240</td> <td>    0.348</td> <td>    0.069</td> <td> 0.945</td> <td>   -0.660</td> <td>    0.708</td>\n",
       "</tr>\n",
       "<tr>\n",
       "  <th>resid_area</th>               <td>   -0.0432</td> <td>    0.058</td> <td>   -0.750</td> <td> 0.453</td> <td>   -0.156</td> <td>    0.070</td>\n",
       "</tr>\n",
       "<tr>\n",
       "  <th>air_qual</th>                 <td>  -15.8999</td> <td>    4.007</td> <td>   -3.969</td> <td> 0.000</td> <td>  -23.772</td> <td>   -8.028</td>\n",
       "</tr>\n",
       "<tr>\n",
       "  <th>room_num</th>                 <td>    4.0161</td> <td>    0.427</td> <td>    9.403</td> <td> 0.000</td> <td>    3.177</td> <td>    4.855</td>\n",
       "</tr>\n",
       "<tr>\n",
       "  <th>age</th>                      <td>   -0.0058</td> <td>    0.014</td> <td>   -0.428</td> <td> 0.669</td> <td>   -0.033</td> <td>    0.021</td>\n",
       "</tr>\n",
       "<tr>\n",
       "  <th>teachers</th>                 <td>    1.0055</td> <td>    0.122</td> <td>    8.231</td> <td> 0.000</td> <td>    0.765</td> <td>    1.245</td>\n",
       "</tr>\n",
       "<tr>\n",
       "  <th>poor_prop</th>                <td>   -0.5774</td> <td>    0.053</td> <td>  -10.950</td> <td> 0.000</td> <td>   -0.681</td> <td>   -0.474</td>\n",
       "</tr>\n",
       "<tr>\n",
       "  <th>n_hos_beds</th>               <td>    0.3287</td> <td>    0.152</td> <td>    2.158</td> <td> 0.031</td> <td>    0.029</td> <td>    0.628</td>\n",
       "</tr>\n",
       "<tr>\n",
       "  <th>n_hot_rooms</th>              <td>    0.0349</td> <td>    0.042</td> <td>    0.828</td> <td> 0.408</td> <td>   -0.048</td> <td>    0.118</td>\n",
       "</tr>\n",
       "<tr>\n",
       "  <th>rainfall</th>                 <td>    0.0164</td> <td>    0.018</td> <td>    0.919</td> <td> 0.359</td> <td>   -0.019</td> <td>    0.051</td>\n",
       "</tr>\n",
       "<tr>\n",
       "  <th>avg_dist</th>                 <td>   -1.2221</td> <td>    0.189</td> <td>   -6.466</td> <td> 0.000</td> <td>   -1.593</td> <td>   -0.851</td>\n",
       "</tr>\n",
       "<tr>\n",
       "  <th>airport_YES</th>              <td>    1.1305</td> <td>    0.455</td> <td>    2.485</td> <td> 0.013</td> <td>    0.236</td> <td>    2.025</td>\n",
       "</tr>\n",
       "<tr>\n",
       "  <th>waterbody_Lake</th>           <td>    0.2715</td> <td>    0.642</td> <td>    0.423</td> <td> 0.673</td> <td>   -0.990</td> <td>    1.533</td>\n",
       "</tr>\n",
       "<tr>\n",
       "  <th>waterbody_Lake and River</th> <td>   -0.6748</td> <td>    0.715</td> <td>   -0.944</td> <td> 0.346</td> <td>   -2.079</td> <td>    0.729</td>\n",
       "</tr>\n",
       "<tr>\n",
       "  <th>waterbody_River</th>          <td>   -0.2976</td> <td>    0.547</td> <td>   -0.544</td> <td> 0.587</td> <td>   -1.372</td> <td>    0.777</td>\n",
       "</tr>\n",
       "</table>\n",
       "<table class=\"simpletable\">\n",
       "<tr>\n",
       "  <th>Omnibus:</th>       <td>182.694</td> <th>  Durbin-Watson:     </th> <td>   0.987</td> \n",
       "</tr>\n",
       "<tr>\n",
       "  <th>Prob(Omnibus):</th> <td> 0.000</td>  <th>  Jarque-Bera (JB):  </th> <td> 829.465</td> \n",
       "</tr>\n",
       "<tr>\n",
       "  <th>Skew:</th>          <td> 1.553</td>  <th>  Prob(JB):          </th> <td>7.66e-181</td>\n",
       "</tr>\n",
       "<tr>\n",
       "  <th>Kurtosis:</th>      <td> 8.449</td>  <th>  Cond. No.          </th> <td>2.32e+03</td> \n",
       "</tr>\n",
       "</table><br/><br/>Notes:<br/>[1] Standard Errors assume that the covariance matrix of the errors is correctly specified.<br/>[2] The condition number is large, 2.32e+03. This might indicate that there are<br/>strong multicollinearity or other numerical problems."
      ],
      "text/plain": [
       "<class 'statsmodels.iolib.summary.Summary'>\n",
       "\"\"\"\n",
       "                            OLS Regression Results                            \n",
       "==============================================================================\n",
       "Dep. Variable:                  price   R-squared:                       0.720\n",
       "Model:                            OLS   Adj. R-squared:                  0.712\n",
       "Method:                 Least Squares   F-statistic:                     84.21\n",
       "Date:                Wed, 21 Apr 2021   Prob (F-statistic):          5.54e-125\n",
       "Time:                        12:43:53   Log-Likelihood:                -1516.9\n",
       "No. Observations:                 506   AIC:                             3066.\n",
       "Df Residuals:                     490   BIC:                             3133.\n",
       "Df Model:                          15                                         \n",
       "Covariance Type:            nonrobust                                         \n",
       "============================================================================================\n",
       "                               coef    std err          t      P>|t|      [0.025      0.975]\n",
       "--------------------------------------------------------------------------------------------\n",
       "const                       -5.6215      5.156     -1.090      0.276     -15.751       4.508\n",
       "crime_rate                   0.0240      0.348      0.069      0.945      -0.660       0.708\n",
       "resid_area                  -0.0432      0.058     -0.750      0.453      -0.156       0.070\n",
       "air_qual                   -15.8999      4.007     -3.969      0.000     -23.772      -8.028\n",
       "room_num                     4.0161      0.427      9.403      0.000       3.177       4.855\n",
       "age                         -0.0058      0.014     -0.428      0.669      -0.033       0.021\n",
       "teachers                     1.0055      0.122      8.231      0.000       0.765       1.245\n",
       "poor_prop                   -0.5774      0.053    -10.950      0.000      -0.681      -0.474\n",
       "n_hos_beds                   0.3287      0.152      2.158      0.031       0.029       0.628\n",
       "n_hot_rooms                  0.0349      0.042      0.828      0.408      -0.048       0.118\n",
       "rainfall                     0.0164      0.018      0.919      0.359      -0.019       0.051\n",
       "avg_dist                    -1.2221      0.189     -6.466      0.000      -1.593      -0.851\n",
       "airport_YES                  1.1305      0.455      2.485      0.013       0.236       2.025\n",
       "waterbody_Lake               0.2715      0.642      0.423      0.673      -0.990       1.533\n",
       "waterbody_Lake and River    -0.6748      0.715     -0.944      0.346      -2.079       0.729\n",
       "waterbody_River             -0.2976      0.547     -0.544      0.587      -1.372       0.777\n",
       "==============================================================================\n",
       "Omnibus:                      182.694   Durbin-Watson:                   0.987\n",
       "Prob(Omnibus):                  0.000   Jarque-Bera (JB):              829.465\n",
       "Skew:                           1.553   Prob(JB):                    7.66e-181\n",
       "Kurtosis:                       8.449   Cond. No.                     2.32e+03\n",
       "==============================================================================\n",
       "\n",
       "Notes:\n",
       "[1] Standard Errors assume that the covariance matrix of the errors is correctly specified.\n",
       "[2] The condition number is large, 2.32e+03. This might indicate that there are\n",
       "strong multicollinearity or other numerical problems.\n",
       "\"\"\""
      ]
     },
     "execution_count": 10,
     "metadata": {},
     "output_type": "execute_result"
    }
   ],
   "source": [
    "lm_multi.summary()"
   ]
  },
  {
   "cell_type": "code",
   "execution_count": 11,
   "metadata": {
    "ExecuteTime": {
     "end_time": "2021-04-21T07:26:16.652485Z",
     "start_time": "2021-04-21T07:26:16.648485Z"
    }
   },
   "outputs": [],
   "source": [
    "lm3 = LinearRegression()"
   ]
  },
  {
   "cell_type": "code",
   "execution_count": 12,
   "metadata": {
    "ExecuteTime": {
     "end_time": "2021-04-21T07:26:55.447061Z",
     "start_time": "2021-04-21T07:26:55.420161Z"
    }
   },
   "outputs": [
    {
     "data": {
      "text/plain": [
       "LinearRegression()"
      ]
     },
     "execution_count": 12,
     "metadata": {},
     "output_type": "execute_result"
    }
   ],
   "source": [
    "lm3.fit(X_multi,y_multi)"
   ]
  },
  {
   "cell_type": "code",
   "execution_count": 13,
   "metadata": {
    "ExecuteTime": {
     "end_time": "2021-04-21T07:27:36.358807Z",
     "start_time": "2021-04-21T07:27:36.347829Z"
    }
   },
   "outputs": [
    {
     "name": "stdout",
     "output_type": "stream",
     "text": [
      "-5.62154884874068 [ 2.40469186e-02 -4.31806213e-02 -1.58999322e+01  4.01606302e+00\n",
      " -5.82027529e-03  1.00545648e+00 -5.77365304e-01  3.28723884e-01\n",
      "  3.48985822e-02  1.63988677e-02 -1.22206917e+00  1.13052186e+00\n",
      "  2.71529885e-01 -6.74759440e-01 -2.97608702e-01]\n"
     ]
    }
   ],
   "source": [
    "print(lm3.intercept_, lm3.coef_)"
   ]
  },
  {
   "cell_type": "code",
   "execution_count": null,
   "metadata": {},
   "outputs": [],
   "source": []
  }
 ],
 "metadata": {
  "kernelspec": {
   "display_name": "Python 3",
   "language": "python",
   "name": "python3"
  },
  "language_info": {
   "codemirror_mode": {
    "name": "ipython",
    "version": 3
   },
   "file_extension": ".py",
   "mimetype": "text/x-python",
   "name": "python",
   "nbconvert_exporter": "python",
   "pygments_lexer": "ipython3",
   "version": "3.8.5"
  },
  "toc": {
   "base_numbering": 1,
   "nav_menu": {},
   "number_sections": true,
   "sideBar": true,
   "skip_h1_title": false,
   "title_cell": "Table of Contents",
   "title_sidebar": "Contents",
   "toc_cell": false,
   "toc_position": {},
   "toc_section_display": true,
   "toc_window_display": false
  }
 },
 "nbformat": 4,
 "nbformat_minor": 4
}
