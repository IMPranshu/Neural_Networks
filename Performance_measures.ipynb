{
 "cells": [
  {
   "cell_type": "code",
   "execution_count": 1,
   "metadata": {
    "ExecuteTime": {
     "end_time": "2021-04-23T01:49:30.793343Z",
     "start_time": "2021-04-23T01:49:28.453830Z"
    }
   },
   "outputs": [
    {
     "name": "stderr",
     "output_type": "stream",
     "text": [
      "<ipython-input-1-fa2522350440>:8: SettingWithCopyWarning: \n",
      "A value is trying to be set on a copy of a slice from a DataFrame\n",
      "\n",
      "See the caveats in the documentation: https://pandas.pydata.org/pandas-docs/stable/user_guide/indexing.html#returning-a-view-versus-a-copy\n",
      "  df.rainfall[(df.rainfall < .3*lv )]= .3*lv\n",
      "C:\\ProgramData\\Anaconda3\\lib\\site-packages\\sklearn\\linear_model\\_logistic.py:762: ConvergenceWarning: lbfgs failed to converge (status=1):\n",
      "STOP: TOTAL NO. of ITERATIONS REACHED LIMIT.\n",
      "\n",
      "Increase the number of iterations (max_iter) or scale the data as shown in:\n",
      "    https://scikit-learn.org/stable/modules/preprocessing.html\n",
      "Please also refer to the documentation for alternative solver options:\n",
      "    https://scikit-learn.org/stable/modules/linear_model.html#logistic-regression\n",
      "  n_iter_i = _check_optimize_result(\n"
     ]
    },
    {
     "name": "stdout",
     "output_type": "stream",
     "text": [
      "Optimization terminated successfully.\n",
      "         Current function value: 0.557633\n",
      "         Iterations 7\n"
     ]
    },
    {
     "data": {
      "text/plain": [
       "array([[197,  79],\n",
       "       [ 78, 152]], dtype=int64)"
      ]
     },
     "execution_count": 1,
     "metadata": {},
     "output_type": "execute_result"
    }
   ],
   "source": [
    "import numpy as np\n",
    "import pandas as pd\n",
    "import seaborn as sns\n",
    "from sklearn.linear_model import LogisticRegression\n",
    "df=pd.read_csv('C:/Users/Specter/Desktop/resources/Data Files/2. ST Academy - Classification models resource files/House-Price.csv',header =0)\n",
    "uv=np.percentile(df.n_hot_rooms,[99])[0]\n",
    "lv=np.percentile(df.rainfall,[1])[0]\n",
    "df.rainfall[(df.rainfall < .3*lv )]= .3*lv\n",
    "df.n_hos_beds=df.n_hos_beds.fillna(df.n_hos_beds.mean())\n",
    "df['avg_dist'] = (df.dist1+df.dist2+df.dist3+df.dist4)/4\n",
    "del df['dist1']\n",
    "del df['dist2']\n",
    "del df['dist3']\n",
    "del df['dist4']\n",
    "del df['bus_ter']\n",
    "df=pd.get_dummies(df)\n",
    "del df['airport_NO']\n",
    "del df['waterbody_None']\n",
    "df.corr()\n",
    "del df['parks']\n",
    "X = df.loc[:, df.columns != 'Sold']\n",
    "y = df['Sold']\n",
    "clf_lr = LogisticRegression()\n",
    "clf_lr.fit(X,y)\n",
    "import statsmodels.api as sn\n",
    "X_cons = sn.add_constant(X)\n",
    "X_cons.head()\n",
    "import statsmodels.discrete.discrete_model as sm\n",
    "logit = sm.Logit(y, X_cons).fit()\n",
    "clf_lr.predict_proba(X)\n",
    "#Default boundary condition is 0.5\n",
    "y_pred = clf_lr.predict(X)\n",
    "# Set the Custom boundary\n",
    "y_pred_03 = (clf_lr.predict_proba(X)[:,1] >= 0.3)\n",
    "from sklearn.metrics import confusion_matrix\n",
    "#confusion_matrix(y, y_pred_03)\n",
    "confusion_matrix(y, y_pred)"
   ]
  },
  {
   "cell_type": "code",
   "execution_count": 2,
   "metadata": {
    "ExecuteTime": {
     "end_time": "2021-04-23T01:50:05.607924Z",
     "start_time": "2021-04-23T01:50:05.601940Z"
    }
   },
   "outputs": [],
   "source": [
    "from sklearn.metrics import precision_score, recall_score"
   ]
  },
  {
   "cell_type": "code",
   "execution_count": 3,
   "metadata": {
    "ExecuteTime": {
     "end_time": "2021-04-23T01:50:17.087179Z",
     "start_time": "2021-04-23T01:50:17.070196Z"
    }
   },
   "outputs": [
    {
     "data": {
      "text/plain": [
       "0.658008658008658"
      ]
     },
     "execution_count": 3,
     "metadata": {},
     "output_type": "execute_result"
    }
   ],
   "source": [
    "precision_score(y,y_pred)"
   ]
  },
  {
   "cell_type": "code",
   "execution_count": 4,
   "metadata": {
    "ExecuteTime": {
     "end_time": "2021-04-23T01:50:30.744517Z",
     "start_time": "2021-04-23T01:50:30.728547Z"
    }
   },
   "outputs": [
    {
     "data": {
      "text/plain": [
       "0.6608695652173913"
      ]
     },
     "execution_count": 4,
     "metadata": {},
     "output_type": "execute_result"
    }
   ],
   "source": [
    "recall_score(y , y_pred)"
   ]
  },
  {
   "cell_type": "code",
   "execution_count": 5,
   "metadata": {
    "ExecuteTime": {
     "end_time": "2021-04-23T01:51:02.316760Z",
     "start_time": "2021-04-23T01:51:02.292824Z"
    }
   },
   "outputs": [
    {
     "data": {
      "text/plain": [
       "0.6873188405797102"
      ]
     },
     "execution_count": 5,
     "metadata": {},
     "output_type": "execute_result"
    }
   ],
   "source": [
    "from sklearn.metrics import roc_auc_score\n",
    "roc_auc_score(y , y_pred)"
   ]
  },
  {
   "cell_type": "code",
   "execution_count": null,
   "metadata": {},
   "outputs": [],
   "source": []
  }
 ],
 "metadata": {
  "kernelspec": {
   "display_name": "Python 3",
   "language": "python",
   "name": "python3"
  },
  "language_info": {
   "codemirror_mode": {
    "name": "ipython",
    "version": 3
   },
   "file_extension": ".py",
   "mimetype": "text/x-python",
   "name": "python",
   "nbconvert_exporter": "python",
   "pygments_lexer": "ipython3",
   "version": "3.8.5"
  },
  "toc": {
   "base_numbering": 1,
   "nav_menu": {},
   "number_sections": true,
   "sideBar": true,
   "skip_h1_title": false,
   "title_cell": "Table of Contents",
   "title_sidebar": "Contents",
   "toc_cell": false,
   "toc_position": {},
   "toc_section_display": true,
   "toc_window_display": false
  }
 },
 "nbformat": 4,
 "nbformat_minor": 4
}
