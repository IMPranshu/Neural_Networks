{
 "cells": [
  {
   "cell_type": "code",
   "execution_count": null,
   "metadata": {},
   "outputs": [],
   "source": [
    "import numpy as np\n",
    "import pandas as pd\n",
    "%matplotlib inline\n",
    "import matplotlib as mpl\n",
    "import matplotlib.pyplot as plt\n",
    "import tensorflow as tf\n",
    "from tensorflow import keras\n",
    "fashion_mnist = keras.datasets.fashion_mnist\n",
    "(X_train_full, y_train_full), (X_test, y_test) = fashion_mnist.load_data()\n",
    "plt.imshow(X_train_full[1])\n",
    "class_names = ['T-shirt/top', 'Trouser', 'Pullover', 'Dress', 'Coat', 'Sandal', 'Shirt', 'Sneaker', 'Bag', 'Ankle boot']\n",
    "X_train_n = X_train_full/255.0\n",
    "X_test_n = X_test/255.0\n",
    "X_valid, X_train = X_train_n[:5000], X_train_n[5000:]\n",
    "y_valid , y_train = y_train_full[:5000], y_train_full[5000:]\n",
    "X_test = X_test_n\n",
    "model = keras.models.Sequential()\n",
    "model.add(keras.layers.Flatten(input_shape = [28,28]))\n",
    "model.add(keras.layers.Dense(300,activation = 'relu'))\n",
    "model.add(keras.layers.Dense(100,activation = 'relu'))\n",
    "model.add(keras.layers.Dense(10,activation = 'softmax'))\n",
    "model.summary()\n",
    "import pydot\n",
    "keras.utils.plot_model(model)"
   ]
  },
  {
   "cell_type": "code",
   "execution_count": 2,
   "metadata": {
    "ExecuteTime": {
     "end_time": "2021-05-17T08:33:33.420500Z",
     "start_time": "2021-05-17T08:33:28.049400Z"
    }
   },
   "outputs": [],
   "source": [
    "import numpy as np\n",
    "import pandas as pd\n",
    "%matplotlib inline\n",
    "import matplotlib as mpl\n",
    "import matplotlib.pyplot as plt\n",
    "import tensorflow as tf\n",
    "from tensorflow import keras"
   ]
  },
  {
   "cell_type": "code",
   "execution_count": 3,
   "metadata": {
    "ExecuteTime": {
     "end_time": "2021-05-17T08:43:43.961170Z",
     "start_time": "2021-05-17T08:43:43.944183Z"
    }
   },
   "outputs": [
    {
     "data": {
      "text/plain": [
       "'2.4.0'"
      ]
     },
     "execution_count": 3,
     "metadata": {},
     "output_type": "execute_result"
    }
   ],
   "source": [
    "keras.__version__"
   ]
  },
  {
   "cell_type": "code",
   "execution_count": 4,
   "metadata": {
    "ExecuteTime": {
     "end_time": "2021-05-17T08:43:51.314916Z",
     "start_time": "2021-05-17T08:43:51.299915Z"
    }
   },
   "outputs": [
    {
     "data": {
      "text/plain": [
       "'2.3.0'"
      ]
     },
     "execution_count": 4,
     "metadata": {},
     "output_type": "execute_result"
    }
   ],
   "source": [
    "tf.__version__"
   ]
  },
  {
   "cell_type": "code",
   "execution_count": 5,
   "metadata": {
    "ExecuteTime": {
     "end_time": "2021-05-17T08:58:21.454896Z",
     "start_time": "2021-05-17T08:54:25.979745Z"
    }
   },
   "outputs": [
    {
     "name": "stdout",
     "output_type": "stream",
     "text": [
      "Downloading data from https://storage.googleapis.com/tensorflow/tf-keras-datasets/train-labels-idx1-ubyte.gz\n",
      "32768/29515 [=================================] - 3s 95us/step\n",
      "Downloading data from https://storage.googleapis.com/tensorflow/tf-keras-datasets/train-images-idx3-ubyte.gz\n",
      "26427392/26421880 [==============================] - 206s 8us/step\n",
      "Downloading data from https://storage.googleapis.com/tensorflow/tf-keras-datasets/t10k-labels-idx1-ubyte.gz\n",
      "8192/5148 [===============================================] - 0s 6us/step\n",
      "Downloading data from https://storage.googleapis.com/tensorflow/tf-keras-datasets/t10k-images-idx3-ubyte.gz\n",
      "4423680/4422102 [==============================] - 12s 3us/step\n"
     ]
    },
    {
     "data": {
      "text/plain": [
       "<matplotlib.image.AxesImage at 0x1e214923e80>"
      ]
     },
     "execution_count": 5,
     "metadata": {},
     "output_type": "execute_result"
    },
    {
     "data": {
      "image/png": "[encoded data removed]",
      "text/plain": [
       "<Figure size 432x288 with 1 Axes>"
      ]
     },
     "metadata": {
      "needs_background": "light"
     },
     "output_type": "display_data"
    }
   ],
   "source": [
    "fashion_mnist = keras.datasets.fashion_mnist\n",
    "(X_train_full, y_train_full), (X_test, y_test) = fashion_mnist.load_data()\n",
    "plt.imshow(X_train_full[1])"
   ]
  },
  {
   "cell_type": "code",
   "execution_count": 6,
   "metadata": {
    "ExecuteTime": {
     "end_time": "2021-05-17T08:58:40.448306Z",
     "start_time": "2021-05-17T08:58:40.312669Z"
    }
   },
   "outputs": [
    {
     "data": {
      "text/plain": [
       "<matplotlib.image.AxesImage at 0x1e21da62ac0>"
      ]
     },
     "execution_count": 6,
     "metadata": {},
     "output_type": "execute_result"
    },
    {
     "data": {
      "image/png": "[encoded data removed]",
      "text/plain": [
       "<Figure size 432x288 with 1 Axes>"
      ]
     },
     "metadata": {
      "needs_background": "light"
     },
     "output_type": "display_data"
    }
   ],
   "source": [
    "plt.imshow(X_train_full[10])"
   ]
  },
  {
   "cell_type": "code",
   "execution_count": 7,
   "metadata": {
    "ExecuteTime": {
     "end_time": "2021-05-17T08:59:02.360499Z",
     "start_time": "2021-05-17T08:59:02.343543Z"
    }
   },
   "outputs": [],
   "source": [
    "class_names = [\"T-shirt/top\" ,\"Trouser\"]"
   ]
  },
  {
   "cell_type": "code",
   "execution_count": 8,
   "metadata": {
    "ExecuteTime": {
     "end_time": "2021-05-17T08:59:10.249697Z",
     "start_time": "2021-05-17T08:59:10.106296Z"
    }
   },
   "outputs": [
    {
     "data": {
      "text/plain": [
       "<matplotlib.image.AxesImage at 0x1e21d72a190>"
      ]
     },
     "execution_count": 8,
     "metadata": {},
     "output_type": "execute_result"
    },
    {
     "data": {
      "image/png": "[encoded data removed]",
      "text/plain": [
       "<Figure size 432x288 with 1 Axes>"
      ]
     },
     "metadata": {
      "needs_background": "light"
     },
     "output_type": "display_data"
    }
   ],
   "source": [
    "plt.imshow(X_train_full[4])"
   ]
  },
  {
   "cell_type": "code",
   "execution_count": 14,
   "metadata": {
    "ExecuteTime": {
     "end_time": "2021-05-17T09:00:43.923543Z",
     "start_time": "2021-05-17T09:00:43.910581Z"
    }
   },
   "outputs": [
    {
     "data": {
      "text/plain": [
       "'T-shirt/top'"
      ]
     },
     "execution_count": 14,
     "metadata": {},
     "output_type": "execute_result"
    }
   ],
   "source": [
    "class_names[y_train_full[1]]"
   ]
  },
  {
   "cell_type": "code",
   "execution_count": 23,
   "metadata": {
    "ExecuteTime": {
     "end_time": "2021-05-17T09:29:09.355620Z",
     "start_time": "2021-05-17T09:29:09.336682Z"
    }
   },
   "outputs": [
    {
     "data": {
      "text/plain": [
       "'Pullover'"
      ]
     },
     "execution_count": 23,
     "metadata": {},
     "output_type": "execute_result"
    }
   ],
   "source": [
    "class_names[y_train_full[5]]"
   ]
  },
  {
   "cell_type": "code",
   "execution_count": 22,
   "metadata": {
    "ExecuteTime": {
     "end_time": "2021-05-17T09:28:33.416123Z",
     "start_time": "2021-05-17T09:28:33.181996Z"
    }
   },
   "outputs": [],
   "source": [
    "X_train_n = X_train_full/255.0\n",
    "X_test_n = X_test/255.0\n",
    "X_valid, X_train = X_train_n[:5000], X_train_n[5000:]\n",
    "y_valid , y_train = y_train_full[:5000], y_train_full[5000:]\n",
    "X_test = X_test_n"
   ]
  },
  {
   "cell_type": "code",
   "execution_count": 24,
   "metadata": {
    "ExecuteTime": {
     "end_time": "2021-05-17T09:49:56.461417Z",
     "start_time": "2021-05-17T09:49:56.315032Z"
    }
   },
   "outputs": [
    {
     "name": "stdout",
     "output_type": "stream",
     "text": [
      "Model: \"sequential\"\n",
      "_________________________________________________________________\n",
      "Layer (type)                 Output Shape              Param #   \n",
      "=================================================================\n",
      "flatten (Flatten)            (None, 784)               0         \n",
      "_________________________________________________________________\n",
      "dense (Dense)                (None, 300)               235500    \n",
      "_________________________________________________________________\n",
      "dense_1 (Dense)              (None, 100)               30100     \n",
      "_________________________________________________________________\n",
      "dense_2 (Dense)              (None, 10)                1010      \n",
      "=================================================================\n",
      "Total params: 266,610\n",
      "Trainable params: 266,610\n",
      "Non-trainable params: 0\n",
      "_________________________________________________________________\n"
     ]
    }
   ],
   "source": [
    "model = keras.models.Sequential()\n",
    "model.add(keras.layers.Flatten(input_shape = [28,28]))\n",
    "model.add(keras.layers.Dense(300,activation = 'relu'))\n",
    "model.add(keras.layers.Dense(100,activation = 'relu'))\n",
    "model.add(keras.layers.Dense(10,activation = 'softmax'))\n",
    "model.summary()"
   ]
  },
  {
   "cell_type": "code",
   "execution_count": 2,
   "metadata": {
    "ExecuteTime": {
     "end_time": "2021-05-17T11:38:18.449927Z",
     "start_time": "2021-05-17T11:38:14.965975Z"
    }
   },
   "outputs": [
    {
     "name": "stdout",
     "output_type": "stream",
     "text": [
      "Model: \"sequential\"\n",
      "_________________________________________________________________\n",
      "Layer (type)                 Output Shape              Param #   \n",
      "=================================================================\n",
      "flatten (Flatten)            (None, 784)               0         \n",
      "_________________________________________________________________\n",
      "dense (Dense)                (None, 300)               235500    \n",
      "_________________________________________________________________\n",
      "dense_1 (Dense)              (None, 100)               30100     \n",
      "_________________________________________________________________\n",
      "dense_2 (Dense)              (None, 10)                1010      \n",
      "=================================================================\n",
      "Total params: 266,610\n",
      "Trainable params: 266,610\n",
      "Non-trainable params: 0\n",
      "_________________________________________________________________\n"
     ]
    },
    {
     "data": {
      "image/png": "[encoded data removed]",
      "text/plain": [
       "<Figure size 432x288 with 1 Axes>"
      ]
     },
     "metadata": {
      "needs_background": "light"
     },
     "output_type": "display_data"
    }
   ],
   "source": [
    "import numpy as np\n",
    "import pandas as pd\n",
    "%matplotlib inline\n",
    "import matplotlib as mpl\n",
    "import matplotlib.pyplot as plt\n",
    "import tensorflow as tf\n",
    "from tensorflow import keras\n",
    "fashion_mnist = keras.datasets.fashion_mnist\n",
    "(X_train_full, y_train_full), (X_test, y_test) = fashion_mnist.load_data()\n",
    "plt.imshow(X_train_full[1])\n",
    "class_names = ['T-shirt/top', 'Trouser', 'Pullover', 'Dress', 'Coat', 'Sandal', 'Shirt', 'Sneaker', 'Bag', 'Ankle boot']\n",
    "X_train_n = X_train_full/255.0\n",
    "X_test_n = X_test/255.0\n",
    "X_valid, X_train = X_train_n[:5000], X_train_n[5000:]\n",
    "y_valid , y_train = y_train_full[:5000], y_train_full[5000:]\n",
    "X_test = X_test_n\n",
    "model = keras.models.Sequential()\n",
    "model.add(keras.layers.Flatten(input_shape = [28,28]))\n",
    "model.add(keras.layers.Dense(300,activation = 'relu'))\n",
    "model.add(keras.layers.Dense(100,activation = 'relu'))\n",
    "model.add(keras.layers.Dense(10,activation = 'softmax'))\n",
    "model.summary()"
   ]
  },
  {
   "cell_type": "code",
   "execution_count": 3,
   "metadata": {
    "ExecuteTime": {
     "end_time": "2021-05-17T11:38:23.778848Z",
     "start_time": "2021-05-17T11:38:22.044615Z"
    }
   },
   "outputs": [
    {
     "data": {
      "image/png": "[encoded data removed]",
      "text/plain": [
       "<IPython.core.display.Image object>"
      ]
     },
     "execution_count": 3,
     "metadata": {},
     "output_type": "execute_result"
    }
   ],
   "source": [
    "import pydot\n",
    "keras.utils.plot_model(model)"
   ]
  },
  {
   "cell_type": "code",
   "execution_count": 5,
   "metadata": {
    "ExecuteTime": {
     "end_time": "2021-05-17T11:40:03.045274Z",
     "start_time": "2021-05-17T11:40:03.035306Z"
    }
   },
   "outputs": [],
   "source": [
    "weights, biases = model.layers[1].get_weights()"
   ]
  },
  {
   "cell_type": "code",
   "execution_count": 7,
   "metadata": {
    "ExecuteTime": {
     "end_time": "2021-05-17T11:40:21.277809Z",
     "start_time": "2021-05-17T11:40:21.256830Z"
    }
   },
   "outputs": [
    {
     "data": {
      "text/plain": [
       "(784, 300)"
      ]
     },
     "execution_count": 7,
     "metadata": {},
     "output_type": "execute_result"
    }
   ],
   "source": [
    "weights.shape\n"
   ]
  },
  {
   "cell_type": "code",
   "execution_count": 9,
   "metadata": {
    "ExecuteTime": {
     "end_time": "2021-05-17T11:40:42.902762Z",
     "start_time": "2021-05-17T11:40:42.888788Z"
    }
   },
   "outputs": [
    {
     "data": {
      "text/plain": [
       "(300,)"
      ]
     },
     "execution_count": 9,
     "metadata": {},
     "output_type": "execute_result"
    }
   ],
   "source": [
    "biases.shape"
   ]
  },
  {
   "cell_type": "code",
   "execution_count": 10,
   "metadata": {
    "ExecuteTime": {
     "end_time": "2021-05-17T11:45:53.581162Z",
     "start_time": "2021-05-17T11:45:53.561198Z"
    }
   },
   "outputs": [],
   "source": [
    "model.compile(loss = 'sparse_categorical_crossentropy', optimizer = 'sgd', metrics=['accuracy'])"
   ]
  },
  {
   "cell_type": "code",
   "execution_count": 11,
   "metadata": {
    "ExecuteTime": {
     "end_time": "2021-05-17T11:49:14.436039Z",
     "start_time": "2021-05-17T11:47:49.017248Z"
    }
   },
   "outputs": [
    {
     "name": "stdout",
     "output_type": "stream",
     "text": [
      "Epoch 1/30\n",
      "1719/1719 [==============================] - 3s 2ms/step - loss: 0.7034 - accuracy: 0.7676 - val_loss: 0.5117 - val_accuracy: 0.8174\n",
      "Epoch 2/30\n",
      "1719/1719 [==============================] - 3s 2ms/step - loss: 0.4834 - accuracy: 0.8314 - val_loss: 0.4389 - val_accuracy: 0.8512\n",
      "Epoch 3/30\n",
      "1719/1719 [==============================] - 3s 1ms/step - loss: 0.4417 - accuracy: 0.8450 - val_loss: 0.4156 - val_accuracy: 0.8580\n",
      "Epoch 4/30\n",
      "1719/1719 [==============================] - 3s 2ms/step - loss: 0.4152 - accuracy: 0.8546 - val_loss: 0.4089 - val_accuracy: 0.8548\n",
      "Epoch 5/30\n",
      "1719/1719 [==============================] - 3s 2ms/step - loss: 0.3952 - accuracy: 0.8607 - val_loss: 0.3960 - val_accuracy: 0.8620\n",
      "Epoch 6/30\n",
      "1719/1719 [==============================] - 3s 2ms/step - loss: 0.3784 - accuracy: 0.8675 - val_loss: 0.3679 - val_accuracy: 0.8724\n",
      "Epoch 7/30\n",
      "1719/1719 [==============================] - 3s 2ms/step - loss: 0.3664 - accuracy: 0.8717 - val_loss: 0.3756 - val_accuracy: 0.8640\n",
      "Epoch 8/30\n",
      "1719/1719 [==============================] - 3s 2ms/step - loss: 0.3544 - accuracy: 0.8751 - val_loss: 0.3599 - val_accuracy: 0.8724\n",
      "Epoch 9/30\n",
      "1719/1719 [==============================] - 3s 2ms/step - loss: 0.3438 - accuracy: 0.8784 - val_loss: 0.3506 - val_accuracy: 0.8786\n",
      "Epoch 10/30\n",
      "1719/1719 [==============================] - 3s 2ms/step - loss: 0.3340 - accuracy: 0.8805 - val_loss: 0.3526 - val_accuracy: 0.8774\n",
      "Epoch 11/30\n",
      "1719/1719 [==============================] - 3s 2ms/step - loss: 0.3263 - accuracy: 0.8834 - val_loss: 0.3376 - val_accuracy: 0.8806\n",
      "Epoch 12/30\n",
      "1719/1719 [==============================] - 3s 2ms/step - loss: 0.3173 - accuracy: 0.8867 - val_loss: 0.3379 - val_accuracy: 0.8802\n",
      "Epoch 13/30\n",
      "1719/1719 [==============================] - 3s 2ms/step - loss: 0.3100 - accuracy: 0.8889 - val_loss: 0.3467 - val_accuracy: 0.8770\n",
      "Epoch 14/30\n",
      "1719/1719 [==============================] - 3s 1ms/step - loss: 0.3035 - accuracy: 0.8906 - val_loss: 0.3442 - val_accuracy: 0.8754\n",
      "Epoch 15/30\n",
      "1719/1719 [==============================] - 3s 2ms/step - loss: 0.2962 - accuracy: 0.8940 - val_loss: 0.3207 - val_accuracy: 0.8880\n",
      "Epoch 16/30\n",
      "1719/1719 [==============================] - 3s 2ms/step - loss: 0.2901 - accuracy: 0.8955 - val_loss: 0.3353 - val_accuracy: 0.8814\n",
      "Epoch 17/30\n",
      "1719/1719 [==============================] - 3s 2ms/step - loss: 0.2835 - accuracy: 0.8984 - val_loss: 0.3139 - val_accuracy: 0.8906\n",
      "Epoch 18/30\n",
      "1719/1719 [==============================] - 3s 2ms/step - loss: 0.2781 - accuracy: 0.8998 - val_loss: 0.3159 - val_accuracy: 0.8888\n",
      "Epoch 19/30\n",
      "1719/1719 [==============================] - 3s 1ms/step - loss: 0.2725 - accuracy: 0.9016 - val_loss: 0.3101 - val_accuracy: 0.8902\n",
      "Epoch 20/30\n",
      "1719/1719 [==============================] - 3s 2ms/step - loss: 0.2681 - accuracy: 0.9028 - val_loss: 0.3236 - val_accuracy: 0.8882\n",
      "Epoch 21/30\n",
      "1719/1719 [==============================] - 3s 2ms/step - loss: 0.2630 - accuracy: 0.9051 - val_loss: 0.3159 - val_accuracy: 0.8866\n",
      "Epoch 22/30\n",
      "1719/1719 [==============================] - 3s 2ms/step - loss: 0.2589 - accuracy: 0.9061 - val_loss: 0.3163 - val_accuracy: 0.8878\n",
      "Epoch 23/30\n",
      "1719/1719 [==============================] - 3s 2ms/step - loss: 0.2535 - accuracy: 0.9080 - val_loss: 0.3164 - val_accuracy: 0.8866\n",
      "Epoch 24/30\n",
      "1719/1719 [==============================] - 3s 2ms/step - loss: 0.2489 - accuracy: 0.9103 - val_loss: 0.3032 - val_accuracy: 0.8922\n",
      "Epoch 25/30\n",
      "1719/1719 [==============================] - 3s 2ms/step - loss: 0.2447 - accuracy: 0.9131 - val_loss: 0.3071 - val_accuracy: 0.8886\n",
      "Epoch 26/30\n",
      "1719/1719 [==============================] - 3s 2ms/step - loss: 0.2407 - accuracy: 0.9139 - val_loss: 0.2943 - val_accuracy: 0.8922\n",
      "Epoch 27/30\n",
      "1719/1719 [==============================] - 3s 2ms/step - loss: 0.2357 - accuracy: 0.9154 - val_loss: 0.3207 - val_accuracy: 0.8836\n",
      "Epoch 28/30\n",
      "1719/1719 [==============================] - 3s 2ms/step - loss: 0.2324 - accuracy: 0.9162 - val_loss: 0.3011 - val_accuracy: 0.8914\n",
      "Epoch 29/30\n",
      "1719/1719 [==============================] - 3s 1ms/step - loss: 0.2290 - accuracy: 0.9188 - val_loss: 0.2923 - val_accuracy: 0.8930\n",
      "Epoch 30/30\n",
      "1719/1719 [==============================] - 3s 2ms/step - loss: 0.2260 - accuracy: 0.9196 - val_loss: 0.3059 - val_accuracy: 0.8868\n"
     ]
    }
   ],
   "source": [
    "model_history = model.fit(X_train, y_train, epochs= 30, validation_data=(X_valid, y_valid))"
   ]
  },
  {
   "cell_type": "code",
   "execution_count": 1,
   "metadata": {
    "ExecuteTime": {
     "end_time": "2021-05-17T11:53:01.292781Z",
     "start_time": "2021-05-17T11:52:58.133183Z"
    }
   },
   "outputs": [
    {
     "data": {
      "image/png": "[encoded data removed]",
      "text/plain": [
       "<Figure size 432x288 with 1 Axes>"
      ]
     },
     "metadata": {
      "needs_background": "light"
     },
     "output_type": "display_data"
    }
   ],
   "source": [
    "import numpy as np\n",
    "import pandas as pd\n",
    "%matplotlib inline\n",
    "import matplotlib as mpl\n",
    "import matplotlib.pyplot as plt\n",
    "import tensorflow as tf\n",
    "from tensorflow import keras\n",
    "fashion_mnist = keras.datasets.fashion_mnist\n",
    "(X_train_full, y_train_full), (X_test, y_test) = fashion_mnist.load_data()\n",
    "plt.imshow(X_train_full[1])\n",
    "class_names = ['T-shirt/top', 'Trouser', 'Pullover', 'Dress', 'Coat', 'Sandal', 'Shirt', 'Sneaker', 'Bag', 'Ankle boot']"
   ]
  },
  {
   "cell_type": "code",
   "execution_count": 2,
   "metadata": {
    "ExecuteTime": {
     "end_time": "2021-05-17T11:53:26.897268Z",
     "start_time": "2021-05-17T11:53:26.740438Z"
    }
   },
   "outputs": [],
   "source": [
    "X_train_n = X_train_full/255.0\n",
    "X_test_n = X_test/255.0"
   ]
  },
  {
   "cell_type": "code",
   "execution_count": 3,
   "metadata": {
    "ExecuteTime": {
     "end_time": "2021-05-17T11:53:45.676833Z",
     "start_time": "2021-05-17T11:53:45.668816Z"
    }
   },
   "outputs": [],
   "source": [
    "X_valid, X_train = X_train_n[:5000], X_train_n[5000:]\n",
    "y_valid , y_train = y_train_full[:5000], y_train_full[5000:]\n",
    "X_test = X_test_n"
   ]
  },
  {
   "cell_type": "code",
   "execution_count": 4,
   "metadata": {
    "ExecuteTime": {
     "end_time": "2021-05-17T11:53:53.448351Z",
     "start_time": "2021-05-17T11:53:53.442348Z"
    }
   },
   "outputs": [
    {
     "data": {
      "text/plain": [
       "(5000, 28, 28)"
      ]
     },
     "execution_count": 4,
     "metadata": {},
     "output_type": "execute_result"
    }
   ],
   "source": [
    "X_valid.shape"
   ]
  },
  {
   "cell_type": "code",
   "execution_count": 5,
   "metadata": {
    "ExecuteTime": {
     "end_time": "2021-05-17T11:54:11.296056Z",
     "start_time": "2021-05-17T11:54:11.289075Z"
    }
   },
   "outputs": [
    {
     "data": {
      "text/plain": [
       "(55000, 28, 28)"
      ]
     },
     "execution_count": 5,
     "metadata": {},
     "output_type": "execute_result"
    }
   ],
   "source": [
    "X_train.shape"
   ]
  },
  {
   "cell_type": "code",
   "execution_count": 6,
   "metadata": {
    "ExecuteTime": {
     "end_time": "2021-05-17T11:54:39.980759Z",
     "start_time": "2021-05-17T11:54:39.712685Z"
    }
   },
   "outputs": [
    {
     "name": "stdout",
     "output_type": "stream",
     "text": [
      "Model: \"sequential\"\n",
      "_________________________________________________________________\n",
      "Layer (type)                 Output Shape              Param #   \n",
      "=================================================================\n",
      "flatten (Flatten)            (None, 784)               0         \n",
      "_________________________________________________________________\n",
      "dense (Dense)                (None, 300)               235500    \n",
      "_________________________________________________________________\n",
      "dense_1 (Dense)              (None, 100)               30100     \n",
      "_________________________________________________________________\n",
      "dense_2 (Dense)              (None, 10)                1010      \n",
      "=================================================================\n",
      "Total params: 266,610\n",
      "Trainable params: 266,610\n",
      "Non-trainable params: 0\n",
      "_________________________________________________________________\n"
     ]
    },
    {
     "data": {
      "text/plain": [
       "(300,)"
      ]
     },
     "execution_count": 6,
     "metadata": {},
     "output_type": "execute_result"
    }
   ],
   "source": [
    "model = keras.models.Sequential()\n",
    "model.add(keras.layers.Flatten(input_shape = [28,28]))\n",
    "model.add(keras.layers.Dense(300,activation = 'relu'))\n",
    "model.add(keras.layers.Dense(100,activation = 'relu'))\n",
    "model.add(keras.layers.Dense(10,activation = 'softmax'))\n",
    "model.summary()\n",
    "import pydot\n",
    "keras.utils.plot_model(model)\n",
    "weights, biases = model.layers[1].get_weights()\n",
    "weights.shape\n",
    "biases.shape"
   ]
  },
  {
   "cell_type": "code",
   "execution_count": 8,
   "metadata": {
    "ExecuteTime": {
     "end_time": "2021-05-17T12:29:04.134892Z",
     "start_time": "2021-05-17T11:58:24.657264Z"
    }
   },
   "outputs": [
    {
     "name": "stdout",
     "output_type": "stream",
     "text": [
      "Epoch 1/30\n",
      "55000/55000 [==============================] - 60s 1ms/step - loss: 0.4509 - accuracy: 0.8332 - val_loss: 0.4029 - val_accuracy: 0.8530\n",
      "Epoch 2/30\n",
      "55000/55000 [==============================] - 62s 1ms/step - loss: 0.3638 - accuracy: 0.8647 - val_loss: 0.3674 - val_accuracy: 0.8606\n",
      "Epoch 3/30\n",
      "55000/55000 [==============================] - 65s 1ms/step - loss: 0.3343 - accuracy: 0.8772 - val_loss: 0.3600 - val_accuracy: 0.8714\n",
      "Epoch 4/30\n",
      "55000/55000 [==============================] - 63s 1ms/step - loss: 0.3130 - accuracy: 0.8831 - val_loss: 0.3748 - val_accuracy: 0.8588\n",
      "Epoch 5/30\n",
      "55000/55000 [==============================] - 59s 1ms/step - loss: 0.2963 - accuracy: 0.8892 - val_loss: 0.3174 - val_accuracy: 0.8830\n",
      "Epoch 6/30\n",
      "55000/55000 [==============================] - 55s 996us/step - loss: 0.2827 - accuracy: 0.8945 - val_loss: 0.3108 - val_accuracy: 0.8876\n",
      "Epoch 7/30\n",
      "55000/55000 [==============================] - 51s 931us/step - loss: 0.2720 - accuracy: 0.8969 - val_loss: 0.3986 - val_accuracy: 0.8688\n",
      "Epoch 8/30\n",
      "55000/55000 [==============================] - 51s 927us/step - loss: 0.2667 - accuracy: 0.8980 - val_loss: 0.3140 - val_accuracy: 0.8882\n",
      "Epoch 9/30\n",
      "55000/55000 [==============================] - 65s 1ms/step - loss: 0.2584 - accuracy: 0.9022 - val_loss: 0.3008 - val_accuracy: 0.8898\n",
      "Epoch 10/30\n",
      "55000/55000 [==============================] - 65s 1ms/step - loss: 0.2506 - accuracy: 0.9055 - val_loss: 0.3496 - val_accuracy: 0.8854\n",
      "Epoch 11/30\n",
      "55000/55000 [==============================] - 65s 1ms/step - loss: 0.2403 - accuracy: 0.9084 - val_loss: 0.3340 - val_accuracy: 0.8856\n",
      "Epoch 12/30\n",
      "55000/55000 [==============================] - 65s 1ms/step - loss: 0.2381 - accuracy: 0.9104 - val_loss: 0.3230 - val_accuracy: 0.8896\n",
      "Epoch 13/30\n",
      "55000/55000 [==============================] - 67s 1ms/step - loss: 0.2338 - accuracy: 0.9111 - val_loss: 0.3308 - val_accuracy: 0.8888\n",
      "Epoch 14/30\n",
      "55000/55000 [==============================] - 62s 1ms/step - loss: 0.2243 - accuracy: 0.9148 - val_loss: 0.3380 - val_accuracy: 0.8874\n",
      "Epoch 15/30\n",
      "55000/55000 [==============================] - 62s 1ms/step - loss: 0.2203 - accuracy: 0.9166 - val_loss: 0.3526 - val_accuracy: 0.8894\n",
      "Epoch 16/30\n",
      "55000/55000 [==============================] - 63s 1ms/step - loss: 0.2134 - accuracy: 0.9190 - val_loss: 0.3361 - val_accuracy: 0.8878\n",
      "Epoch 17/30\n",
      "55000/55000 [==============================] - 67s 1ms/step - loss: 0.2103 - accuracy: 0.9201 - val_loss: 0.3568 - val_accuracy: 0.8812\n",
      "Epoch 18/30\n",
      "55000/55000 [==============================] - 63s 1ms/step - loss: 0.2063 - accuracy: 0.9214 - val_loss: 0.3562 - val_accuracy: 0.8874\n",
      "Epoch 19/30\n",
      "55000/55000 [==============================] - 60s 1ms/step - loss: 0.2022 - accuracy: 0.9236 - val_loss: 0.3931 - val_accuracy: 0.8812\n",
      "Epoch 20/30\n",
      "55000/55000 [==============================] - 66s 1ms/step - loss: 0.2006 - accuracy: 0.9241 - val_loss: 0.3604 - val_accuracy: 0.8936\n",
      "Epoch 21/30\n",
      "55000/55000 [==============================] - 61s 1ms/step - loss: 0.1943 - accuracy: 0.9255 - val_loss: 0.3681 - val_accuracy: 0.8902\n",
      "Epoch 22/30\n",
      "55000/55000 [==============================] - 61s 1ms/step - loss: 0.1910 - accuracy: 0.9277 - val_loss: 0.4093 - val_accuracy: 0.8810\n",
      "Epoch 23/30\n",
      "55000/55000 [==============================] - 59s 1ms/step - loss: 0.1902 - accuracy: 0.9275 - val_loss: 0.3906 - val_accuracy: 0.8890\n",
      "Epoch 24/30\n",
      "55000/55000 [==============================] - 59s 1ms/step - loss: 0.1844 - accuracy: 0.9302 - val_loss: 0.3632 - val_accuracy: 0.8920\n",
      "Epoch 25/30\n",
      "55000/55000 [==============================] - 59s 1ms/step - loss: 0.1801 - accuracy: 0.9333 - val_loss: 0.3738 - val_accuracy: 0.8898\n",
      "Epoch 26/30\n",
      "55000/55000 [==============================] - 60s 1ms/step - loss: 0.1757 - accuracy: 0.9321 - val_loss: 0.4293 - val_accuracy: 0.8904\n",
      "Epoch 27/30\n",
      "55000/55000 [==============================] - 60s 1ms/step - loss: 0.1747 - accuracy: 0.9329 - val_loss: 0.4057 - val_accuracy: 0.8874\n",
      "Epoch 28/30\n",
      "55000/55000 [==============================] - 60s 1ms/step - loss: 0.1780 - accuracy: 0.9315 - val_loss: 0.4102 - val_accuracy: 0.8880\n",
      "Epoch 29/30\n",
      "55000/55000 [==============================] - 59s 1ms/step - loss: 0.1709 - accuracy: 0.9347 - val_loss: 0.3993 - val_accuracy: 0.8892\n",
      "Epoch 30/30\n",
      "55000/55000 [==============================] - 67s 1ms/step - loss: 0.1677 - accuracy: 0.9365 - val_loss: 0.4254 - val_accuracy: 0.8868\n"
     ]
    }
   ],
   "source": [
    "model.compile(loss = 'sparse_categorical_crossentropy', optimizer = 'sgd', metrics=['accuracy'])\n",
    "model_history = model.fit(X_train, y_train, batch_size=1, epochs= 30, validation_data=(X_valid, y_valid))"
   ]
  },
  {
   "cell_type": "code",
   "execution_count": 1,
   "metadata": {
    "ExecuteTime": {
     "end_time": "2021-05-17T12:30:53.474643Z",
     "start_time": "2021-05-17T12:30:53.255165Z"
    }
   },
   "outputs": [
    {
     "ename": "NameError",
     "evalue": "name 'model' is not defined",
     "output_type": "error",
     "traceback": [
      "\u001b[1;31m---------------------------------------------------------------------------\u001b[0m",
      "\u001b[1;31mNameError\u001b[0m                                 Traceback (most recent call last)",
      "\u001b[1;32m<ipython-input-1-d4c1edc7f25d>\u001b[0m in \u001b[0;36m<module>\u001b[1;34m\u001b[0m\n\u001b[1;32m----> 1\u001b[1;33m \u001b[0mmodel\u001b[0m\u001b[1;33m.\u001b[0m\u001b[0mcompile\u001b[0m\u001b[1;33m(\u001b[0m\u001b[0mloss\u001b[0m \u001b[1;33m=\u001b[0m \u001b[1;34m'sparse_categorical_crossentropy'\u001b[0m\u001b[1;33m,\u001b[0m \u001b[0moptimizer\u001b[0m \u001b[1;33m=\u001b[0m \u001b[1;34m'sgd'\u001b[0m\u001b[1;33m,\u001b[0m \u001b[0mmetrics\u001b[0m\u001b[1;33m=\u001b[0m\u001b[1;33m[\u001b[0m\u001b[1;34m'accuracy'\u001b[0m\u001b[1;33m]\u001b[0m\u001b[1;33m)\u001b[0m\u001b[1;33m\u001b[0m\u001b[1;33m\u001b[0m\u001b[0m\n\u001b[0m\u001b[0;32m      2\u001b[0m \u001b[0mmodel_history\u001b[0m \u001b[1;33m=\u001b[0m \u001b[0mmodel\u001b[0m\u001b[1;33m.\u001b[0m\u001b[0mfit\u001b[0m\u001b[1;33m(\u001b[0m\u001b[0mX_train\u001b[0m\u001b[1;33m,\u001b[0m \u001b[0my_train\u001b[0m\u001b[1;33m,\u001b[0m\u001b[0mbatch_size\u001b[0m\u001b[1;33m=\u001b[0m\u001b[1;36m1\u001b[0m\u001b[1;33m,\u001b[0m \u001b[0mepochs\u001b[0m\u001b[1;33m=\u001b[0m \u001b[1;36m3\u001b[0m\u001b[1;33m,\u001b[0m \u001b[0mvalidation_data\u001b[0m\u001b[1;33m=\u001b[0m\u001b[1;33m(\u001b[0m\u001b[0mX_valid\u001b[0m\u001b[1;33m,\u001b[0m \u001b[0my_valid\u001b[0m\u001b[1;33m)\u001b[0m\u001b[1;33m)\u001b[0m\u001b[1;33m\u001b[0m\u001b[1;33m\u001b[0m\u001b[0m\n",
      "\u001b[1;31mNameError\u001b[0m: name 'model' is not defined"
     ]
    }
   ],
   "source": [
    "\n",
    "model.compile(loss = 'sparse_categorical_crossentropy', optimizer = 'sgd', metrics=['accuracy'])\n",
    "model_history = model.fit(X_train, y_train,batch_size=1, epochs= 3, validation_data=(X_valid, y_valid))\n"
   ]
  },
  {
   "cell_type": "code",
   "execution_count": 2,
   "metadata": {
    "ExecuteTime": {
     "end_time": "2021-05-17T12:36:04.450257Z",
     "start_time": "2021-05-17T12:31:09.579742Z"
    }
   },
   "outputs": [
    {
     "name": "stdout",
     "output_type": "stream",
     "text": [
      "Model: \"sequential\"\n",
      "_________________________________________________________________\n",
      "Layer (type)                 Output Shape              Param #   \n",
      "=================================================================\n",
      "flatten (Flatten)            (None, 784)               0         \n",
      "_________________________________________________________________\n",
      "dense (Dense)                (None, 300)               235500    \n",
      "_________________________________________________________________\n",
      "dense_1 (Dense)              (None, 100)               30100     \n",
      "_________________________________________________________________\n",
      "dense_2 (Dense)              (None, 10)                1010      \n",
      "=================================================================\n",
      "Total params: 266,610\n",
      "Trainable params: 266,610\n",
      "Non-trainable params: 0\n",
      "_________________________________________________________________\n",
      "Epoch 1/5\n",
      "55000/55000 [==============================] - 59s 1ms/step - loss: 0.5112 - accuracy: 0.8130 - val_loss: 0.3783 - val_accuracy: 0.8600\n",
      "Epoch 2/5\n",
      "55000/55000 [==============================] - 58s 1ms/step - loss: 0.3909 - accuracy: 0.8535 - val_loss: 0.3687 - val_accuracy: 0.8622\n",
      "Epoch 3/5\n",
      "55000/55000 [==============================] - 57s 1ms/step - loss: 0.3571 - accuracy: 0.8677 - val_loss: 0.3691 - val_accuracy: 0.8670\n",
      "Epoch 4/5\n",
      "55000/55000 [==============================] - 57s 1ms/step - loss: 0.3335 - accuracy: 0.8754 - val_loss: 0.3443 - val_accuracy: 0.8672\n",
      "Epoch 5/5\n",
      "55000/55000 [==============================] - 59s 1ms/step - loss: 0.3144 - accuracy: 0.8841 - val_loss: 0.3457 - val_accuracy: 0.8778\n"
     ]
    },
    {
     "data": {
      "image/png": "[encoded data removed]",
      "text/plain": [
       "<Figure size 432x288 with 1 Axes>"
      ]
     },
     "metadata": {
      "needs_background": "light"
     },
     "output_type": "display_data"
    },
    {
     "data": {
      "image/png": "[encoded data removed]",
      "text/plain": [
       "<Figure size 576x360 with 1 Axes>"
      ]
     },
     "metadata": {
      "needs_background": "light"
     },
     "output_type": "display_data"
    }
   ],
   "source": [
    "import numpy as np\n",
    "import pandas as pd\n",
    "%matplotlib inline\n",
    "import matplotlib as mpl\n",
    "import matplotlib.pyplot as plt\n",
    "import tensorflow as tf\n",
    "from tensorflow import keras\n",
    "fashion_mnist = keras.datasets.fashion_mnist\n",
    "(X_train_full, y_train_full), (X_test, y_test) = fashion_mnist.load_data()\n",
    "plt.imshow(X_train_full[1])\n",
    "class_names = ['T-shirt/top', 'Trouser', 'Pullover', 'Dress', 'Coat', 'Sandal', 'Shirt', 'Sneaker', 'Bag', 'Ankle boot']\n",
    "X_train_n = X_train_full/255.0\n",
    "X_test_n = X_test/255.0\n",
    "X_valid, X_train = X_train_n[:5000], X_train_n[5000:]\n",
    "y_valid , y_train = y_train_full[:5000], y_train_full[5000:]\n",
    "X_test = X_test_n\n",
    "model = keras.models.Sequential()\n",
    "model.add(keras.layers.Flatten(input_shape = [28,28]))\n",
    "model.add(keras.layers.Dense(300,activation = 'relu'))\n",
    "model.add(keras.layers.Dense(100,activation = 'relu'))\n",
    "model.add(keras.layers.Dense(10,activation = 'softmax'))\n",
    "model.summary()\n",
    "import pydot\n",
    "keras.utils.plot_model(model)\n",
    "weights, biases = model.layers[1].get_weights()\n",
    "weights.shape\n",
    "biases.shape\n",
    "model.compile(loss = 'sparse_categorical_crossentropy', optimizer = 'sgd', metrics=['accuracy'])\n",
    "model_history = model.fit(X_train, y_train,batch_size=1, epochs= 5, validation_data=(X_valid, y_valid))\n",
    "model_history.params\n",
    "model_history.history\n",
    "pd.DataFrame(model_history.history).plot(figsize=(8,5))\n",
    "plt.grid(True)\n",
    "plt.gca().set_ylim(0,1)\n",
    "plt.show()"
   ]
  },
  {
   "cell_type": "code",
   "execution_count": null,
   "metadata": {},
   "outputs": [],
   "source": []
  }
 ],
 "metadata": {
  "kernelspec": {
   "display_name": "Python 3",
   "language": "python",
   "name": "python3"
  },
  "language_info": {
   "codemirror_mode": {
    "name": "ipython",
    "version": 3
   },
   "file_extension": ".py",
   "mimetype": "text/x-python",
   "name": "python",
   "nbconvert_exporter": "python",
   "pygments_lexer": "ipython3",
   "version": "3.8.8"
  },
  "latex_envs": {
   "LaTeX_envs_menu_present": true,
   "autoclose": false,
   "autocomplete": true,
   "bibliofile": "biblio.bib",
   "cite_by": "apalike",
   "current_citInitial": 1,
   "eqLabelWithNumbers": true,
   "eqNumInitial": 1,
   "hotkeys": {
    "equation": "Ctrl-E",
    "itemize": "Ctrl-I"
   },
   "labels_anchors": false,
   "latex_user_defs": false,
   "report_style_numbering": false,
   "user_envs_cfg": false
  },
  "toc": {
   "base_numbering": 1,
   "nav_menu": {},
   "number_sections": true,
   "sideBar": true,
   "skip_h1_title": false,
   "title_cell": "Table of Contents",
   "title_sidebar": "Contents",
   "toc_cell": false,
   "toc_position": {},
   "toc_section_display": true,
   "toc_window_display": false
  }
 },
 "nbformat": 4,
 "nbformat_minor": 4
}
