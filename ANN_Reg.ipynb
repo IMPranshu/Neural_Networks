{
 "cells": [
  {
   "cell_type": "code",
   "execution_count": 2,
   "id": "f153525f",
   "metadata": {
    "ExecuteTime": {
     "end_time": "2021-05-17T14:28:46.905034Z",
     "start_time": "2021-05-17T14:28:25.142496Z"
    }
   },
   "outputs": [
    {
     "name": "stdout",
     "output_type": "stream",
     "text": [
      "['MedInc', 'HouseAge', 'AveRooms', 'AveBedrms', 'Population', 'AveOccup', 'Latitude', 'Longitude']\n"
     ]
    }
   ],
   "source": [
    "import numpy as np\n",
    "import pandas as pd\n",
    "%matplotlib inline\n",
    "import matplotlib as mpl\n",
    "import matplotlib.pyplot as plt\n",
    "import tensorflow as tf\n",
    "from tensorflow import keras\n",
    "from sklearn.datasets import fetch_california_housing\n",
    "housing = fetch_california_housing()\n",
    "print(housing.feature_names)"
   ]
  },
  {
   "cell_type": "code",
   "execution_count": 5,
   "id": "b322db1f",
   "metadata": {
    "ExecuteTime": {
     "end_time": "2021-05-17T14:57:18.858984Z",
     "start_time": "2021-05-17T14:57:18.807085Z"
    }
   },
   "outputs": [
    {
     "name": "stdout",
     "output_type": "stream",
     "text": [
      "Model: \"sequential_1\"\n",
      "_________________________________________________________________\n",
      "Layer (type)                 Output Shape              Param #   \n",
      "=================================================================\n",
      "dense_3 (Dense)              (None, 30)                270       \n",
      "_________________________________________________________________\n",
      "dense_4 (Dense)              (None, 30)                930       \n",
      "_________________________________________________________________\n",
      "dense_5 (Dense)              (None, 1)                 31        \n",
      "=================================================================\n",
      "Total params: 1,231\n",
      "Trainable params: 1,231\n",
      "Non-trainable params: 0\n",
      "_________________________________________________________________\n"
     ]
    }
   ],
   "source": [
    "from sklearn.model_selection import train_test_split\n",
    "X_train_full, X_test, y_train_full, y_test = train_test_split(housing.data, housing.target, random_state=42)\n",
    "X_train, X_valid, y_train, y_valid = train_test_split(X_train_full, y_train_full, random_state=42)\n",
    "from sklearn.preprocessing import StandardScaler\n",
    "scaler = StandardScaler()\n",
    "X_train = scaler.fit_transform(X_train)\n",
    "X_valid = scaler.fit_transform(X_valid)\n",
    "X_test = scaler.fit_transform(X_test)\n",
    "np.random.seed(42)\n",
    "tf.random.set_seed(42)\n",
    "X_train.shape\n",
    "model = keras.models.Sequential([keras.layers.Dense(30, activation='relu',input_shape=[8]),keras.layers.Dense(30, activation='relu'), keras.layers.Dense(1)])\n",
    "model.summary()"
   ]
  },
  {
   "cell_type": "code",
   "execution_count": 10,
   "id": "3b57cdfb",
   "metadata": {
    "ExecuteTime": {
     "end_time": "2021-05-17T15:13:08.170106Z",
     "start_time": "2021-05-17T15:09:56.520023Z"
    }
   },
   "outputs": [
    {
     "name": "stdout",
     "output_type": "stream",
     "text": [
      "Epoch 1/20\n",
      "11610/11610 [==============================] - 9s 816us/step - loss: 0.2872 - mae: 0.3681 - val_loss: 0.3983 - val_mae: 0.4255\n",
      "Epoch 2/20\n",
      "11610/11610 [==============================] - 10s 827us/step - loss: 0.2847 - mae: 0.3672 - val_loss: 0.3803 - val_mae: 0.4238\n",
      "Epoch 3/20\n",
      "11610/11610 [==============================] - 10s 841us/step - loss: 0.2828 - mae: 0.3650 - val_loss: 0.3807 - val_mae: 0.4310\n",
      "Epoch 4/20\n",
      "11610/11610 [==============================] - 10s 830us/step - loss: 0.2824 - mae: 0.3647 - val_loss: 0.3769 - val_mae: 0.4300\n",
      "Epoch 5/20\n",
      "11610/11610 [==============================] - 10s 819us/step - loss: 0.2814 - mae: 0.3640 - val_loss: 0.3898 - val_mae: 0.4414\n",
      "Epoch 6/20\n",
      "11610/11610 [==============================] - 10s 843us/step - loss: 0.2797 - mae: 0.3630 - val_loss: 0.3885 - val_mae: 0.4292\n",
      "Epoch 7/20\n",
      "11610/11610 [==============================] - 10s 850us/step - loss: 0.2795 - mae: 0.3627 - val_loss: 0.3819 - val_mae: 0.4371\n",
      "Epoch 8/20\n",
      "11610/11610 [==============================] - 9s 812us/step - loss: 0.2785 - mae: 0.3613 - val_loss: 0.3938 - val_mae: 0.4405\n",
      "Epoch 9/20\n",
      "11610/11610 [==============================] - 9s 811us/step - loss: 0.2749 - mae: 0.3590 - val_loss: 0.3937 - val_mae: 0.4252\n",
      "Epoch 10/20\n",
      "11610/11610 [==============================] - 9s 811us/step - loss: 0.2759 - mae: 0.3603 - val_loss: 0.3683 - val_mae: 0.4283\n",
      "Epoch 11/20\n",
      "11610/11610 [==============================] - 10s 827us/step - loss: 0.2751 - mae: 0.3581 - val_loss: 0.3963 - val_mae: 0.4234\n",
      "Epoch 12/20\n",
      "11610/11610 [==============================] - 10s 837us/step - loss: 0.2794 - mae: 0.3609 - val_loss: 0.3955 - val_mae: 0.4291\n",
      "Epoch 13/20\n",
      "11610/11610 [==============================] - 10s 838us/step - loss: 0.2768 - mae: 0.3592 - val_loss: 0.3976 - val_mae: 0.4263\n",
      "Epoch 14/20\n",
      "11610/11610 [==============================] - 10s 832us/step - loss: 0.2739 - mae: 0.3574 - val_loss: 0.3929 - val_mae: 0.4239\n",
      "Epoch 15/20\n",
      "11610/11610 [==============================] - 10s 827us/step - loss: 0.2723 - mae: 0.3563 - val_loss: 0.3849 - val_mae: 0.4256\n",
      "Epoch 16/20\n",
      "11610/11610 [==============================] - 10s 834us/step - loss: 0.2714 - mae: 0.3551 - val_loss: 0.3720 - val_mae: 0.4253\n",
      "Epoch 17/20\n",
      "11610/11610 [==============================] - 10s 842us/step - loss: 0.2699 - mae: 0.3534 - val_loss: 0.3991 - val_mae: 0.4571\n",
      "Epoch 18/20\n",
      "11610/11610 [==============================] - 10s 846us/step - loss: 0.2677 - mae: 0.3522 - val_loss: 0.3868 - val_mae: 0.4228\n",
      "Epoch 19/20\n",
      "11610/11610 [==============================] - 9s 755us/step - loss: 0.2682 - mae: 0.3531 - val_loss: 0.4038 - val_mae: 0.4383\n",
      "Epoch 20/20\n",
      "11610/11610 [==============================] - 9s 775us/step - loss: 0.2669 - mae: 0.3521 - val_loss: 0.3755 - val_mae: 0.4374\n"
     ]
    }
   ],
   "source": [
    "model.compile(loss = 'mean_squared_error', optimizer = keras.optimizers.SGD(lr=1e-3), metrics=['mae'])\n",
    "model_history = model.fit(X_train, y_train,batch_size=1, epochs= 20, validation_data=(X_valid, y_valid))"
   ]
  },
  {
   "cell_type": "code",
   "execution_count": 11,
   "id": "12d1aa7f",
   "metadata": {
    "ExecuteTime": {
     "end_time": "2021-05-17T15:13:53.355386Z",
     "start_time": "2021-05-17T15:13:52.931849Z"
    }
   },
   "outputs": [
    {
     "name": "stdout",
     "output_type": "stream",
     "text": [
      "162/162 [==============================] - 0s 938us/step - loss: 0.4206 - mae: 0.4514\n"
     ]
    },
    {
     "data": {
      "image/png": "[encoded data removed]",
      "text/plain": [
       "<Figure size 576x360 with 1 Axes>"
      ]
     },
     "metadata": {
      "needs_background": "light"
     },
     "output_type": "display_data"
    }
   ],
   "source": [
    "mae_test = model.evaluate(X_test, y_test)\n",
    "model_history.history\n",
    "pd.DataFrame(model_history.history).plot(figsize=(8,5))\n",
    "plt.grid(True)\n",
    "plt.gca().set_ylim(0,1)\n",
    "plt.show()"
   ]
  },
  {
   "cell_type": "code",
   "execution_count": 12,
   "id": "363c178b",
   "metadata": {
    "ExecuteTime": {
     "end_time": "2021-05-17T15:17:37.928576Z",
     "start_time": "2021-05-17T15:17:37.800734Z"
    }
   },
   "outputs": [
    {
     "name": "stdout",
     "output_type": "stream",
     "text": [
      "WARNING:tensorflow:From <ipython-input-12-010839a2a915>:2: Sequential.predict_classes (from tensorflow.python.keras.engine.sequential) is deprecated and will be removed after 2021-01-01.\n",
      "Instructions for updating:\n",
      "Please use instead:* `np.argmax(model.predict(x), axis=-1)`,   if your model does multi-class classification   (e.g. if it uses a `softmax` last-layer activation).* `(model.predict(x) > 0.5).astype(\"int32\")`,   if your model does binary classification   (e.g. if it uses a `sigmoid` last-layer activation).\n",
      "[[1]\n",
      " [1]\n",
      " [1]]\n",
      "[0.477   0.458   5.00001]\n"
     ]
    }
   ],
   "source": [
    "X_new = X_test[:3]#insert new datasets in place of this\n",
    "y_pred = model.predict_classes(X_new)\n",
    "print(y_pred)\n",
    "print(y_test[:3])"
   ]
  },
  {
   "cell_type": "code",
   "execution_count": null,
   "id": "6315d177",
   "metadata": {},
   "outputs": [],
   "source": []
  }
 ],
 "metadata": {
  "kernelspec": {
   "display_name": "Python 3",
   "language": "python",
   "name": "python3"
  },
  "language_info": {
   "codemirror_mode": {
    "name": "ipython",
    "version": 3
   },
   "file_extension": ".py",
   "mimetype": "text/x-python",
   "name": "python",
   "nbconvert_exporter": "python",
   "pygments_lexer": "ipython3",
   "version": "3.8.8"
  },
  "latex_envs": {
   "LaTeX_envs_menu_present": true,
   "autoclose": false,
   "autocomplete": true,
   "bibliofile": "biblio.bib",
   "cite_by": "apalike",
   "current_citInitial": 1,
   "eqLabelWithNumbers": true,
   "eqNumInitial": 1,
   "hotkeys": {
    "equation": "Ctrl-E",
    "itemize": "Ctrl-I"
   },
   "labels_anchors": false,
   "latex_user_defs": false,
   "report_style_numbering": false,
   "user_envs_cfg": false
  },
  "toc": {
   "base_numbering": 1,
   "nav_menu": {},
   "number_sections": true,
   "sideBar": true,
   "skip_h1_title": false,
   "title_cell": "Table of Contents",
   "title_sidebar": "Contents",
   "toc_cell": false,
   "toc_position": {},
   "toc_section_display": true,
   "toc_window_display": false
  }
 },
 "nbformat": 4,
 "nbformat_minor": 5
}
